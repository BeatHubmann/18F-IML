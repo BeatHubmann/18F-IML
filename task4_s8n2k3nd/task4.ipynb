{
 "cells": [
  {
   "cell_type": "code",
   "execution_count": 1,
   "metadata": {
    "ExecuteTime": {
     "end_time": "2018-05-17T09:21:23.619552Z",
     "start_time": "2018-05-17T09:21:17.099945Z"
    }
   },
   "outputs": [
    {
     "name": "stderr",
     "output_type": "stream",
     "text": [
      "/usr/local/lib/python3.6/site-packages/h5py/__init__.py:36: FutureWarning: Conversion of the second argument of issubdtype from `float` to `np.floating` is deprecated. In future, it will be treated as `np.float64 == np.dtype(float).type`.\n",
      "  from ._conv import register_converters as _register_converters\n",
      "Using TensorFlow backend.\n"
     ]
    }
   ],
   "source": [
    "import tensorflow as tf\n",
    "import matplotlib.pyplot as plt\n",
    "import numpy as np\n",
    "\n",
    "import livelossplot\n",
    "\n",
    "from pandas import read_hdf\n",
    "from pandas import set_option\n",
    "from pandas import DataFrame\n",
    "\n",
    "from sklearn.ensemble import VotingClassifier\n",
    "\n",
    "from sklearn.feature_selection import f_regression\n",
    "from sklearn.feature_selection import SelectFromModel\n",
    "from sklearn.feature_selection import SelectKBest\n",
    "from sklearn.feature_selection import VarianceThreshold\n",
    "\n",
    "from sklearn.metrics import accuracy_score\n",
    "\n",
    "from sklearn.model_selection import GridSearchCV\n",
    "from sklearn.model_selection import train_test_split\n",
    "\n",
    "from sklearn.pipeline import Pipeline\n",
    "\n",
    "from sklearn.preprocessing import StandardScaler\n",
    "from sklearn.preprocessing import PolynomialFeatures\n",
    "\n",
    "from sklearn.utils import class_weight\n",
    "\n",
    "from sklearn import mixture\n",
    "from sklearn import svm"
   ]
  },
  {
   "cell_type": "markdown",
   "metadata": {},
   "source": [
    "## Step: Load and prepare data"
   ]
  },
  {
   "cell_type": "code",
   "execution_count": 2,
   "metadata": {
    "ExecuteTime": {
     "end_time": "2018-05-17T09:21:24.308775Z",
     "start_time": "2018-05-17T09:21:23.623121Z"
    },
    "scrolled": true
   },
   "outputs": [
    {
     "name": "stdout",
     "output_type": "stream",
     "text": [
      "Data loaded.\n"
     ]
    }
   ],
   "source": [
    "# Load training data HDF5 using Pandas\n",
    "train_labeled = read_hdf(\"train_labeled.h5\")\n",
    "train_unlabeled = read_hdf(\"train_unlabeled.h5\")\n",
    "\n",
    "# Load training data into arrays Y and X\n",
    "data_labeled = train_labeled.values\n",
    "data_unlabeled = train_unlabeled.values\n",
    "y, X = data_labeled[:, 0], data_labeled[:, 1:]\n",
    "X_unlabeled = data_unlabeled\n",
    "\n",
    "# Load test (challenge) data HDF5 using Pandas\n",
    "test = read_hdf(\"test.h5\")\n",
    "\n",
    "# Load test (challenge) data into array test_X\n",
    "X_challenge = test.values\n",
    "\n",
    "print('Data loaded.')"
   ]
  },
  {
   "cell_type": "code",
   "execution_count": 3,
   "metadata": {
    "ExecuteTime": {
     "end_time": "2018-05-17T09:21:24.337025Z",
     "start_time": "2018-05-17T09:21:24.316188Z"
    }
   },
   "outputs": [],
   "source": [
    "# Split given data into train and test set\n",
    "validation_size = 0.1\n",
    "seed = 7\n",
    "X_train, X_test, y_train, y_test = train_test_split(X, y, test_size=validation_size, random_state=seed)"
   ]
  },
  {
   "cell_type": "code",
   "execution_count": 4,
   "metadata": {
    "ExecuteTime": {
     "end_time": "2018-05-17T09:21:24.363648Z",
     "start_time": "2018-05-17T09:21:24.348014Z"
    }
   },
   "outputs": [],
   "source": [
    "# Make pipeline: mandatory transformations plus other experiments\n",
    "pipeline = Pipeline(memory=None,\n",
    "                    steps=[('std_scaler', StandardScaler())#,\n",
    "#                            ('poly_features', PolynomialFeatures())#,\n",
    "#                            ('anova', SelectKBest(f_regression, k=64)), #best: 64 for RandomForest, 200 for Keras\n",
    "                           ])"
   ]
  },
  {
   "cell_type": "code",
   "execution_count": 5,
   "metadata": {
    "ExecuteTime": {
     "end_time": "2018-05-17T09:21:27.166182Z",
     "start_time": "2018-05-17T09:21:27.070878Z"
    }
   },
   "outputs": [
    {
     "name": "stdout",
     "output_type": "stream",
     "text": [
      "Data ready.\n"
     ]
    }
   ],
   "source": [
    "pipeline.fit(X_train, y_train)\n",
    "X_train_transformed = pipeline.transform(X_train)\n",
    "X_test_transformed = pipeline.transform(X_test)\n",
    "X_unlabeled_transformed = pipeline.transform(X_unlabeled)\n",
    "X_challenge_transformed = pipeline.transform(X_challenge)\n",
    "print('Data ready.')"
   ]
  },
  {
   "cell_type": "markdown",
   "metadata": {},
   "source": [
    "## Step: Label unlabeled data (DSL, XGB)"
   ]
  },
  {
   "cell_type": "code",
   "execution_count": null,
   "metadata": {
    "ExecuteTime": {
     "end_time": "2018-05-08T13:33:26.887334Z",
     "start_time": "2018-05-08T13:33:26.630031Z"
    }
   },
   "outputs": [],
   "source": [
    "from sklearn.ensemble.forest import ExtraTreesClassifier as ExtremeRandomizedTrees\n",
    "from sklearn.neighbors import KNeighborsClassifier as kNearestNeighbors\n",
    "from sklearn.linear_model import LogisticRegression\n",
    "from sklearn.ensemble.forest import RandomForestClassifier\n",
    "from xgboost.sklearn import XGBClassifier\n",
    "from deepSuperLearner import *"
   ]
  },
  {
   "cell_type": "code",
   "execution_count": null,
   "metadata": {
    "ExecuteTime": {
     "end_time": "2018-05-08T12:17:14.373317Z",
     "start_time": "2018-05-08T12:17:14.366042Z"
    }
   },
   "outputs": [],
   "source": [
    "ERT_learner = ExtremeRandomizedTrees(n_estimators=200, max_depth=None, max_features=1, n_jobs=-1)\n",
    "kNN_learner = kNearestNeighbors(n_neighbors=11, n_jobs=-1)\n",
    "LR_learner = LogisticRegression(n_jobs=-1)\n",
    "RFC_learner = RandomForestClassifier(n_estimators=200, max_depth=None, n_jobs=-1)\n",
    "XGB_learner = XGBClassifier(n_estimators=200, max_depth=3, learning_rate=1., n_jobs=-1)\n",
    "Base_learners = {'ExtremeRandomizedTrees':ERT_learner, 'kNearestNeighbors':kNN_learner, 'LogisticRegression':LR_learner,\n",
    "                 'RandomForestClassifier':RFC_learner, 'XGBClassifier':XGB_learner}\n",
    "\n",
    "np.random.seed(100)"
   ]
  },
  {
   "cell_type": "code",
   "execution_count": null,
   "metadata": {
    "ExecuteTime": {
     "start_time": "2018-05-08T12:56:29.308Z"
    },
    "scrolled": true
   },
   "outputs": [],
   "source": [
    "# DSL Labeling\n",
    "DSL_learner = DeepSuperLearner(Base_learners, K=5)\n",
    "DSL_learner.fit(X_train_transformed, y_train, max_iterations=100, sample_weight=None)\n",
    "y_pred = DSL_learner.predict(X_test_transformed)\n",
    "predictions = np.argmax(y_pred, axis=1)\n",
    "accuracy = accuracy_score(y_test, predictions)\n",
    "print(\"accuracy: {:.3f}%\".format(accuracy*100))\n",
    "DSL_learner.get_precision_recall(X_test_transformed, y_test, show_graphs=True)    "
   ]
  },
  {
   "cell_type": "code",
   "execution_count": null,
   "metadata": {
    "ExecuteTime": {
     "start_time": "2018-05-08T13:46:52.919Z"
    }
   },
   "outputs": [],
   "source": [
    "# XGB Labeling\n",
    "XGB_model = XGBClassifier(nthread=8, subsample=0.75, n_estimators=225,  max_depth=5)\n",
    "eval_set = [(X_test_transformed, y_test)]\n",
    "XGB_model.fit(X_train_transformed, y_train, eval_set=eval_set, eval_metric=\"mlogloss\", verbose=True)\n",
    "y_pred = XGB_model.predict(X_test_transformed)\n",
    "acc = accuracy_score(y_test, y_pred)\n",
    "print(acc)"
   ]
  },
  {
   "cell_type": "code",
   "execution_count": null,
   "metadata": {},
   "outputs": [],
   "source": [
    "# Label the unlabeled\n",
    "y_unlabeled_pred = DSL_learner.predict(X_unlabeled_transformed)\n",
    "y_unlabeled = np.argmax(y_unlabeled_pred, axis=1)\n",
    "# y_unlabeled = XGB_model.predict(X_unlabeled_transformed)"
   ]
  },
  {
   "cell_type": "markdown",
   "metadata": {},
   "source": [
    "## Step: Label with confidence (SVC)"
   ]
  },
  {
   "cell_type": "code",
   "execution_count": null,
   "metadata": {
    "ExecuteTime": {
     "start_time": "2018-05-09T13:04:22.294Z"
    }
   },
   "outputs": [],
   "source": [
    "parameters = {'kernel':('linear', 'rbf', 'poly'), 'C':[1, 10, 100], 'degree':[2]}\n",
    "svc = svm.SVC(gamma='auto', coef0=0.0, shrinking=True, probability=True,\n",
    "       tol=0.001, cache_size=1024, class_weight='balanced', verbose=True, max_iter=-1,\n",
    "       decision_function_shape='ovr',random_state=None)\n",
    "\n",
    "svm_clf = GridSearchCV(svc, parameters, n_jobs=-1, verbose=2)\n",
    "svm_clf.fit(X_train_transformed, y_train)\n",
    "\n",
    "print(svm_clf.best_params_)\n",
    "y_pred = svm_clf.predict(X_test_transformed)\n",
    "accuracy = accuracy_score(y_test, y_pred)\n",
    "print(\"accuracy: {:.3f}%\".format(accuracy*100))"
   ]
  },
  {
   "cell_type": "code",
   "execution_count": 7,
   "metadata": {
    "ExecuteTime": {
     "end_time": "2018-05-10T13:24:14.126823Z",
     "start_time": "2018-05-10T13:23:39.822165Z"
    }
   },
   "outputs": [
    {
     "name": "stdout",
     "output_type": "stream",
     "text": [
      "[LibSVM]accuracy: 93.889%\n"
     ]
    }
   ],
   "source": [
    "svm_clf = svm.SVC(C=2.0, kernel='rbf', degree=2, gamma='auto', coef0=0.0, shrinking=True, probability=True,\n",
    "              tol=0.001, cache_size=1024, class_weight='balanced', verbose=True, max_iter=-1,\n",
    "              decision_function_shape='ovo', random_state=None)\n",
    "svm_clf.fit(X_train_transformed, y_train)\n",
    "y_pred = svm_clf.predict(X_test_transformed)\n",
    "accuracy = accuracy_score(y_test, y_pred)\n",
    "print(\"accuracy: {:.3f}%\".format(accuracy*100))"
   ]
  },
  {
   "cell_type": "code",
   "execution_count": 8,
   "metadata": {
    "ExecuteTime": {
     "end_time": "2018-05-10T13:24:32.485189Z",
     "start_time": "2018-05-10T13:24:14.915210Z"
    }
   },
   "outputs": [],
   "source": [
    "y_unlabeled_proba = svm_clf.predict_proba(X_unlabeled_transformed)\n",
    "high_confidence_rows = [i for i in range(y_unlabeled_proba.shape[0]) if\n",
    "     y_unlabeled_proba[i, np.argmax(y_unlabeled_proba[i])] > 0.9]\n",
    "\n",
    "y_unlabeled_SVM  = np.argmax(y_unlabeled_proba[high_confidence_rows], axis=1)\n",
    "X_unlabeled_transformed_SVM = X_unlabeled_transformed[high_confidence_rows]"
   ]
  },
  {
   "cell_type": "markdown",
   "metadata": {},
   "source": [
    "## GMM: maybe"
   ]
  },
  {
   "cell_type": "code",
   "execution_count": 9,
   "metadata": {
    "ExecuteTime": {
     "end_time": "2018-05-17T09:26:59.349469Z",
     "start_time": "2018-05-17T09:24:26.485290Z"
    }
   },
   "outputs": [
    {
     "name": "stdout",
     "output_type": "stream",
     "text": [
      "Initialization 0\n",
      "  Iteration 0\t time lapse 0.92890s\t ll change inf\n",
      "  Iteration 10\t time lapse 0.78200s\t ll change 0.05510\n",
      "  Iteration 20\t time lapse 0.76606s\t ll change 0.00261\n",
      "Initialization converged: True\t time lapse 2.79799s\t ll -158.44866\n",
      "Initialization 0\n",
      "  Iteration 0\t time lapse 1.48744s\t ll change inf\n",
      "  Iteration 10\t time lapse 6.26224s\t ll change 0.14595\n",
      "  Iteration 20\t time lapse 6.26192s\t ll change 0.10069\n",
      "  Iteration 30\t time lapse 6.24351s\t ll change 0.03363\n",
      "  Iteration 40\t time lapse 6.34742s\t ll change 0.00605\n",
      "Initialization converged: True\t time lapse 32.23670s\t ll 67.78926\n",
      "Initialization 0\n",
      "  Iteration 0\t time lapse 1.28740s\t ll change inf\n",
      "  Iteration 10\t time lapse 1.02835s\t ll change 0.00779\n",
      "  Iteration 20\t time lapse 1.06568s\t ll change 0.00085\n",
      "Initialization converged: True\t time lapse 3.38155s\t ll -156.14125\n",
      "Initialization 0\n",
      "  Iteration 0\t time lapse 2.17216s\t ll change inf\n",
      "  Iteration 10\t time lapse 11.57017s\t ll change 1.18936\n",
      "  Iteration 20\t time lapse 11.08355s\t ll change 0.04118\n",
      "  Iteration 30\t time lapse 11.28044s\t ll change 0.01301\n",
      "  Iteration 40\t time lapse 11.15787s\t ll change 0.00976\n",
      "  Iteration 50\t time lapse 11.15797s\t ll change 0.07328\n",
      "  Iteration 60\t time lapse 11.22921s\t ll change 0.05100\n",
      "  Iteration 70\t time lapse 11.53016s\t ll change 0.10342\n",
      "  Iteration 80\t time lapse 11.09718s\t ll change 0.01283\n",
      "  Iteration 90\t time lapse 11.05758s\t ll change 0.00490\n",
      "Initialization converged: False\t time lapse 113.32493s\t ll 161.10861\n"
     ]
    },
    {
     "name": "stderr",
     "output_type": "stream",
     "text": [
      "/usr/local/lib/python3.6/site-packages/sklearn/mixture/base.py:237: ConvergenceWarning: Initialization 1 did not converge. Try different init parameters, or increase max_iter, tol or check for degenerate data.\n",
      "  % (init + 1), ConvergenceWarning)\n"
     ]
    }
   ],
   "source": [
    "lowest_bic = np.infty\n",
    "bic = []\n",
    "n_components = 10\n",
    "cv_types = ['spherical', 'tied', 'diag', 'full']\n",
    "for cv_type in cv_types:\n",
    "    # Fit a Gaussian mixture with EM\n",
    "    gmm = mixture.GaussianMixture(n_components=n_components,\n",
    "                                  covariance_type=cv_type, verbose=2)\n",
    "    gmm.fit(np.vstack((X_unlabeled_transformed, X_train_transformed)))\n",
    "    bic.append(gmm.bic(X_unlabeled_transformed))\n",
    "    if bic[-1] < lowest_bic:\n",
    "        lowest_bic = bic[-1]\n",
    "        gmm_clf = gmm\n",
    "\n",
    "bic = np.array(bic)"
   ]
  },
  {
   "cell_type": "code",
   "execution_count": 273,
   "metadata": {
    "ExecuteTime": {
     "end_time": "2018-05-17T12:23:48.477435Z",
     "start_time": "2018-05-17T12:23:48.469804Z"
    }
   },
   "outputs": [],
   "source": [
    "means_init = np.array([X_train[np.where(y_train == i)].mean(axis=0) for i in np.unique(y_train)])"
   ]
  },
  {
   "cell_type": "code",
   "execution_count": 263,
   "metadata": {
    "ExecuteTime": {
     "end_time": "2018-05-17T12:21:20.221726Z",
     "start_time": "2018-05-17T12:21:20.218015Z"
    }
   },
   "outputs": [],
   "source": [
    "weights_init = [0.1 for _ in range(10)]"
   ]
  },
  {
   "cell_type": "code",
   "execution_count": 391,
   "metadata": {
    "ExecuteTime": {
     "end_time": "2018-05-17T12:58:20.996803Z",
     "start_time": "2018-05-17T12:58:20.992581Z"
    }
   },
   "outputs": [],
   "source": [
    "gmm_clf = mixture.GaussianMixture(n_components=10,\n",
    "                                  covariance_type='full',\n",
    "                                  reg_covar=0,\n",
    "#                                   means_init=means_init,\n",
    "#                                   weights_init=weights_init,\n",
    "                                  max_iter=500,\n",
    "                                  verbose=2,\n",
    "                                  warm_start=False)"
   ]
  },
  {
   "cell_type": "code",
   "execution_count": 392,
   "metadata": {
    "ExecuteTime": {
     "end_time": "2018-05-17T12:58:32.819319Z",
     "start_time": "2018-05-17T12:58:21.456222Z"
    }
   },
   "outputs": [
    {
     "name": "stdout",
     "output_type": "stream",
     "text": [
      "Initialization 0\n",
      "  Iteration 0\t time lapse 0.55503s\t ll change inf\n",
      "  Iteration 10\t time lapse 2.20618s\t ll change 0.24864\n",
      "  Iteration 20\t time lapse 2.22770s\t ll change 0.02131\n",
      "  Iteration 30\t time lapse 2.63590s\t ll change 0.00593\n",
      "  Iteration 40\t time lapse 2.82421s\t ll change 0.00242\n",
      "Initialization converged: True\t time lapse 11.35379s\t ll 134.31449\n"
     ]
    },
    {
     "data": {
      "text/plain": [
       "GaussianMixture(covariance_type='full', init_params='kmeans', max_iter=500,\n",
       "        means_init=None, n_components=10, n_init=1, precisions_init=None,\n",
       "        random_state=None, reg_covar=0, tol=0.001, verbose=2,\n",
       "        verbose_interval=10, warm_start=False, weights_init=None)"
      ]
     },
     "execution_count": 392,
     "metadata": {},
     "output_type": "execute_result"
    }
   ],
   "source": [
    "gmm_clf.fit(np.vstack((X_unlabeled_pca, X_train_pca)))"
   ]
  },
  {
   "cell_type": "code",
   "execution_count": 393,
   "metadata": {
    "ExecuteTime": {
     "end_time": "2018-05-17T12:58:32.835096Z",
     "start_time": "2018-05-17T12:58:32.822749Z"
    }
   },
   "outputs": [],
   "source": [
    "y_pred = gmm_clf.predict(X_test_pca)"
   ]
  },
  {
   "cell_type": "code",
   "execution_count": 398,
   "metadata": {
    "ExecuteTime": {
     "end_time": "2018-05-17T12:59:53.029637Z",
     "start_time": "2018-05-17T12:59:53.008210Z"
    }
   },
   "outputs": [
    {
     "name": "stdout",
     "output_type": "stream",
     "text": [
      "0.0 *****\n",
      "[0 2 2 0 7 0 0 0 0 8 7 0 0 7 0 0 0 0 0 0 0 0 0 0 0 0 0 0 0 0 0 0 0 0 0 0 0\n",
      " 0 0 0 0 0 0 0 0 0 0 2 0 0 7 0 7 7 0 0 0 0 0 7 0 0 7 0 0 0 0 0 0 8 0 0 7 0\n",
      " 0]\n",
      "1.0 *****\n",
      "[2 1 4 1 4 2 8 1 8 1 1 2 8 8 1 2 1 8 8 1 2 2 2 1 1 2 3 1 4 1 2 4 1 1 1 2 1\n",
      " 2 1 1 2 1 4 2 2 1 2 1 4 4 8 1 1 1 2 1 2 1 1 4 2 1 9 1 8 1 1 1 1 1 1 1 1 4\n",
      " 4 1 8 4 1 2 1 4 1 2 4 1 2 1 4 1 1 2 1 1 8]\n",
      "2.0 *****\n",
      "[3 7 3 7 3 2 7 7 2 3 7 3 3 8 2 7 3 3 3 2 3 3 3 7 3 3 7 3 3 7 3 3 9 3 7 3 3\n",
      " 7 3 3 3 8 3 7 7 8 7 3 3 7 7 7 7 3 7 7 7 3 3 7 3 7 3 7 3 7 7 3 3 7 3 7 3 3\n",
      " 8 8 3 3 2 3 7 3 3 7 7 7 0 3 7 7]\n",
      "3.0 *****\n",
      "[8 8 3 3 3 8 3 8 7 3 3 3 2 2 3 3 2 3 8 8 3 3 3 3 3 8 3 8 3 3 3 3 8 2 7 3 2\n",
      " 2 3 7 2 3 3 3 2 3 3 2 3 3 2 7 3 3 3 8 7 7 3 2 3 3 8 3 3 2 3 3 3 3 8 8 3 3\n",
      " 3 8 3 3 8 3 3 3 7 3]\n",
      "4.0 *****\n",
      "[7 7 9 2 7 9 7 9 9 7 7 7 9 7 9 9 7 9 2 7 7 8 7 9 2 7 7 7 9 7 7 2 3 9 7 9 9\n",
      " 9 9 9 9 9 9 2 9 9 7 7 2 9 7 7 2 9 2 7 9 9 9 7 7 7 9 9 9 9 7 9 9 7 8 9 9 2\n",
      " 7 9 9 9 7 9 9 7 7 9 2 2 9 9 7 9 9 7 9 9 9 7 9 9 7 7]\n",
      "5.0 *****\n",
      "[7 7 8 7 7 8 8 7 7 8 8 8 8 3 8 8 8 8 8 8 8 3 8 3 8 9 8 7 7 3 2 0 7 7 7 8 8\n",
      " 2 8 7 8 7 9 8 7 8 8 3 8 8 7 7 3 7 8 8 8 8 8 3 7 7 8 7 7 3 8 7 3 8 8 3 3 2]\n",
      "6.0 *****\n",
      "[9 9 7 9 9 7 7 9 7 9 9 9 7 9 9 9 7 9 9 9 8 9 7 9 8 9 9 9 9 9 9 9 9 9 9 7 8\n",
      " 9 9 9 9 2 9 9 9 9 9 9 9 9 9 9 7 7 9 9 8 9 9 9 9 3 2 9 9 7 9 9 9 7 9 9 7 9\n",
      " 9 9 9 7 9 9 7 9 9 9 9 9 9 9 9 9 8 9]\n",
      "7.0 *****\n",
      "[0 0 8 0 8 0 0 0 7 0 0 7 0 7 3 7 0 0 3 0 0 2 0 7 0 0 0 7 0 3 0 0 0 0 0 0 0\n",
      " 0 0 0 0 0 0 0 3 0 0 0 0 0 7 0 0 0 0 0 0 0 0 0 0 7 0 2 0 0 0 0 7 0 0 0 2 0\n",
      " 0 2 0 2 0 0 9 2 0 2 0 9 0 9 0 0 9 7 0 7 0 2 9 9 0 0 0 0 0 0]\n",
      "8.0 *****\n",
      "[7 3 2 8 8 2 3 2 8 8 8 7 8 3 3 9 2 8 7 8 2 2 8 8 8 8 8 8 8 2 2 2 8 8 3 8 7\n",
      " 9 8 8 3 7 8 7 8 8 7 8 8 2 2 8 2 3 3 8 8 8 8 8 8 8 8 3 7 8 3 8 8 7 2 3 8 8\n",
      " 8 3 2 8 7 8 8 2 7 7 8 7 8 7 8 8 7 7 7 2]\n",
      "9.0 *****\n",
      "[2 7 9 9 9 9 2 2 9 9 7 9 9 9 9 9 9 9 9 9 9 9 9 9 9 3 3 3 9 9 2 9 2 9 9 9 8\n",
      " 0 3 2 9 9 7 2 2 2 9 7 9 7 9 2 9 9 8 2 9 2 9 9 9 7 9 9 2 9 9 9 9 2 7 9 2 2\n",
      " 9 9 7 7 9 9 9 9 9 9 9 9 9 2 9 9 9 9]\n"
     ]
    }
   ],
   "source": [
    "for i in np.unique(y_train):\n",
    "    print(i, '*****')\n",
    "    idx = np.where(y_test == i)\n",
    "    print(y_pred[idx])\n",
    "\n"
   ]
  },
  {
   "cell_type": "code",
   "execution_count": 388,
   "metadata": {
    "ExecuteTime": {
     "end_time": "2018-05-17T12:58:16.462537Z",
     "start_time": "2018-05-17T12:58:16.459836Z"
    }
   },
   "outputs": [],
   "source": [
    "from sklearn.decomposition import PCA\n",
    "pca = PCA(n_components=32)"
   ]
  },
  {
   "cell_type": "code",
   "execution_count": 389,
   "metadata": {
    "ExecuteTime": {
     "end_time": "2018-05-17T12:58:17.214277Z",
     "start_time": "2018-05-17T12:58:16.925682Z"
    }
   },
   "outputs": [
    {
     "data": {
      "text/plain": [
       "PCA(copy=True, iterated_power='auto', n_components=32, random_state=None,\n",
       "  svd_solver='auto', tol=0.0, whiten=False)"
      ]
     },
     "execution_count": 389,
     "metadata": {},
     "output_type": "execute_result"
    }
   ],
   "source": [
    "pca.fit(np.vstack((X_train, X_unlabeled)))"
   ]
  },
  {
   "cell_type": "code",
   "execution_count": 390,
   "metadata": {
    "ExecuteTime": {
     "end_time": "2018-05-17T12:58:17.449702Z",
     "start_time": "2018-05-17T12:58:17.429837Z"
    }
   },
   "outputs": [],
   "source": [
    "X_train_pca = pca.transform(X_train)\n",
    "X_unlabeled_pca = pca.transform(X_unlabeled)\n",
    "X_test_pca = pca.transform(X_test)"
   ]
  },
  {
   "cell_type": "code",
   "execution_count": 347,
   "metadata": {
    "ExecuteTime": {
     "end_time": "2018-05-17T12:53:33.949819Z",
     "start_time": "2018-05-17T12:53:33.944390Z"
    }
   },
   "outputs": [
    {
     "name": "stdout",
     "output_type": "stream",
     "text": [
      "accuracy: 16.889%\n"
     ]
    }
   ],
   "source": [
    "accuracy = accuracy_score(y_test, y_pred)\n",
    "print(\"accuracy: {:.3f}%\".format(accuracy*100))"
   ]
  },
  {
   "cell_type": "code",
   "execution_count": 397,
   "metadata": {
    "ExecuteTime": {
     "end_time": "2018-05-17T12:59:50.503958Z",
     "start_time": "2018-05-17T12:59:50.500327Z"
    }
   },
   "outputs": [],
   "source": [
    "y_pred[y_pred == 6] = 9"
   ]
  },
  {
   "cell_type": "code",
   "execution_count": 225,
   "metadata": {
    "ExecuteTime": {
     "end_time": "2018-05-17T12:08:43.556730Z",
     "start_time": "2018-05-17T12:08:43.552727Z"
    }
   },
   "outputs": [],
   "source": [
    "y_pred[y_pred == 2] = 6"
   ]
  },
  {
   "cell_type": "code",
   "execution_count": 226,
   "metadata": {
    "ExecuteTime": {
     "end_time": "2018-05-17T12:08:54.567711Z",
     "start_time": "2018-05-17T12:08:54.564132Z"
    }
   },
   "outputs": [],
   "source": [
    "y_pred[y_pred == 9] = 7"
   ]
  },
  {
   "cell_type": "code",
   "execution_count": 227,
   "metadata": {
    "ExecuteTime": {
     "end_time": "2018-05-17T12:09:12.431896Z",
     "start_time": "2018-05-17T12:09:12.428304Z"
    }
   },
   "outputs": [],
   "source": [
    "y_pred[y_pred == 5] = 8"
   ]
  },
  {
   "cell_type": "code",
   "execution_count": 218,
   "metadata": {
    "ExecuteTime": {
     "end_time": "2018-05-17T12:04:29.151693Z",
     "start_time": "2018-05-17T12:04:28.908101Z"
    }
   },
   "outputs": [],
   "source": [
    "y_gmm = gmm_clf.predict(X_train)"
   ]
  },
  {
   "cell_type": "code",
   "execution_count": 220,
   "metadata": {
    "ExecuteTime": {
     "end_time": "2018-05-17T12:05:04.991255Z",
     "start_time": "2018-05-17T12:05:04.918916Z"
    }
   },
   "outputs": [
    {
     "name": "stdout",
     "output_type": "stream",
     "text": [
      "0.0 *****\n",
      "0.0 653\n",
      "1.0 0\n",
      "2.0 0\n",
      "3.0 1\n",
      "4.0 10\n",
      "5.0 63\n",
      "6.0 60\n",
      "7.0 3\n",
      "8.0 1\n",
      "9.0 0\n",
      "1.0 *****\n",
      "0.0 0\n",
      "1.0 829\n",
      "2.0 0\n",
      "3.0 0\n",
      "4.0 23\n",
      "5.0 30\n",
      "6.0 0\n",
      "7.0 0\n",
      "8.0 5\n",
      "9.0 1\n",
      "2.0 *****\n",
      "0.0 4\n",
      "1.0 7\n",
      "2.0 6\n",
      "3.0 3\n",
      "4.0 44\n",
      "5.0 134\n",
      "6.0 25\n",
      "7.0 27\n",
      "8.0 556\n",
      "9.0 7\n",
      "3.0 *****\n",
      "0.0 1\n",
      "1.0 5\n",
      "2.0 9\n",
      "3.0 404\n",
      "4.0 34\n",
      "5.0 327\n",
      "6.0 9\n",
      "7.0 36\n",
      "8.0 14\n",
      "9.0 2\n",
      "4.0 *****\n",
      "0.0 0\n",
      "1.0 2\n",
      "2.0 7\n",
      "3.0 1\n",
      "4.0 266\n",
      "5.0 184\n",
      "6.0 13\n",
      "7.0 193\n",
      "8.0 8\n",
      "9.0 44\n",
      "5.0 *****\n",
      "0.0 1\n",
      "1.0 6\n",
      "2.0 11\n",
      "3.0 245\n",
      "4.0 257\n",
      "5.0 127\n",
      "6.0 39\n",
      "7.0 23\n",
      "8.0 3\n",
      "9.0 7\n",
      "6.0 *****\n",
      "0.0 3\n",
      "1.0 4\n",
      "2.0 682\n",
      "3.0 7\n",
      "4.0 25\n",
      "5.0 13\n",
      "6.0 82\n",
      "7.0 2\n",
      "8.0 7\n",
      "9.0 0\n",
      "7.0 *****\n",
      "0.0 2\n",
      "1.0 9\n",
      "2.0 0\n",
      "3.0 0\n",
      "4.0 22\n",
      "5.0 141\n",
      "6.0 8\n",
      "7.0 47\n",
      "8.0 3\n",
      "9.0 618\n",
      "8.0 *****\n",
      "0.0 0\n",
      "1.0 29\n",
      "2.0 0\n",
      "3.0 41\n",
      "4.0 297\n",
      "5.0 342\n",
      "6.0 49\n",
      "7.0 66\n",
      "8.0 4\n",
      "9.0 6\n",
      "9.0 *****\n",
      "0.0 4\n",
      "1.0 3\n",
      "2.0 0\n",
      "3.0 4\n",
      "4.0 34\n",
      "5.0 253\n",
      "6.0 9\n",
      "7.0 168\n",
      "8.0 0\n",
      "9.0 346\n"
     ]
    }
   ],
   "source": [
    "for i in np.unique(y_train):\n",
    "    print(i, '*****')\n",
    "    idx = np.where(y_train == i)\n",
    "    for j in np.unique(y_train):\n",
    "        if np.argmax(y_proba[idx]) > 0.995:\n",
    "            print(j, np.count_nonzero(y_gmm[idx] == j))\n"
   ]
  },
  {
   "cell_type": "code",
   "execution_count": 212,
   "metadata": {
    "ExecuteTime": {
     "end_time": "2018-05-17T11:59:02.193673Z",
     "start_time": "2018-05-17T11:59:01.930789Z"
    }
   },
   "outputs": [],
   "source": [
    "y_proba = gmm_clf.predict_proba(X_train)\n",
    "high_confidence_rows = [i for i in range(y_proba.shape[0]) if\n",
    "     y_proba[i, np.argmax(y_proba[i])] > 0.99]"
   ]
  },
  {
   "cell_type": "code",
   "execution_count": 213,
   "metadata": {
    "ExecuteTime": {
     "end_time": "2018-05-17T11:59:02.823599Z",
     "start_time": "2018-05-17T11:59:02.816480Z"
    }
   },
   "outputs": [
    {
     "data": {
      "text/plain": [
       "7034"
      ]
     },
     "execution_count": 213,
     "metadata": {},
     "output_type": "execute_result"
    }
   ],
   "source": [
    "len(high_confidence_rows)"
   ]
  },
  {
   "cell_type": "code",
   "execution_count": 204,
   "metadata": {
    "ExecuteTime": {
     "end_time": "2018-05-17T11:58:02.866450Z",
     "start_time": "2018-05-17T11:58:02.854898Z"
    }
   },
   "outputs": [
    {
     "data": {
      "text/plain": [
       "array([7, 0, 0, 6, 8, 2, 7, 6, 3, 2, 1, 1, 3, 2, 7, 2, 2, 2, 7, 9, 9, 1,\n",
       "       9, 5, 1, 7, 6, 2, 7, 1, 6, 4, 9, 6, 1, 0, 9, 0, 3, 9, 7, 6, 8, 9,\n",
       "       1, 1, 1, 8, 3, 3, 8, 2, 9, 8, 3, 0, 7, 7, 3, 9, 2, 9, 6, 3, 4, 7,\n",
       "       1, 3, 9, 6, 0, 0, 8, 1, 8, 6, 2, 4, 0, 7, 7, 3, 2, 9, 1, 2, 9, 1,\n",
       "       7, 1, 7, 1, 9, 5, 9, 8, 4, 4, 5, 6, 9, 1, 1, 6, 1, 0, 0, 1, 3, 6,\n",
       "       6, 2, 1, 2, 6, 4, 6, 7, 1, 5, 4, 1, 1, 4, 9, 2, 0, 0, 5, 6, 7, 7,\n",
       "       4, 7, 7, 2, 9, 9, 7, 4, 6, 9, 1, 9, 8, 3, 7, 8, 9, 1, 0, 9, 8, 9,\n",
       "       6, 2, 9, 9, 1, 1, 6, 1, 7, 1, 9, 0, 9, 9, 9, 1, 1, 0, 9, 9, 9, 9,\n",
       "       4, 8, 4, 1, 9, 3, 1, 1, 6, 4, 2, 9, 7, 7, 7, 8, 8, 4, 8, 8, 7, 8,\n",
       "       3, 1, 5, 9, 5, 4, 3, 7, 9, 7, 9, 8, 3, 8, 8, 9, 1, 3, 8, 7, 2, 8,\n",
       "       6, 9, 9, 9, 9, 8, 1, 6, 7, 6, 1, 1, 3, 2, 6, 3, 3, 1, 9, 8, 3, 3,\n",
       "       9, 4, 1, 9, 8, 3, 7, 7, 2, 3, 0, 6, 2, 4, 0, 2, 1, 0, 1, 2, 7, 8,\n",
       "       2, 1, 3, 3, 8, 1, 6, 3, 6, 9, 3, 4, 9, 7, 7, 1, 1, 9, 2, 7, 8, 7,\n",
       "       1, 1, 4, 1, 9, 7, 3, 1, 9, 3, 9, 3, 3, 1, 6, 6, 3, 3, 1, 9, 1, 1,\n",
       "       9, 6, 8, 3, 8, 8, 2, 8, 6, 2, 0, 4, 1, 6, 9, 2, 6, 9, 9, 2, 1, 6,\n",
       "       7, 1, 6, 8, 8, 0, 1, 7, 6, 6, 2, 3, 0, 4, 2, 2, 4, 8, 3, 6, 1, 5,\n",
       "       9, 3, 1, 9, 7, 6, 2, 8, 7, 9, 6, 4, 1, 9, 3, 1, 6, 3, 3, 9, 8, 5,\n",
       "       7, 0, 9, 9, 5, 3, 1, 9, 9, 9, 9, 6, 5, 1, 2, 3, 3, 1, 2, 6, 3, 1,\n",
       "       6, 2, 2, 9, 3, 1, 1, 4, 1, 0, 1, 6, 0, 2, 2, 9, 1, 7, 6, 6, 9, 5,\n",
       "       6, 3, 4, 6, 8, 3, 6, 1, 3, 7, 8, 1, 0, 9, 3, 9, 1, 7, 9, 8, 1, 3,\n",
       "       2, 3, 4, 7, 1, 0, 1, 9, 9, 1, 1, 3, 5, 2, 9, 9, 7, 6, 9, 1, 3, 9,\n",
       "       9, 2, 1, 9, 8, 1, 9, 3, 8, 0, 1, 6, 3, 9, 0, 0, 0, 1, 2, 5, 6, 1,\n",
       "       5, 4, 2, 8, 4, 5, 1, 1, 2, 9, 9, 7, 8, 6, 9, 3, 4, 9, 3, 7, 1, 6,\n",
       "       0, 9, 8, 4, 1, 3, 2, 6, 1, 1, 2, 1, 7, 1, 6, 1, 4, 2, 8, 2, 2, 3,\n",
       "       1, 9, 3, 3, 7, 6, 4, 1, 8, 9, 6, 7, 2, 2, 4, 4, 3, 8, 8, 1, 5, 2,\n",
       "       8, 9, 5, 2, 3, 3, 1, 6, 7, 5, 4, 3, 2, 9, 3, 9, 7, 3, 9, 7, 1, 3,\n",
       "       3, 5, 4, 7, 8, 5, 9, 9, 9, 0, 6, 7, 7, 3, 7, 9, 3, 1, 2, 4, 1, 1,\n",
       "       7, 0, 9, 7, 5, 3, 1, 6, 9, 3, 4, 0, 4, 2, 3, 1, 3, 6, 9, 3, 9, 8,\n",
       "       9, 9, 6, 1, 5, 2, 3, 1, 8, 9, 9, 3, 1, 7, 8, 4, 6, 9, 6, 1, 7, 0,\n",
       "       7, 1, 2, 1, 0, 8, 1, 9, 6, 9, 5, 6, 1, 1, 9, 2, 8, 2, 5, 4, 5, 7,\n",
       "       6, 9, 9, 9, 1, 7, 7, 9, 2, 5, 3, 1, 8, 1, 9, 2, 9, 1, 9, 0, 5, 7,\n",
       "       6, 2, 7, 4, 2, 3, 4, 9, 3, 1, 9, 8, 6, 5, 9, 3, 1, 6, 6, 9, 0, 9,\n",
       "       2, 4, 0, 1, 1, 1, 7, 9, 6, 7, 2, 2, 9, 7, 4, 3, 6, 8, 1, 5, 0, 9,\n",
       "       9, 7, 2, 3, 8, 7, 6, 9, 7, 3, 7, 1, 1, 3, 2, 4, 8, 5, 8, 3, 6, 9,\n",
       "       6, 5, 2, 8, 9, 4, 3, 2, 7, 0, 9, 0, 7, 8, 9, 9, 1, 9, 9, 2, 1, 8,\n",
       "       7, 8, 4, 1, 0, 1, 5, 5, 2, 8, 7, 9, 3, 3, 7, 1, 4, 9, 9, 7, 2, 1,\n",
       "       2, 3, 7, 1, 6, 5, 3, 1, 1, 2, 1, 5, 9, 9, 2, 3, 0, 2, 0, 0, 1, 1,\n",
       "       1, 3, 3, 3, 9, 5, 2, 7, 4, 1, 7, 5, 7, 9, 2, 2, 1, 9, 1, 9, 1, 2,\n",
       "       1, 7, 5, 7, 9, 6, 2, 4, 6, 2, 1, 9, 9, 2, 1, 2, 2, 3, 6, 1, 1, 6,\n",
       "       7, 8, 4, 9, 4, 1, 4, 4, 7, 4, 7, 6, 1, 3, 8, 5, 3, 3, 5, 6, 9, 9,\n",
       "       3, 0, 7, 1, 9, 6, 9, 0, 3, 7, 3, 9, 9, 9, 0, 1, 4, 1, 3, 4])"
      ]
     },
     "execution_count": 204,
     "metadata": {},
     "output_type": "execute_result"
    }
   ],
   "source": [
    "np.argmax(y_proba[high_confidence_rows], axis=1)"
   ]
  },
  {
   "cell_type": "code",
   "execution_count": null,
   "metadata": {},
   "outputs": [],
   "source": []
  },
  {
   "cell_type": "code",
   "execution_count": null,
   "metadata": {},
   "outputs": [],
   "source": []
  },
  {
   "cell_type": "code",
   "execution_count": 130,
   "metadata": {
    "ExecuteTime": {
     "end_time": "2018-05-17T11:27:40.692566Z",
     "start_time": "2018-05-17T11:27:40.686845Z"
    }
   },
   "outputs": [],
   "source": [
    "b_gmm_clf = mixture.BayesianGaussianMixture(n_components=10,\n",
    "                                            covariance_type='full',\n",
    "                                            weight_concentration_prior_type='dirichlet_distribution',\n",
    "                                            reg_covar=0,\n",
    "                                            init_params='random',\n",
    "                                            mean_precision_prior=.8,\n",
    "                                            n_init=1,\n",
    "                                            max_iter=2000,\n",
    "                                            verbose=2,\n",
    "                                            warm_start=True)\n",
    "b_gmm_clf.weight_concentration_prior = 1"
   ]
  },
  {
   "cell_type": "code",
   "execution_count": 131,
   "metadata": {
    "ExecuteTime": {
     "end_time": "2018-05-17T11:32:32.880308Z",
     "start_time": "2018-05-17T11:27:41.541133Z"
    }
   },
   "outputs": [
    {
     "name": "stdout",
     "output_type": "stream",
     "text": [
      "Initialization 0\n",
      "  Iteration 0\t time lapse 1.61027s\t ll change inf\n",
      "  Iteration 10\t time lapse 11.20518s\t ll change 18294.91827\n",
      "  Iteration 20\t time lapse 11.24981s\t ll change 15150.65028\n",
      "  Iteration 30\t time lapse 11.43823s\t ll change 1265.55470\n",
      "  Iteration 40\t time lapse 11.49076s\t ll change 3266.55054\n",
      "  Iteration 50\t time lapse 11.42150s\t ll change 2803.42967\n",
      "  Iteration 60\t time lapse 11.39112s\t ll change 2291.23896\n",
      "  Iteration 70\t time lapse 11.32693s\t ll change 1457.15225\n",
      "  Iteration 80\t time lapse 16.48973s\t ll change 264.15707\n",
      "  Iteration 90\t time lapse 12.02077s\t ll change 334.91379\n",
      "  Iteration 100\t time lapse 12.16268s\t ll change 15.55278\n",
      "  Iteration 110\t time lapse 11.66629s\t ll change 4.87165\n",
      "  Iteration 120\t time lapse 11.52492s\t ll change 2.19827\n",
      "  Iteration 130\t time lapse 12.88033s\t ll change 1.75626\n",
      "  Iteration 140\t time lapse 12.69557s\t ll change 0.01897\n",
      "  Iteration 150\t time lapse 12.31239s\t ll change 10.09222\n",
      "  Iteration 160\t time lapse 23.75982s\t ll change 0.08845\n",
      "  Iteration 170\t time lapse 14.56919s\t ll change 0.22492\n",
      "  Iteration 180\t time lapse 17.65386s\t ll change 0.00481\n",
      "  Iteration 190\t time lapse 11.23154s\t ll change 0.29743\n",
      "  Iteration 200\t time lapse 14.00787s\t ll change 0.06236\n",
      "  Iteration 210\t time lapse 21.32392s\t ll change 0.04749\n",
      "Initialization converged: True\t time lapse 291.16919s\t ll 8178221.71328\n"
     ]
    },
    {
     "data": {
      "text/plain": [
       "BayesianGaussianMixture(covariance_prior=None, covariance_type='full',\n",
       "            degrees_of_freedom_prior=None, init_params='random',\n",
       "            max_iter=2000, mean_precision_prior=0.8, mean_prior=None,\n",
       "            n_components=10, n_init=1, random_state=None, reg_covar=0,\n",
       "            tol=0.001, verbose=2, verbose_interval=10, warm_start=True,\n",
       "            weight_concentration_prior=1,\n",
       "            weight_concentration_prior_type='dirichlet_distribution')"
      ]
     },
     "execution_count": 131,
     "metadata": {},
     "output_type": "execute_result"
    }
   ],
   "source": [
    "b_gmm_clf.fit(np.vstack((X_unlabeled_transformed, X_train_transformed)))"
   ]
  },
  {
   "cell_type": "code",
   "execution_count": null,
   "metadata": {},
   "outputs": [],
   "source": []
  },
  {
   "cell_type": "code",
   "execution_count": 126,
   "metadata": {
    "ExecuteTime": {
     "end_time": "2018-05-17T11:24:56.139398Z",
     "start_time": "2018-05-17T11:24:55.724724Z"
    }
   },
   "outputs": [],
   "source": [
    "y_b_gmm = b_gmm_clf.predict(X_train_transformed)"
   ]
  },
  {
   "cell_type": "code",
   "execution_count": 127,
   "metadata": {
    "ExecuteTime": {
     "end_time": "2018-05-17T11:24:56.469284Z",
     "start_time": "2018-05-17T11:24:56.407835Z"
    }
   },
   "outputs": [
    {
     "name": "stdout",
     "output_type": "stream",
     "text": [
      "0.0 (array([  28,   34,   50,   57,   58,   80,   87,   93,  102,  104,  116,\n",
      "        120,  124,  136,  140,  161,  170,  175,  177,  179,  183,  196,\n",
      "        202,  215,  220,  229,  238,  242,  265,  272,  274,  278,  287,\n",
      "        289,  316,  359,  363,  370,  373,  389,  402,  408,  414,  418,\n",
      "        428,  440,  443,  471,  477,  487,  498,  499,  528,  550,  560,\n",
      "        572,  603,  622,  645,  666,  674,  678,  695,  712,  723,  726,\n",
      "        733,  754,  760,  766,  770,  777,  779,  792,  808,  817,  822,\n",
      "        824,  825,  828,  833,  841,  848,  862,  880,  883,  911,  938,\n",
      "        951,  962,  963,  984,  999, 1005, 1025, 1032, 1034, 1044, 1045,\n",
      "       1059, 1065, 1070, 1089, 1101, 1105, 1112, 1120, 1155, 1196, 1203,\n",
      "       1216, 1224, 1230, 1231, 1247, 1249, 1253, 1254, 1260, 1272, 1277,\n",
      "       1279, 1285, 1297, 1334, 1341, 1342, 1349, 1405, 1406, 1443, 1444,\n",
      "       1445, 1464, 1465, 1474, 1477, 1484, 1510, 1516, 1517, 1518, 1523,\n",
      "       1524, 1527, 1553, 1563, 1566, 1575, 1579, 1585, 1589, 1590, 1596,\n",
      "       1600, 1603, 1608, 1632, 1635, 1656, 1659, 1669, 1670, 1671, 1693,\n",
      "       1712, 1727, 1740, 1743, 1757, 1774, 1778, 1815, 1830, 1831, 1850,\n",
      "       1855, 1861, 1865, 1869, 1875, 1878, 1894, 1896, 1908, 1911, 1944,\n",
      "       1966, 1967, 1986, 1988, 1990, 1991, 1993, 2007, 2017, 2025, 2031,\n",
      "       2033, 2036, 2064, 2065, 2070, 2071, 2081, 2101, 2119, 2120, 2121,\n",
      "       2126, 2140, 2143, 2151, 2159, 2161, 2165, 2166, 2178, 2182, 2226,\n",
      "       2237, 2239, 2244, 2261, 2265, 2271, 2273, 2288, 2289, 2291, 2320,\n",
      "       2323, 2361, 2374, 2375, 2388, 2391, 2393, 2420, 2440, 2443, 2481,\n",
      "       2488, 2491, 2517, 2527, 2528, 2532, 2539, 2543, 2566, 2569, 2601,\n",
      "       2603, 2607, 2635, 2636, 2671, 2696, 2700, 2706, 2708, 2721, 2723,\n",
      "       2726, 2730, 2733, 2734, 2742, 2765, 2786, 2815, 2816, 2829, 2841,\n",
      "       2849, 2882, 2885, 2896, 2899, 2904, 2906, 2915, 2932, 2936, 2938,\n",
      "       2939, 2966, 2977, 2979, 2980, 2988, 2990, 3037, 3045, 3050, 3051,\n",
      "       3052, 3053, 3056, 3067, 3073, 3076, 3078, 3080, 3081, 3111, 3124,\n",
      "       3133, 3140, 3141, 3151, 3168, 3176, 3196, 3200, 3214, 3219, 3222,\n",
      "       3223, 3236, 3247, 3258, 3262, 3286, 3290, 3297, 3298, 3309, 3315,\n",
      "       3317, 3322, 3332, 3341, 3356, 3383, 3400, 3401, 3411, 3414, 3419,\n",
      "       3421, 3423, 3442, 3449, 3451, 3455, 3473, 3478, 3483, 3487, 3489,\n",
      "       3492, 3510, 3519, 3521, 3556, 3565, 3568, 3576, 3591, 3602, 3617,\n",
      "       3627, 3630, 3637, 3645, 3647, 3648, 3650, 3665, 3667, 3668, 3675,\n",
      "       3686, 3717, 3731, 3732, 3764, 3773, 3774, 3784, 3800, 3807, 3830,\n",
      "       3835, 3870, 3878, 3886, 3891, 3912, 3914, 3920, 3946, 3953, 3959,\n",
      "       3967, 3969, 3980, 4010, 4016, 4020, 4021, 4032, 4034, 4040, 4051,\n",
      "       4080, 4102, 4104, 4109, 4111, 4123, 4136, 4137, 4149, 4161, 4162,\n",
      "       4181, 4188, 4196, 4201, 4221, 4235, 4237, 4246, 4248, 4284, 4291,\n",
      "       4299, 4311, 4313, 4338, 4343, 4355, 4361, 4404, 4411, 4457, 4460,\n",
      "       4470, 4474, 4481, 4495, 4501, 4515, 4526, 4545, 4562, 4568, 4576,\n",
      "       4583, 4586, 4596, 4601, 4605, 4613, 4617, 4623, 4627, 4631, 4664,\n",
      "       4674, 4681, 4700, 4702, 4707, 4711, 4712, 4725, 4729, 4730, 4735,\n",
      "       4736, 4738, 4753, 4756, 4768, 4776, 4823, 4831, 4856, 4867, 4874,\n",
      "       4876, 4878, 4888, 4915, 4928, 4936, 4940, 4941, 4949, 4955, 4958,\n",
      "       4959, 4960, 4965, 4983, 5018, 5023, 5029, 5038, 5039, 5058, 5063,\n",
      "       5080, 5101, 5107, 5124, 5130, 5135, 5136, 5165, 5167, 5174, 5178,\n",
      "       5191, 5196, 5222, 5231, 5245, 5271, 5274, 5287, 5289, 5301, 5312,\n",
      "       5320, 5333, 5334, 5342, 5344, 5346, 5349, 5355, 5371, 5448, 5452,\n",
      "       5456, 5474, 5490, 5496, 5509, 5511, 5517, 5525, 5526, 5533, 5536,\n",
      "       5557, 5563, 5564, 5567, 5568, 5598, 5602, 5607, 5624, 5626, 5630,\n",
      "       5643, 5645, 5649, 5650, 5656, 5657, 5663, 5672, 5680, 5688, 5689,\n",
      "       5719, 5752, 5787, 5794, 5812, 5814, 5816, 5827, 5831, 5840, 5858,\n",
      "       5866, 5869, 5888, 5906, 5917, 5918, 5945, 5947, 5953, 5964, 5988,\n",
      "       6042, 6049, 6057, 6072, 6074, 6112, 6117, 6140, 6141, 6180, 6185,\n",
      "       6193, 6204, 6225, 6235, 6244, 6269, 6274, 6298, 6299, 6305, 6306,\n",
      "       6310, 6311, 6313, 6318, 6363, 6372, 6382, 6385, 6395, 6451, 6471,\n",
      "       6480, 6489, 6506, 6508, 6521, 6530, 6533, 6540, 6556, 6568, 6569,\n",
      "       6572, 6575, 6593, 6596, 6604, 6605, 6623, 6625, 6626, 6630, 6668,\n",
      "       6671, 6701, 6707, 6713, 6718, 6721, 6731, 6736, 6744, 6746, 6747,\n",
      "       6760, 6769, 6784, 6787, 6801, 6816, 6824, 6825, 6832, 6840, 6848,\n",
      "       6859, 6860, 6864, 6868, 6874, 6877, 6906, 6920, 6933, 6934, 6955,\n",
      "       6957, 6983, 7001, 7006, 7011, 7025, 7026, 7030, 7036, 7044, 7047,\n",
      "       7059, 7062, 7073, 7101, 7116, 7124, 7127, 7138, 7143, 7145, 7152,\n",
      "       7162, 7163, 7170, 7178, 7190, 7192, 7208, 7217, 7227, 7238, 7243,\n",
      "       7260, 7266, 7275, 7278, 7279, 7284, 7307, 7319, 7332, 7356, 7366,\n",
      "       7368, 7377, 7389, 7402, 7409, 7415, 7452, 7460, 7477, 7481, 7486,\n",
      "       7491, 7495, 7500, 7509, 7525, 7542, 7544, 7547, 7556, 7567, 7575,\n",
      "       7592, 7614, 7633, 7653, 7663, 7668, 7672, 7680, 7683, 7688, 7697,\n",
      "       7702, 7721, 7730, 7766, 7775, 7781, 7784, 7795, 7802, 7815, 7816,\n",
      "       7821, 7828, 7842, 7853, 7867, 7879, 7884, 7896, 7948, 7975, 7977,\n",
      "       7982, 7997, 8002, 8003, 8024, 8030, 8036, 8071, 8077, 8090]),)\n",
      "[18 14  2 18 18  0 18  2  2  3  4  2  2  2  2  2  0  2  2  2 18  2 18 18\n",
      "  2 18 18  2 18  2 18  2  3  2 18  2  0  2 18  0 18  0  0 18  0 18  0  2\n",
      " 18  2  2  2 18 10  4  2 14  2 18  2  0 18  2  2  2  2  2 18 18  2 18  2\n",
      "  2 18  2 18 18  2  2  5  2 18  2 17  3  2 18  2  2 18  2 18  2  3  4  2\n",
      "  2  2 18  2  2  2 18  2 10  3 18 14  2  2 18 18  2  0  2 18  2  3  2  2\n",
      "  0 18  0 18  2  2  2  3  2  2  2  2  2 10  2  3  3  3 18 14  2  2  2  2\n",
      "  2  2 18 18 18  2  3 18 18 18 18 18 18  2  2  2 18  3  2  2  2 18  2  2\n",
      "  2  2 10  2  2  2  2  2  2  9  0  2  3 18 18  2  2 18  2 18 18 18  2  0\n",
      "  2 18  2 18 18 10 14 18  2 14  2  2 16  2  2  0  2  2  3  2  0  2  2  2\n",
      "  9  2 18  2 14  2  2  2 14 18 18  2  2 14 18  4  3 18  2  2  0  2  2  0\n",
      "  2 18  2 18  2  0 18  2  2 18  2  2  2  2  2  2  2  2  2  0  2  2  2  0\n",
      " 18  0  2 17 18 18 18  2  0  0  2  2  4  2 18  0  2  2  2  2 18  2  0 18\n",
      "  2  2  2  2  2  2  2 18 18  2  3  2 18  2  0  0 18  2 18  2 18  2  2  2\n",
      " 10  0 18  2  2  2 18  0  2  2  0 18 18 18  0  2  2 18  2  2  2 14 18  2\n",
      "  2 14  2 18  3 18  2 18  2 18  2 14 18 18 18  2 18  0 18 18  2 18  3 18\n",
      " 18  2  2  2  0  2  2 19  2 18 18 18  2  2  2 18  0 18  3 18 18 18  2 18\n",
      " 18 18  2 14  2 18  2 18 14 18  2 18  0 18  2  0  2 18 18  2 18  2 18  2\n",
      "  2  3  2 18  2 10 18  2  2  2  9 18 18 18  2 18  2 18  2 18  0 18  0 18\n",
      "  2 18  0  3  2  2  4 18  0  3 16  2  2  0 18  2  2  3  3  2  2  2  2  2\n",
      " 18  2 18  3  2  2  2 19 14 18  3 18 18 18  0  3  9  3 18 18 18 18  2 18\n",
      "  0 18  2  2  2  2 18  2 18  2 18  4  2 18 18  2 18 18  2  2 18 18  2  3\n",
      " 18  2  2  2 18  2  2  2 18 18  2  3 18  2  2 18 18 18  4  2  2 18  2  2\n",
      " 18  2 18  2 18  2  2  2 18 18  2  2  2  2  2  2 18  2 18  2  2  5 18  2\n",
      " 18 18  2  0 18  2  4 10 18  2  2  3  0 18  3  2 18 14  3  2 18  2 14  2\n",
      " 14  2 18  3 18 18  2 18  2 18  2  2  3 18 18 18 18  2  0  3  2  2 18  4\n",
      "  2 14  3 18  2  2  3  2 18  2 18 18  2 18  2  2  0 18  0  0  3  2 18  3\n",
      "  2  0  2  2  2 18  2 18  0  2  2  3  2  2 18  0  2  2 18  2  2  2  2  2\n",
      "  0  2 10  0 18 18  2 14  2  2  2  2  0 10  2  2  4  2  2 18  2  0  2  2\n",
      "  2  2 18 14  2  2  2  2 16  2  2 18  3  4  2 10  3  2  2  0 18  2  2  2\n",
      "  2  2  3  0 10  2  0  0  2  2 18 18 18  0  2  2  4  2  3 18  0  2 18  2\n",
      "  2  2 18 18 18  2  3  3 18  0  3  2  2  2 18 18  2 18 18  3  2  2  4  2\n",
      "  9 18  2  2 14 14 18 18  3 14 14  3 18  0  0  2 14 18  4  2  3 18  3  0\n",
      "  2  2  2  2  3 14 18  2 18  2  2  4 18  2  2  0 14 10  9  2  0 18 18]\n",
      "1.0 (array([   4,   37,   55,   86,   89,   92,  101,  118,  131,  152,  156,\n",
      "        166,  198,  199,  208,  212,  246,  253,  255,  266,  269,  275,\n",
      "        277,  282,  293,  295,  300,  311,  325,  328,  342,  351,  364,\n",
      "        386,  394,  399,  406,  415,  432,  435,  437,  450,  467,  472,\n",
      "        481,  490,  496,  514,  526,  544,  549,  559,  571,  573,  576,\n",
      "        594,  600,  607,  613,  614,  626,  641,  654,  663,  664,  670,\n",
      "        682,  685,  687,  707,  718,  745,  750,  753,  778,  780,  781,\n",
      "        784,  786,  801,  805,  806,  816,  820,  831,  845,  874,  886,\n",
      "        888,  889,  906,  910,  914,  926,  929,  931,  941,  944,  945,\n",
      "        946,  967,  970,  971,  981,  985,  990,  991,  995,  996, 1010,\n",
      "       1019, 1030, 1048, 1049, 1064, 1076, 1088, 1095, 1096, 1110, 1113,\n",
      "       1115, 1126, 1141, 1150, 1157, 1191, 1205, 1212, 1214, 1227, 1228,\n",
      "       1246, 1267, 1269, 1278, 1284, 1287, 1288, 1290, 1296, 1300, 1322,\n",
      "       1336, 1345, 1358, 1359, 1369, 1381, 1383, 1384, 1391, 1392, 1403,\n",
      "       1404, 1408, 1419, 1421, 1422, 1452, 1454, 1458, 1459, 1463, 1471,\n",
      "       1497, 1499, 1511, 1512, 1529, 1546, 1560, 1564, 1592, 1594, 1634,\n",
      "       1637, 1649, 1650, 1661, 1663, 1680, 1685, 1688, 1703, 1713, 1734,\n",
      "       1736, 1745, 1763, 1769, 1776, 1796, 1798, 1800, 1803, 1805, 1812,\n",
      "       1814, 1838, 1859, 1866, 1877, 1879, 1887, 1902, 1926, 1928, 1936,\n",
      "       1952, 1962, 1971, 1973, 1978, 1981, 1989, 1999, 2001, 2005, 2022,\n",
      "       2038, 2049, 2050, 2059, 2061, 2099, 2113, 2118, 2125, 2135, 2142,\n",
      "       2149, 2152, 2181, 2190, 2202, 2207, 2216, 2240, 2247, 2248, 2255,\n",
      "       2262, 2264, 2266, 2267, 2292, 2332, 2336, 2392, 2398, 2406, 2419,\n",
      "       2421, 2423, 2430, 2436, 2442, 2461, 2462, 2466, 2471, 2479, 2482,\n",
      "       2498, 2501, 2506, 2508, 2515, 2518, 2522, 2529, 2531, 2542, 2545,\n",
      "       2553, 2563, 2580, 2583, 2588, 2590, 2597, 2604, 2617, 2621, 2624,\n",
      "       2629, 2639, 2641, 2646, 2650, 2651, 2652, 2661, 2681, 2688, 2695,\n",
      "       2697, 2701, 2717, 2729, 2753, 2758, 2767, 2769, 2776, 2778, 2781,\n",
      "       2791, 2802, 2803, 2844, 2859, 2863, 2865, 2874, 2880, 2891, 2898,\n",
      "       2901, 2910, 2914, 2929, 2933, 2941, 2946, 2950, 2957, 2960, 2984,\n",
      "       2985, 2986, 2994, 3011, 3013, 3029, 3036, 3055, 3058, 3083, 3084,\n",
      "       3088, 3093, 3095, 3100, 3102, 3108, 3110, 3119, 3120, 3126, 3136,\n",
      "       3139, 3159, 3164, 3166, 3173, 3198, 3204, 3207, 3211, 3213, 3215,\n",
      "       3221, 3229, 3230, 3239, 3240, 3242, 3244, 3251, 3269, 3293, 3299,\n",
      "       3308, 3323, 3324, 3327, 3340, 3343, 3357, 3364, 3368, 3369, 3370,\n",
      "       3374, 3381, 3388, 3402, 3422, 3425, 3428, 3444, 3463, 3472, 3476,\n",
      "       3488, 3499, 3505, 3511, 3516, 3517, 3537, 3541, 3542, 3544, 3561,\n",
      "       3573, 3584, 3586, 3590, 3593, 3600, 3606, 3607, 3609, 3616, 3620,\n",
      "       3636, 3696, 3699, 3705, 3718, 3721, 3737, 3738, 3740, 3741, 3742,\n",
      "       3743, 3747, 3757, 3772, 3778, 3782, 3796, 3818, 3819, 3821, 3829,\n",
      "       3836, 3853, 3883, 3887, 3902, 3904, 3906, 3908, 3910, 3916, 3918,\n",
      "       3972, 3973, 3978, 3997, 3998, 4031, 4037, 4046, 4047, 4075, 4092,\n",
      "       4096, 4098, 4115, 4135, 4143, 4152, 4153, 4173, 4184, 4187, 4191,\n",
      "       4197, 4199, 4204, 4215, 4236, 4242, 4243, 4250, 4264, 4274, 4275,\n",
      "       4288, 4290, 4292, 4310, 4314, 4332, 4333, 4335, 4342, 4360, 4362,\n",
      "       4374, 4380, 4382, 4403, 4417, 4435, 4436, 4441, 4476, 4478, 4482,\n",
      "       4543, 4552, 4556, 4570, 4575, 4591, 4593, 4606, 4609, 4619, 4624,\n",
      "       4626, 4635, 4646, 4651, 4656, 4663, 4668, 4677, 4685, 4694, 4740,\n",
      "       4742, 4765, 4767, 4775, 4793, 4801, 4805, 4807, 4815, 4826, 4836,\n",
      "       4837, 4866, 4880, 4882, 4887, 4894, 4903, 4909, 4911, 4923, 4932,\n",
      "       4935, 4944, 4947, 4961, 4981, 4994, 5000, 5004, 5016, 5030, 5036,\n",
      "       5043, 5049, 5060, 5070, 5079, 5083, 5088, 5092, 5099, 5100, 5102,\n",
      "       5108, 5113, 5115, 5125, 5143, 5161, 5169, 5198, 5200, 5203, 5205,\n",
      "       5217, 5221, 5232, 5243, 5250, 5263, 5267, 5268, 5270, 5285, 5286,\n",
      "       5300, 5304, 5307, 5310, 5314, 5321, 5324, 5341, 5361, 5366, 5383,\n",
      "       5405, 5408, 5411, 5413, 5415, 5426, 5437, 5461, 5473, 5482, 5500,\n",
      "       5512, 5520, 5543, 5552, 5560, 5561, 5569, 5573, 5578, 5588, 5606,\n",
      "       5611, 5612, 5615, 5619, 5628, 5644, 5651, 5658, 5671, 5693, 5697,\n",
      "       5699, 5701, 5703, 5735, 5737, 5741, 5755, 5767, 5775, 5776, 5783,\n",
      "       5784, 5786, 5789, 5798, 5801, 5821, 5835, 5865, 5872, 5903, 5911,\n",
      "       5929, 5930, 5933, 5934, 5939, 5941, 5946, 5963, 5968, 5980, 5990,\n",
      "       5992, 6009, 6024, 6029, 6031, 6036, 6037, 6038, 6040, 6048, 6050,\n",
      "       6067, 6083, 6088, 6096, 6104, 6105, 6107, 6110, 6118, 6122, 6127,\n",
      "       6132, 6134, 6145, 6173, 6179, 6183, 6189, 6191, 6220, 6221, 6222,\n",
      "       6238, 6257, 6265, 6276, 6283, 6295, 6297, 6307, 6319, 6324, 6346,\n",
      "       6367, 6378, 6394, 6401, 6409, 6437, 6453, 6461, 6463, 6469, 6472,\n",
      "       6475, 6483, 6496, 6514, 6515, 6520, 6557, 6581, 6582, 6584, 6591,\n",
      "       6599, 6603, 6611, 6612, 6627, 6644, 6652, 6660, 6662, 6677, 6697,\n",
      "       6710, 6723, 6735, 6767, 6771, 6781, 6785, 6786, 6791, 6818, 6820,\n",
      "       6847, 6852, 6857, 6875, 6889, 6898, 6909, 6921, 6923, 6960, 6967,\n",
      "       6971, 6974, 6984, 6992, 6995, 7012, 7016, 7021, 7031, 7034, 7060,\n",
      "       7066, 7078, 7084, 7102, 7120, 7137, 7142, 7156, 7168, 7172, 7180,\n",
      "       7187, 7189, 7198, 7200, 7202, 7204, 7207, 7215, 7224, 7228, 7234,\n",
      "       7236, 7237, 7244, 7257, 7263, 7264, 7267, 7297, 7300, 7304, 7313,\n",
      "       7323, 7324, 7329, 7360, 7370, 7385, 7400, 7429, 7432, 7434, 7449,\n",
      "       7457, 7470, 7475, 7492, 7503, 7514, 7545, 7549, 7551, 7580, 7584,\n",
      "       7585, 7593, 7597, 7604, 7619, 7647, 7651, 7656, 7686, 7689, 7692,\n",
      "       7711, 7712, 7747, 7752, 7757, 7761, 7777, 7788, 7801, 7809, 7830,\n",
      "       7854, 7887, 7891, 7901, 7915, 7916, 7930, 7939, 7945, 7949, 7963,\n",
      "       7972, 7974, 7978, 7980, 7983, 7987, 7988, 7989, 7991, 7996, 8009,\n",
      "       8019, 8032, 8033, 8050, 8051, 8055, 8087, 8096]),)\n",
      "[ 8  8  1  8  1  8  8  8  6  8  6  8  8  1  8  1  6  8  8  8  8  1  1  8\n",
      "  8  8  6  8  6  1  8  8  6  8  8  1  8  3  8  1  8  8  8  8  8  8  8  8\n",
      "  1  8  6  8  8  6  1  1  6  8  6  6  8  8 11  8  6  6 11  8  8  0  8  8\n",
      "  8  8  6  1  8  8  8  1  8  6  1  1  6  1  8  6  1  1  6  8  6  8  6  6\n",
      "  8  8  1  8  8  1  8  8  6  8  8  8  8 11  8  8  8  8  6  6  6  1  1  6\n",
      "  8  8  6  6  8  8  1  1 17  1  8  8  8  8  1  8  6  1  1  8  6  6  1  6\n",
      "  8  3  8  1  1  8  8  6  8  6  6  8  8  3  8  1  8  8  8  8  6  6  8  6\n",
      "  6  8  8  8  8  1  8  8  8  8  6  6  8  8  1  8  8  6  8  8  8  6  8  8\n",
      "  8  6  8  8  8  8  1  1  6  8  8  8  6  1  1  6  6  6  6  8  8  1  8  1\n",
      "  8  8  8  8  1  1  8  8  1  8  8  6  8 11  8  9  8  8  8  6  8  6  8  1\n",
      "  9  8  6  8  8  8  8  8  3  8  1  6  8  1  6  8  6  8  8  8  6 14  8  8\n",
      "  8  8  6  8  8  8  8  8  8  8  6  8  8  8  9  1  8  6  8  8  8  6  8  8\n",
      "  8  1  6  1  8  8  8  8  8  6  6  6  6  8  8  8  6  1 11  6  8  6  8  8\n",
      "  6  1  3  6  8  8  8  1  6  1  1 16  6  8  1  8  8  8  8  8  6  1  1  8\n",
      "  8  8  6  1  8  8  6  8  8  8  1  8  6  8  6  8  8  1  8  8  8  8  8  8\n",
      "  1  1  1  8  8  8  1  8  1  8  1  6  8  6  6  1  8  6  3  1  8  8  8  8\n",
      "  8  8  1  8 16  8  8  4  8  8  1  6  8  8  6  1  1  6  6  8  1  1  6  8\n",
      "  8  8  8  1 14  1  1  8  8  1  8  8  8  8  1  1  6  8 10  8  6  8  8  8\n",
      "  8  1  8  8  8  1  8  6  1  1  1  8  1  1  6  8  8  8  8  1  8  8  8  3\n",
      "  8  8  8 17  8  1  8  6  8  1  6  6  1  8  1  8  1  8  6  8  1  6  8  6\n",
      "  8  8  6  8  8  6  8  1  6  8  8  1  8  8  8  8  6  8  1  8  8  6  6  8\n",
      "  6  1  8  8  8  8  1  8  8  8  1  8  8  8  6  8  6  8  1  4  8  8  8  1\n",
      "  8  1  6  1  1  1  1 11  8  6  6  1  8  8 11  8  8  9  1  6  6  8  6  8\n",
      "  6  8  8  1  1  6  6  8  6  1  6  8  3  8  8  8  8  8  6  8  1  6  8  8\n",
      "  8  1  6  8  8  8  6  8  8  6  8  6  1  8  6  1  6  8  1  8  1  1  6  8\n",
      "  8  0  8  8  8  1  8  8  8  8  1  8  8  8  6  1  8  6  8  8  8  8  1  8\n",
      " 11  1  6  8  8  8  8  8  8  8  6  8  8  6  1  6  8  9  8  6  8  8  8 16\n",
      "  8  1  8  8 16  8  8  8  8  8  8  8  8  8  6  1  8  8  6  8  8  8  8  1\n",
      "  8  8  1  8  8  8  8  1  1  6  8  6  6  8  8  6  8  8  3  6  6  6  8  8\n",
      "  8  8  6  8  8  6  6  8  1  8  6  1  8  8  6  8  8  8  6  8  8  6  6  8\n",
      "  1 11  1  6  8  8  1  6  8  8  6  6  1  1  8  6  8  8  8  8  8  8  8  6\n",
      "  8  1  1  8  6  8  1  1  8  1  8  8 19  8  1  8  8  1  8  6  8  8  8  1\n",
      "  1  8  8  8  8  8  1  8  8  1  8  8  6  8  8  8  1  8  8  8  8  6  1  1\n",
      "  1  8  8  6  8  8  6  8  8  8  8  6  6  6  8  8 17  1  8  8  8  8 16  1\n",
      "  8  1  8  8  8  8  8  4  6  1  6  1  6  8  8  8  6  8  6  8  8  8  1  1\n",
      "  8  8  6  8  8  8  8  8 11  8  6  8  1  8  8  3  6  8  1  8  6  8  8  8\n",
      "  6  6  8  8  6  1  8  8  8  8  8  8  8 11  6  6  8  1  8  8  8  6  8  1]\n",
      "2.0 (array([  22,   47,   53,   54,   56,   61,   63,   70,   91,  105,  146,\n",
      "        188,  192,  194,  210,  219,  226,  234,  237,  243,  244,  245,\n",
      "        259,  279,  281,  288,  291,  294,  298,  304,  306,  307,  309,\n",
      "        313,  326,  337,  339,  344,  353,  367,  371,  379,  383,  390,\n",
      "        398,  413,  426,  429,  433,  480,  494,  502,  504,  513,  525,\n",
      "        527,  533,  534,  551,  555,  561,  580,  587,  591,  595,  635,\n",
      "        643,  646,  649,  661,  662,  679,  684,  689,  705,  708,  716,\n",
      "        727,  728,  729,  737,  740,  741,  742,  746,  748,  788,  794,\n",
      "        821,  843,  849,  860,  868,  878,  887,  915,  940,  942,  992,\n",
      "       1006, 1018, 1026, 1029, 1036, 1041, 1062, 1099, 1103, 1108, 1118,\n",
      "       1122, 1125, 1128, 1140, 1146, 1160, 1171, 1173, 1189, 1200, 1210,\n",
      "       1244, 1261, 1263, 1271, 1289, 1306, 1313, 1343, 1366, 1371, 1372,\n",
      "       1373, 1389, 1393, 1394, 1401, 1431, 1433, 1438, 1447, 1450, 1469,\n",
      "       1473, 1492, 1505, 1519, 1521, 1541, 1542, 1552, 1580, 1586, 1597,\n",
      "       1598, 1602, 1610, 1617, 1622, 1625, 1627, 1628, 1629, 1631, 1640,\n",
      "       1672, 1678, 1682, 1710, 1714, 1715, 1718, 1720, 1748, 1752, 1762,\n",
      "       1773, 1783, 1785, 1799, 1810, 1817, 1820, 1823, 1832, 1858, 1862,\n",
      "       1888, 1909, 1922, 1923, 1930, 1949, 1958, 1997, 2016, 2020, 2028,\n",
      "       2035, 2037, 2041, 2052, 2056, 2057, 2073, 2077, 2082, 2085, 2087,\n",
      "       2093, 2108, 2116, 2127, 2147, 2148, 2157, 2158, 2185, 2189, 2205,\n",
      "       2212, 2217, 2223, 2234, 2242, 2245, 2251, 2256, 2269, 2290, 2303,\n",
      "       2308, 2311, 2324, 2331, 2343, 2354, 2365, 2386, 2405, 2408, 2410,\n",
      "       2415, 2416, 2431, 2437, 2441, 2444, 2448, 2449, 2453, 2455, 2470,\n",
      "       2473, 2497, 2512, 2513, 2520, 2547, 2548, 2549, 2554, 2574, 2579,\n",
      "       2586, 2591, 2594, 2600, 2606, 2611, 2612, 2627, 2633, 2649, 2658,\n",
      "       2659, 2666, 2667, 2669, 2675, 2678, 2684, 2685, 2693, 2712, 2727,\n",
      "       2732, 2770, 2775, 2779, 2788, 2801, 2806, 2821, 2824, 2826, 2828,\n",
      "       2830, 2833, 2835, 2840, 2843, 2864, 2889, 2900, 2918, 2931, 2948,\n",
      "       2968, 2972, 2981, 2996, 2998, 3002, 3020, 3021, 3024, 3038, 3039,\n",
      "       3054, 3059, 3101, 3103, 3113, 3129, 3162, 3175, 3188, 3199, 3206,\n",
      "       3216, 3217, 3237, 3259, 3266, 3270, 3279, 3305, 3312, 3320, 3336,\n",
      "       3359, 3376, 3385, 3391, 3399, 3407, 3409, 3430, 3466, 3468, 3482,\n",
      "       3491, 3497, 3502, 3512, 3536, 3547, 3580, 3589, 3597, 3611, 3612,\n",
      "       3613, 3618, 3621, 3629, 3641, 3670, 3672, 3691, 3704, 3716, 3744,\n",
      "       3745, 3746, 3751, 3754, 3794, 3801, 3823, 3824, 3832, 3844, 3861,\n",
      "       3864, 3869, 3879, 3880, 3882, 3900, 3901, 3923, 3924, 3928, 3931,\n",
      "       3932, 3939, 3945, 3988, 3995, 4000, 4004, 4005, 4011, 4025, 4027,\n",
      "       4049, 4065, 4083, 4087, 4110, 4113, 4116, 4132, 4142, 4166, 4169,\n",
      "       4176, 4183, 4186, 4189, 4203, 4210, 4225, 4241, 4245, 4249, 4254,\n",
      "       4267, 4287, 4294, 4305, 4308, 4318, 4327, 4334, 4354, 4357, 4367,\n",
      "       4388, 4392, 4393, 4397, 4409, 4424, 4438, 4456, 4461, 4467, 4496,\n",
      "       4499, 4500, 4503, 4522, 4546, 4558, 4559, 4561, 4569, 4573, 4580,\n",
      "       4582, 4589, 4594, 4598, 4607, 4612, 4614, 4633, 4643, 4686, 4689,\n",
      "       4696, 4699, 4704, 4714, 4744, 4752, 4779, 4794, 4797, 4804, 4806,\n",
      "       4844, 4846, 4848, 4854, 4857, 4877, 4881, 4891, 4896, 4907, 4933,\n",
      "       4942, 4946, 4969, 4970, 4973, 4978, 4984, 4988, 4991, 5007, 5014,\n",
      "       5020, 5027, 5051, 5071, 5078, 5093, 5096, 5104, 5122, 5128, 5133,\n",
      "       5149, 5162, 5173, 5186, 5195, 5207, 5214, 5215, 5230, 5240, 5253,\n",
      "       5255, 5264, 5280, 5281, 5323, 5326, 5328, 5331, 5337, 5370, 5377,\n",
      "       5378, 5404, 5409, 5410, 5419, 5424, 5433, 5434, 5435, 5450, 5453,\n",
      "       5458, 5483, 5499, 5513, 5549, 5594, 5604, 5608, 5632, 5635, 5648,\n",
      "       5666, 5673, 5692, 5706, 5721, 5724, 5739, 5743, 5744, 5746, 5751,\n",
      "       5797, 5799, 5803, 5807, 5818, 5829, 5832, 5834, 5847, 5852, 5859,\n",
      "       5871, 5873, 5877, 5879, 5881, 5898, 5907, 5912, 5916, 5920, 5924,\n",
      "       5949, 5951, 5966, 5970, 5978, 6016, 6021, 6023, 6035, 6061, 6075,\n",
      "       6080, 6087, 6099, 6108, 6111, 6130, 6149, 6150, 6153, 6158, 6174,\n",
      "       6181, 6182, 6196, 6208, 6227, 6234, 6259, 6270, 6272, 6289, 6301,\n",
      "       6343, 6348, 6355, 6357, 6374, 6405, 6423, 6430, 6432, 6433, 6436,\n",
      "       6444, 6452, 6459, 6476, 6484, 6485, 6492, 6495, 6503, 6527, 6529,\n",
      "       6532, 6538, 6566, 6615, 6618, 6641, 6651, 6661, 6665, 6667, 6672,\n",
      "       6680, 6682, 6699, 6703, 6709, 6715, 6722, 6725, 6734, 6737, 6761,\n",
      "       6763, 6766, 6768, 6782, 6797, 6813, 6814, 6823, 6835, 6839, 6858,\n",
      "       6862, 6869, 6870, 6872, 6876, 6879, 6892, 6897, 6903, 6910, 6912,\n",
      "       6956, 6958, 6962, 6989, 6990, 6991, 6993, 6994, 7002, 7037, 7068,\n",
      "       7069, 7071, 7072, 7083, 7088, 7094, 7098, 7108, 7111, 7119, 7155,\n",
      "       7166, 7185, 7221, 7222, 7230, 7251, 7268, 7277, 7290, 7292, 7312,\n",
      "       7322, 7331, 7336, 7350, 7351, 7357, 7384, 7391, 7392, 7423, 7424,\n",
      "       7436, 7462, 7465, 7467, 7482, 7489, 7506, 7517, 7527, 7529, 7540,\n",
      "       7552, 7554, 7558, 7587, 7599, 7601, 7602, 7607, 7618, 7648, 7654,\n",
      "       7664, 7665, 7671, 7674, 7694, 7700, 7705, 7707, 7715, 7738, 7744,\n",
      "       7760, 7765, 7772, 7782, 7786, 7792, 7810, 7826, 7827, 7836, 7838,\n",
      "       7839, 7845, 7855, 7856, 7864, 7870, 7875, 7878, 7883, 7886, 7898,\n",
      "       7899, 7903, 7907, 7910, 7929, 7954, 7970, 7973, 8000, 8001, 8005,\n",
      "       8007, 8012, 8046, 8049, 8052, 8076, 8079, 8081, 8086, 8094]),)\n",
      "[ 4  4  4 10 10 10  4 10 10 11 13 11  4  3  4 10  9 10  6  4 10 10  4  4\n",
      "  2 14  4  6  4  4  4  4  4 10 10 10 10 10 10 11  4  4 10  4  4  9  4  4\n",
      "  4  4 10  4  4  9 16  4 10  4 10 10 10  4  4 14  4  4  4  4 10 10 10 10\n",
      "  4 14  9  9 19 11 10  4 14  6  9 11  4 10 10  4 10  4  4 10 10  4 10 10\n",
      " 10  4 10 14  4 10  3 10 16  4 10 14  4  4 10 10  9 10  4  4 10 11 14 10\n",
      "  4 11  4  9 10 10 10 14 11  4  0 11  4  9 10  4 11  4 10 16 10 10  4  4\n",
      " 10 12  9  4 10 14  9 10 10 10  4 10  4 10 10 10  4 10  3 14 10  0  4  0\n",
      "  4  9  9 10 11 11 11  0 14 10 11  4  4  4  4 10  4 14 10 10 11  4  4 11\n",
      " 10  4  4 10  4  4  4 10  9  4  9  4  4  4  4 10 12 14 10  4 10 10  4 10\n",
      " 14 10 10  9  4  4 14 11 16  6 16  4  0 16 14  4  4 11 10 16 10  3  4 10\n",
      "  4 11  4  4 13 10  4  9 10  6  9  9  9 12  4  4  4  6 11  3  4  3 10  4\n",
      "  4  9  4  9  4  4  0  4  4  9  4 16 11 11 16 10  4 10  9  0  9  4 14 14\n",
      " 10 10  4  4  4  4 10  4 10  9  9 11 10  0 10 10 10  9  4 10  2 11  4 16\n",
      " 10  9  4 10 14  4  9 10 13 10 14 10 11  3  0  4  4 13 14 10 10  4  9  4\n",
      " 10 10 10  4  4  4 10 10  9 14 16  4 10  9 11 11  4  4 11 14 10  4 11  4\n",
      "  4  4 16  4  9  3 16  4 11  0 14  0 11 10 13  5  4 10  4 10 17 11 11  9\n",
      " 10 11 10  4 10  4 10 11 11 11  9  4 10  4  4 10 10 11 10 14  4  4  9 10\n",
      "  4 10  4  4 10 10 10  4  9 11 14 10 10 14 10  4 10 10 10 10 10 10 10  4\n",
      " 14 14  4  4  4 10 16  4 12 10  4 10 10  4 10  4 16  4  4 12  0 11  4 14\n",
      "  9  4 10 10 10 10 11  0  1 10 16  4 11  4 10 10 10 10 11 10 11  9  4 14\n",
      " 11  4 10  0  4  9  4  4 10  9  9  4 11  4  4 11 10  4 11  4  4  4 10  6\n",
      " 16  4  9 14  9 11  4  4  4  4  9 11  0  9 10  4  9 10 11  9  4 10 10  3\n",
      " 10  9 14  4 10 13  4  9 11 10 11  4  4  4 10 10 10 10  4 10  4 10 15  4\n",
      "  6 10 14 10 10 16 11  4 10 10 11  4 10 10  4 10 11  4 14  6 16  2 14  4\n",
      "  4 10  9 10 10 11  9  4 10 14  9 11  0 14  4 10 10 11  4  4  4 10  0 10\n",
      " 10  4 10  6 11  4 10 10 10  6  4  4  9 10  4 10  4  4  4 10  0  4  9  6\n",
      " 10 10 10 10 11 10  9 10  4  4  4  4  4  4 11 12  4 10  4 10  4 10  4  4\n",
      " 10  0 11  4 10  3  9 10  4 10 11 10 14  0  9 10 10  4 10 16  4  4 10  9\n",
      " 11  4  4  4  9 10 10  4 11  4  9  0 10 16 10 14 16  3 11 11  4  9 10  4\n",
      " 14  4 10  4  4  4 11 10 10 11 10 10 14  4 10  4 10  4  4  4  4  4 10  5\n",
      "  9 11 10  9 11  9 10  4 10  4 10 11 14 10  4 10  4 10 10 10 16  4  9 10\n",
      "  4  4  4  4 10 14  9  3 10 10 11 10 11  4 10  4  9  9  4  9 14 14  4  4\n",
      "  4 10 10 10 10  4  4 10 10  0 11 10  9 10  4  4  4  9 10  4  9  4 10  5\n",
      "  4 10  4  4  4  6 10 10  4 14 10 10 14  4 10  4  4  4  4 11 11]\n",
      "3.0 (array([   1,    8,   14,   26,   29,   44,   46,   48,   60,   71,   73,\n",
      "         78,  122,  128,  130,  132,  145,  153,  155,  159,  165,  174,\n",
      "        182,  218,  222,  225,  231,  256,  283,  290,  297,  314,  319,\n",
      "        321,  324,  360,  368,  381,  384,  419,  420,  423,  444,  445,\n",
      "        447,  461,  492,  497,  507,  509,  518,  532,  545,  556,  564,\n",
      "        574,  575,  593,  597,  609,  612,  628,  637,  639,  642,  644,\n",
      "        648,  671,  672,  675,  676,  696,  697,  703,  717,  720,  725,\n",
      "        743,  747,  749,  751,  752,  758,  759,  764,  783,  789,  800,\n",
      "        813,  819,  847,  855,  859,  863,  870,  873,  884,  893,  901,\n",
      "        908,  916,  923,  924,  925,  927,  930,  935,  936,  956,  965,\n",
      "        976,  980,  983,  987,  989, 1008, 1037, 1040, 1051, 1057, 1063,\n",
      "       1071, 1077, 1081, 1082, 1090, 1091, 1092, 1129, 1132, 1134, 1136,\n",
      "       1147, 1162, 1175, 1180, 1183, 1194, 1209, 1215, 1236, 1245, 1248,\n",
      "       1250, 1266, 1270, 1304, 1317, 1329, 1330, 1344, 1386, 1395, 1412,\n",
      "       1428, 1434, 1435, 1482, 1486, 1526, 1533, 1534, 1537, 1538, 1556,\n",
      "       1558, 1577, 1647, 1651, 1668, 1674, 1681, 1683, 1691, 1726, 1733,\n",
      "       1735, 1739, 1749, 1755, 1764, 1777, 1802, 1821, 1824, 1853, 1854,\n",
      "       1863, 1876, 1880, 1891, 1892, 1899, 1900, 1905, 1931, 1940, 1943,\n",
      "       1951, 1954, 1992, 1996, 2010, 2019, 2032, 2055, 2066, 2068, 2083,\n",
      "       2104, 2105, 2106, 2110, 2122, 2129, 2141, 2153, 2154, 2164, 2171,\n",
      "       2188, 2192, 2193, 2219, 2224, 2229, 2232, 2243, 2249, 2258, 2285,\n",
      "       2300, 2305, 2307, 2318, 2326, 2339, 2352, 2357, 2359, 2363, 2372,\n",
      "       2394, 2396, 2401, 2403, 2404, 2425, 2433, 2435, 2447, 2451, 2483,\n",
      "       2487, 2492, 2493, 2499, 2504, 2509, 2510, 2511, 2534, 2538, 2577,\n",
      "       2578, 2589, 2598, 2618, 2637, 2643, 2673, 2679, 2680, 2683, 2686,\n",
      "       2713, 2728, 2737, 2739, 2748, 2771, 2789, 2790, 2794, 2795, 2798,\n",
      "       2810, 2848, 2852, 2862, 2868, 2876, 2913, 2917, 2937, 2944, 2954,\n",
      "       2961, 2974, 2976, 3009, 3027, 3028, 3040, 3044, 3049, 3061, 3068,\n",
      "       3069, 3074, 3085, 3089, 3099, 3106, 3127, 3134, 3150, 3158, 3183,\n",
      "       3195, 3205, 3208, 3220, 3232, 3235, 3264, 3276, 3280, 3306, 3307,\n",
      "       3321, 3326, 3351, 3360, 3363, 3379, 3387, 3403, 3410, 3429, 3433,\n",
      "       3448, 3452, 3453, 3469, 3481, 3486, 3494, 3496, 3503, 3520, 3522,\n",
      "       3524, 3529, 3535, 3540, 3551, 3595, 3626, 3646, 3651, 3660, 3666,\n",
      "       3676, 3681, 3683, 3703, 3724, 3733, 3749, 3750, 3763, 3771, 3775,\n",
      "       3786, 3789, 3790, 3812, 3813, 3814, 3817, 3822, 3826, 3827, 3828,\n",
      "       3857, 3858, 3866, 3874, 3894, 3960, 3975, 3979, 3982, 4003, 4007,\n",
      "       4009, 4015, 4018, 4028, 4038, 4062, 4068, 4085, 4108, 4114, 4122,\n",
      "       4128, 4134, 4139, 4147, 4158, 4165, 4193, 4205, 4222, 4224, 4229,\n",
      "       4232, 4253, 4256, 4257, 4259, 4269, 4271, 4282, 4286, 4293, 4296,\n",
      "       4301, 4320, 4323, 4326, 4337, 4348, 4351, 4368, 4395, 4407, 4412,\n",
      "       4419, 4431, 4433, 4448, 4453, 4465, 4491, 4493, 4494, 4506, 4530,\n",
      "       4532, 4537, 4553, 4554, 4564, 4567, 4571, 4584, 4585, 4618, 4629,\n",
      "       4642, 4654, 4667, 4678, 4679, 4690, 4691, 4710, 4737, 4758, 4761,\n",
      "       4771, 4778, 4789, 4790, 4792, 4799, 4829, 4845, 4847, 4860, 4863,\n",
      "       4872, 4879, 4884, 4885, 4886, 4901, 4912, 4913, 4916, 4920, 4921,\n",
      "       4945, 4963, 4967, 4982, 4985, 5001, 5010, 5035, 5040, 5045, 5061,\n",
      "       5073, 5089, 5103, 5106, 5117, 5119, 5134, 5137, 5154, 5168, 5176,\n",
      "       5190, 5199, 5206, 5229, 5238, 5241, 5260, 5265, 5269, 5295, 5330,\n",
      "       5358, 5368, 5369, 5375, 5382, 5384, 5386, 5388, 5390, 5403, 5414,\n",
      "       5417, 5438, 5446, 5460, 5462, 5497, 5506, 5507, 5538, 5540, 5541,\n",
      "       5550, 5584, 5585, 5597, 5599, 5601, 5605, 5627, 5629, 5652, 5659,\n",
      "       5665, 5667, 5668, 5670, 5685, 5687, 5704, 5708, 5714, 5716, 5720,\n",
      "       5725, 5728, 5734, 5736, 5738, 5748, 5753, 5754, 5760, 5761, 5780,\n",
      "       5782, 5796, 5805, 5820, 5843, 5857, 5878, 5891, 5892, 5894, 5901,\n",
      "       5909, 5914, 5923, 5925, 5937, 5940, 5942, 5958, 5971, 5985, 5997,\n",
      "       5998, 6006, 6019, 6025, 6026, 6033, 6034, 6043, 6046, 6055, 6071,\n",
      "       6076, 6092, 6106, 6114, 6124, 6161, 6168, 6175, 6197, 6199, 6201,\n",
      "       6212, 6245, 6266, 6268, 6271, 6273, 6284, 6290, 6292, 6327, 6338,\n",
      "       6347, 6350, 6351, 6354, 6356, 6365, 6369, 6387, 6388, 6390, 6393,\n",
      "       6396, 6404, 6406, 6418, 6427, 6446, 6447, 6450, 6456, 6464, 6468,\n",
      "       6470, 6477, 6479, 6494, 6500, 6504, 6510, 6516, 6525, 6526, 6543,\n",
      "       6550, 6587, 6614, 6620, 6624, 6628, 6643, 6646, 6654, 6679, 6692,\n",
      "       6696, 6700, 6714, 6720, 6733, 6740, 6741, 6748, 6750, 6755, 6772,\n",
      "       6776, 6809, 6828, 6834, 6842, 6853, 6866, 6873, 6888, 6895, 6896,\n",
      "       6902, 6917, 6918, 6919, 6927, 6931, 6938, 6977, 6982, 6988, 7005,\n",
      "       7048, 7049, 7050, 7052, 7077, 7082, 7106, 7113, 7114, 7122, 7128,\n",
      "       7132, 7135, 7146, 7147, 7150, 7169, 7175, 7206, 7210, 7213, 7220,\n",
      "       7223, 7225, 7231, 7245, 7246, 7258, 7281, 7287, 7301, 7308, 7311,\n",
      "       7340, 7341, 7343, 7355, 7359, 7362, 7364, 7365, 7369, 7380, 7395,\n",
      "       7398, 7404, 7417, 7431, 7448, 7456, 7459, 7461, 7463, 7464, 7469,\n",
      "       7471, 7484, 7485, 7487, 7496, 7497, 7541, 7550, 7559, 7570, 7588,\n",
      "       7594, 7605, 7611, 7622, 7630, 7632, 7643, 7650, 7652, 7657, 7666,\n",
      "       7682, 7690, 7693, 7704, 7709, 7720, 7724, 7736, 7739, 7745, 7751,\n",
      "       7767, 7768, 7774, 7793, 7803, 7841, 7849, 7874, 7876, 7877, 7888,\n",
      "       7902, 7908, 7914, 7931, 7932, 7946, 7950, 7962, 7964, 7965, 7979,\n",
      "       7984, 7990, 8004, 8008, 8010, 8018, 8020, 8039, 8040, 8047, 8053,\n",
      "       8054, 8056, 8057, 8062, 8080]),)\n",
      "[11 14  6 12 17 14  9  9  9  9  9  9  4  4 16 10  9  9 16  3  9  0 12  0\n",
      "  9 16 16  4  9  0 11  9  3  4  9 12 16 16 16  6  9  9  0  9  4  9  0  7\n",
      "  9 12  9  9  9  9 16  0  0  9  9  9  7  7 16  9  7 16  4  0  9 12  4  4\n",
      " 16  9 14  9  9  9 14  9  9  6  9  9 16  9  6 14  7 11  9 16  9  7  0  9\n",
      " 16 11 14 16  6 14  7 16  9  9  9  9  9  7  9  9 14  7  4  0  0  9 16  7\n",
      "  9  7  9 11 16  6  9  9  9 14  7  9  9  7 16 16 16  0  4  3  3  9 16  9\n",
      "  9 16 16  4  9 15 16  3  7  7  9  9  9 14  9  9 14  0  3  9  4  9  9  0\n",
      " 16 14 14  0 14  7  0  9  3 14 16  9  7  4  9  0  9 16  9  6 16 16 16  9\n",
      " 11  7  0  9 16  9  0  9  9  4 14  0  9  9 14  9 16 16  3 16 16 11  6 16\n",
      "  9 14  9  0  9 16  0  9 14  9  0 12  6 12  4  0 16  6 14 14  9  9 17 16\n",
      "  0  0  0  6  9  7  9  3  9  9  9 19  0  9  9  9 14  4  4  7 14  0  3 14\n",
      "  9 14 14  9  9 16 16  9  9  0  9 14  9 16 12  9  3  9  4  4  0  6  9  7\n",
      "  7  9  9  9  4  4  9 14  4 16  7  9  9  4 14  9  4  9  6  9  9  7  6 16\n",
      "  0  9 14 14 16 16 14  9  7  9 11  7 14 14  7  9  7  9 14  9 11  7 14  4\n",
      "  9  9  9  7 14  3  0  9 14 16 14  9  3  9  9  3  0  0 14  9  4  9  7 16\n",
      "  9 17  9 10  3 16  9 17 16 16 14  6  9 14 16  9 16  9  9  9 14  9  4  9\n",
      " 16  3 16 14  9  5  9  4  0  9  9  9  6 14  9  6  9  0  9  9  9 14  9 14\n",
      "  0  9  9 16 16  4  9 16  6  0 16 14 16  9  9  9  9 14  0  9  9  0  9 11\n",
      "  9  9  9  9 16 16  3  6  3 16 16 11  0  0 16  6  9  7  9  9 16  9  9  4\n",
      "  9 16 11  9  9 14  9 14  9 16  3  9  9 14  7  9 16 16 16  9  9  9 16 16\n",
      "  0  7 16  9  9  7 16  9 16  9  0 14 14  3  4  4  9  3  9  0  3  9  9  3\n",
      "  9  0  9 16 12  9 16  9 14 16  9  9  7 14 16  3  7 16  3 16  9 14 14  9\n",
      "  9  9 16  9  0  9  4  6 16 16  9 14  9  9 14  9  6 14  0  3  9  9  9 16\n",
      " 14 16 17  4 14 14 14 16  9  9 16  9  9  7  9  9  9  7  6  7  6  0  9  0\n",
      " 16  4 10  9 14  9 10 10 16  9 16 16  9  9 14 16  9 12  9  9  9 14 16  9\n",
      "  9  9 16  3  7  9 14 14 16  9 16 14  7  6  4  9 16  9  9 16  9  9 14 14\n",
      " 16  4  9 16  4  9 16  0 14 16  0  7  9 14  0  9  9  9  9  4  0  0  9  4\n",
      "  9 14 14 16  9 12  6  9  9  9  9  9  4 14 14  9 16  9  9  4  3  9  9 14\n",
      "  9  9 16  9  9  9  7 14  9 14  9  7  0  9 14  7 16 16  4  3  9  6 14  9\n",
      "  9  9  9  9  9 14  9  9  0 16 14 16  9 10 16  9  9  9  9  9  9  9  9  0\n",
      " 16  9  9  0  6 16  6 16  6  9  9  7  7  9  9 16  9  7  7  9 16  4 12  4\n",
      "  9 16  9  7  6  9 16  0  4 16 14  9 14 17 14  9 14  9 12  9  0 16  3  7\n",
      "  7 14  6  6  4 16  0  6  6  9 12 14  9  9  9 16  9  9  0 14  6 16  6 16\n",
      "  9 16  3  9 14  7  0  9 16  9  0  9 14 14  9  3  0  9 14  7  4  9 14 14\n",
      "  9  0  9  9  0 14 14  9  9 14 14  9 14 19 16  7 14  9  9  9  9  9  9  9\n",
      " 16]\n",
      "4.0 (array([  15,   36,   64,   77,  108,  127,  138,  157,  164,  169,  184,\n",
      "        191,  204,  211,  214,  235,  251,  260,  267,  273,  317,  336,\n",
      "        348,  356,  361,  366,  369,  391,  410,  427,  438,  463,  465,\n",
      "        469,  485,  503,  505,  506,  511,  512,  535,  543,  557,  562,\n",
      "        565,  581,  584,  585,  586,  598,  620,  625,  634,  636,  638,\n",
      "        640,  651,  683,  686,  688,  691,  711,  732,  757,  775,  782,\n",
      "        823,  827,  830,  832,  844,  846,  851,  853,  867,  899,  900,\n",
      "        919,  920,  921,  948,  952,  966,  974,  979,  993, 1004, 1013,\n",
      "       1052, 1073, 1074, 1075, 1098, 1102, 1124, 1133, 1135, 1142, 1144,\n",
      "       1151, 1156, 1165, 1168, 1181, 1190, 1193, 1225, 1234, 1265, 1308,\n",
      "       1312, 1315, 1332, 1346, 1351, 1354, 1365, 1367, 1380, 1416, 1427,\n",
      "       1436, 1451, 1460, 1487, 1488, 1500, 1506, 1508, 1520, 1539, 1544,\n",
      "       1549, 1551, 1555, 1567, 1568, 1591, 1606, 1620, 1636, 1639, 1643,\n",
      "       1644, 1653, 1665, 1692, 1696, 1698, 1700, 1746, 1750, 1761, 1765,\n",
      "       1772, 1781, 1801, 1813, 1843, 1873, 1874, 1901, 1904, 1906, 1914,\n",
      "       1915, 1920, 1938, 1946, 1953, 1972, 1984, 2009, 2018, 2029, 2046,\n",
      "       2048, 2060, 2075, 2079, 2095, 2123, 2168, 2204, 2241, 2250, 2254,\n",
      "       2257, 2274, 2301, 2306, 2312, 2319, 2327, 2335, 2337, 2341, 2351,\n",
      "       2353, 2380, 2390, 2424, 2432, 2514, 2516, 2519, 2530, 2540, 2552,\n",
      "       2558, 2570, 2623, 2625, 2631, 2640, 2648, 2654, 2660, 2716, 2751,\n",
      "       2763, 2766, 2782, 2800, 2804, 2822, 2847, 2854, 2867, 2871, 2875,\n",
      "       2879, 2895, 2908, 2922, 2924, 2947, 2958, 2969, 2992, 2995, 2999,\n",
      "       3000, 3003, 3008, 3018, 3019, 3042, 3070, 3097, 3098, 3114, 3117,\n",
      "       3122, 3123, 3131, 3146, 3152, 3157, 3172, 3190, 3191, 3192, 3194,\n",
      "       3203, 3212, 3226, 3238, 3243, 3256, 3257, 3263, 3268, 3277, 3282,\n",
      "       3283, 3284, 3301, 3330, 3334, 3348, 3373, 3392, 3396, 3412, 3420,\n",
      "       3424, 3427, 3431, 3432, 3440, 3450, 3458, 3509, 3514, 3555, 3562,\n",
      "       3563, 3564, 3575, 3579, 3588, 3604, 3625, 3628, 3640, 3654, 3661,\n",
      "       3669, 3695, 3697, 3698, 3707, 3709, 3723, 3726, 3739, 3755, 3762,\n",
      "       3780, 3845, 3846, 3854, 3881, 3888, 3892, 3909, 3934, 3935, 3937,\n",
      "       3957, 3966, 3971, 3974, 3984, 3987, 4008, 4033, 4036, 4060, 4066,\n",
      "       4067, 4076, 4081, 4090, 4094, 4126, 4138, 4155, 4182, 4200, 4202,\n",
      "       4261, 4277, 4297, 4319, 4339, 4359, 4363, 4365, 4369, 4379, 4389,\n",
      "       4390, 4401, 4422, 4425, 4430, 4446, 4451, 4475, 4486, 4488, 4497,\n",
      "       4504, 4520, 4523, 4524, 4525, 4527, 4534, 4535, 4541, 4548, 4572,\n",
      "       4590, 4616, 4632, 4638, 4644, 4647, 4665, 4670, 4688, 4709, 4717,\n",
      "       4722, 4732, 4746, 4748, 4750, 4774, 4780, 4781, 4791, 4800, 4810,\n",
      "       4814, 4865, 4870, 4889, 4890, 4895, 4898, 4914, 4918, 4951, 4952,\n",
      "       4968, 4979, 4992, 4995, 5012, 5015, 5017, 5022, 5024, 5037, 5044,\n",
      "       5046, 5047, 5052, 5082, 5084, 5086, 5087, 5094, 5120, 5121, 5127,\n",
      "       5141, 5153, 5155, 5159, 5166, 5180, 5187, 5189, 5193, 5201, 5209,\n",
      "       5211, 5213, 5224, 5249, 5252, 5258, 5292, 5309, 5322, 5327, 5336,\n",
      "       5343, 5357, 5376, 5385, 5392, 5394, 5397, 5427, 5441, 5451, 5478,\n",
      "       5480, 5481, 5486, 5492, 5501, 5510, 5528, 5530, 5545, 5558, 5571,\n",
      "       5580, 5582, 5586, 5633, 5638, 5660, 5681, 5690, 5700, 5709, 5712,\n",
      "       5722, 5723, 5726, 5742, 5750, 5758, 5769, 5770, 5773, 5785, 5790,\n",
      "       5793, 5804, 5826, 5833, 5836, 5844, 5849, 5863, 5868, 5887, 5889,\n",
      "       5890, 5896, 5897, 5936, 5955, 5972, 6004, 6018, 6022, 6028, 6030,\n",
      "       6045, 6054, 6062, 6068, 6086, 6091, 6098, 6101, 6102, 6103, 6109,\n",
      "       6115, 6128, 6129, 6146, 6147, 6164, 6176, 6194, 6200, 6247, 6278,\n",
      "       6279, 6286, 6317, 6321, 6322, 6334, 6340, 6341, 6349, 6353, 6358,\n",
      "       6362, 6370, 6376, 6381, 6391, 6403, 6414, 6415, 6416, 6419, 6420,\n",
      "       6425, 6428, 6441, 6448, 6473, 6481, 6507, 6536, 6539, 6544, 6546,\n",
      "       6554, 6558, 6565, 6594, 6595, 6600, 6617, 6633, 6634, 6635, 6676,\n",
      "       6678, 6683, 6695, 6706, 6739, 6765, 6779, 6783, 6788, 6808, 6837,\n",
      "       6841, 6843, 6844, 6845, 6854, 6856, 6882, 6887, 6905, 6907, 6913,\n",
      "       6922, 6936, 6943, 6952, 6959, 6961, 6966, 6973, 6978, 6996, 7013,\n",
      "       7032, 7035, 7040, 7057, 7065, 7067, 7075, 7090, 7092, 7105, 7139,\n",
      "       7149, 7167, 7173, 7194, 7211, 7259, 7285, 7291, 7293, 7302, 7305,\n",
      "       7326, 7327, 7330, 7334, 7335, 7338, 7339, 7352, 7373, 7393, 7408,\n",
      "       7416, 7418, 7427, 7433, 7435, 7446, 7447, 7476, 7478, 7508, 7513,\n",
      "       7524, 7532, 7548, 7562, 7571, 7582, 7590, 7598, 7603, 7609, 7620,\n",
      "       7623, 7658, 7714, 7726, 7732, 7733, 7763, 7807, 7817, 7831, 7840,\n",
      "       7846, 7860, 7863, 7880, 7885, 7894, 7895, 7926, 7936, 7941, 7951,\n",
      "       7957, 7959, 7961, 7992, 7993, 8014, 8027, 8028, 8035, 8058, 8070,\n",
      "       8082, 8083, 8097]),)\n",
      "[ 3 19 19 19  9  3  5  3 19  5 12  5 12  0  3 19 12  0  3  3  5  5 19  5\n",
      " 19 12 12 10 19  5  5 19 12 19 19 19 19  5  0 12  5 12 19 19  5  3 12  5\n",
      " 12 19 12 12 19 19 19 12 12 12 19 12  5 19 19 12 12 19 12 12  5  5  5 12\n",
      "  5  3 11 19  3 19 19 12  3 17  3  3 12  3 19  5  3 19 12 19  0 12 12  5\n",
      " 19  5 12  5 14  0 12 19 19 19  5 19  3  5 12 19 19  0 12 19 12  5 12 12\n",
      "  3  5 12  5 19 19 12 12  3 19 12  5 19  0 12  0 12  5 19 19 19  9  0 14\n",
      "  5  3  5 14  5 19  5  0 12  3  5 12  5  0  3 12 19 19  3  5  5 19 19  5\n",
      " 12 19 12 19 12 19 19  3  5  0 19 19 19 19  5  3 19  3 19 12 19  5 19 19\n",
      "  0 12 12 19 12  5  5 12  5  3  5 19 12  5 19 11 19  5  0 19 12 19 19 12\n",
      "  5 19  3 19  4 19  9  5 12 12  3 11 12  0  9  3  5  3 12  5 19 12  5  0\n",
      "  3 19  3 19 19 19 12 19 19  5 19 12  3 19  5  5  3  3 19 19  5 19  3 19\n",
      " 19 19 19 13 19 19 12 19  5  0 19  5 19  5 19  0  3  5  5 19 19  0 19  5\n",
      " 12  5 19 19 19  0 19  3 12  5  3 19  5  3 19 12  3  9  3 19  9 19 19  5\n",
      " 19  5 19  5  0  0 12  3  3 12 19 19 12 12  3  0  3 12  3  5 12  0 19 12\n",
      " 19  0  4  5 12 19 12 19 19  5 19  5  3  5  3 14 12 12 14  3 19  3 19  0\n",
      " 19  9  0 12  5 19  5 12 16  5 12 16  3  5  0  5  6  5 19  5 19 12  3 19\n",
      " 19 12  3  3 12 12 19  3  5  5 19  3 12 12  9  0 16  3 19 19 14  0  3 12\n",
      " 19  3  3  3 12 12 19 19  5  3 12 10  5  5 19  4  3 19  3  0  0 19  0 19\n",
      "  5 19 11 11  5 12  3  5 19 10  0 19  0 19 19  0 12  3  3  5 19 11 19 12\n",
      "  5  5 10  0 19  0 17  4  5 12 19 12 19 19 19  0  5 19  5 12 19  0  3 19\n",
      " 19 12 12  3 19 19  9 12 19  4  5 16 14 12  0  0 12  5  3  3  3  3  5  5\n",
      "  3 19  3  5 12 12  5  3 12  0  3 12 19  5 19  3 19 19  5 19  5 11 12 12\n",
      " 11 12 19  5  3 19 14 19  0 19 12 19 12 19  5  3  5 12  3 19 12 12  0 19\n",
      " 19 11 14 12 19  5 14  3 19  6  3 12 12  5 19 19  5  5 14  0  0  3 12 19\n",
      "  5  0  5  3 12 12 19  5 19 12 12 19 12  3 12  9  3  3 12  9 17  5  3  5\n",
      " 19 19  5 19  4  3 19  5 12 19 19 19 12  5 19  0 19 12 12 19 12 12  5 19\n",
      " 12  5 19  3 14 12 19 19  6 17  3 19 19  5  3  5  9 12 19 19  5  5 19 19\n",
      "  3 12  3 12  3 12  4  3  5 16  0  5  5  0 12 19  0 12 12  3  5 19 19 19\n",
      " 11  3  5 19 12 12 19  5 11 12 12 19 19 19 19 19 12 14  5 19 19 19  0 19\n",
      " 19 12 11 12 19 19  5  3  3 12  0 19  3 12  5  3 19  9  3 12 12 12]\n",
      "5.0 (array([   7,   13,   20,   33,   66,   68,   75,   82,   83,   85,   94,\n",
      "         95,   97,  110,  117,  129,  141,  148,  150,  168,  172,  197,\n",
      "        227,  232,  236,  271,  292,  310,  330,  333,  335,  345,  347,\n",
      "        377,  382,  396,  401,  431,  436,  441,  452,  454,  470,  475,\n",
      "        483,  491,  500,  521,  536,  539,  547,  570,  577,  578,  601,\n",
      "        617,  631,  665,  701,  702,  738,  774,  790,  795,  799,  829,\n",
      "        842,  852,  877,  882,  909,  912,  917,  928,  939,  958,  960,\n",
      "        972,  977,  997, 1002, 1012, 1015, 1023, 1024, 1027, 1050, 1055,\n",
      "       1060, 1061, 1066, 1087, 1107, 1114, 1123, 1131, 1163, 1188, 1217,\n",
      "       1219, 1220, 1226, 1239, 1256, 1282, 1314, 1324, 1325, 1326, 1328,\n",
      "       1331, 1362, 1364, 1370, 1377, 1387, 1402, 1413, 1430, 1440, 1442,\n",
      "       1462, 1494, 1514, 1515, 1528, 1536, 1548, 1554, 1571, 1574, 1584,\n",
      "       1633, 1662, 1666, 1667, 1684, 1686, 1687, 1706, 1708, 1711, 1717,\n",
      "       1728, 1737, 1756, 1759, 1775, 1780, 1784, 1793, 1794, 1808, 1809,\n",
      "       1827, 1829, 1836, 1840, 1844, 1849, 1881, 1886, 1910, 1913, 1918,\n",
      "       1929, 1976, 1994, 2004, 2011, 2024, 2040, 2042, 2063, 2088, 2094,\n",
      "       2096, 2097, 2100, 2130, 2131, 2162, 2163, 2169, 2172, 2176, 2177,\n",
      "       2184, 2186, 2197, 2214, 2276, 2278, 2281, 2293, 2296, 2304, 2313,\n",
      "       2328, 2338, 2340, 2348, 2355, 2364, 2376, 2377, 2385, 2397, 2399,\n",
      "       2407, 2412, 2413, 2427, 2434, 2446, 2456, 2458, 2459, 2460, 2465,\n",
      "       2467, 2489, 2490, 2503, 2523, 2541, 2584, 2585, 2608, 2626, 2630,\n",
      "       2638, 2655, 2687, 2724, 2738, 2752, 2756, 2759, 2761, 2762, 2784,\n",
      "       2797, 2805, 2807, 2819, 2825, 2842, 2857, 2866, 2869, 2883, 2886,\n",
      "       2888, 2893, 2903, 2905, 2923, 2928, 2955, 2959, 2997, 3012, 3035,\n",
      "       3041, 3066, 3077, 3094, 3096, 3135, 3143, 3144, 3180, 3186, 3189,\n",
      "       3252, 3254, 3265, 3273, 3274, 3285, 3288, 3291, 3303, 3311, 3338,\n",
      "       3339, 3358, 3372, 3378, 3397, 3408, 3426, 3435, 3443, 3464, 3475,\n",
      "       3479, 3484, 3504, 3526, 3533, 3534, 3543, 3552, 3577, 3578, 3583,\n",
      "       3592, 3615, 3631, 3632, 3657, 3685, 3688, 3702, 3712, 3714, 3715,\n",
      "       3719, 3730, 3734, 3748, 3756, 3758, 3777, 3783, 3785, 3793, 3816,\n",
      "       3833, 3839, 3843, 3865, 3867, 3895, 3907, 3917, 3919, 3929, 3933,\n",
      "       3944, 3948, 3955, 3990, 3994, 4026, 4041, 4053, 4063, 4071, 4072,\n",
      "       4091, 4103, 4120, 4130, 4133, 4140, 4144, 4145, 4159, 4164, 4174,\n",
      "       4175, 4195, 4212, 4214, 4218, 4227, 4231, 4234, 4247, 4270, 4276,\n",
      "       4279, 4300, 4306, 4315, 4324, 4328, 4336, 4341, 4346, 4347, 4352,\n",
      "       4370, 4371, 4376, 4394, 4402, 4413, 4418, 4421, 4426, 4427, 4432,\n",
      "       4437, 4449, 4463, 4479, 4489, 4505, 4507, 4508, 4511, 4512, 4519,\n",
      "       4529, 4542, 4557, 4560, 4578, 4587, 4602, 4603, 4621, 4630, 4655,\n",
      "       4682, 4697, 4701, 4703, 4705, 4723, 4733, 4741, 4743, 4755, 4757,\n",
      "       4763, 4777, 4783, 4786, 4788, 4795, 4798, 4813, 4832, 4859, 4873,\n",
      "       4902, 4905, 4925, 4931, 4950, 4953, 4957, 4962, 4971, 4974, 4977,\n",
      "       4990, 4997, 5033, 5050, 5064, 5066, 5067, 5074, 5077, 5090, 5095,\n",
      "       5110, 5118, 5129, 5142, 5145, 5183, 5234, 5248, 5266, 5272, 5273,\n",
      "       5277, 5278, 5283, 5284, 5288, 5291, 5297, 5325, 5338, 5347, 5348,\n",
      "       5350, 5360, 5365, 5391, 5402, 5418, 5425, 5432, 5436, 5440, 5444,\n",
      "       5466, 5467, 5471, 5476, 5479, 5518, 5534, 5535, 5544, 5565, 5579,\n",
      "       5587, 5590, 5603, 5614, 5655, 5676, 5678, 5730, 5740, 5745, 5757,\n",
      "       5763, 5777, 5850, 5853, 5860, 5882, 5883, 5885, 5905, 5908, 5910,\n",
      "       5965, 5977, 5982, 5983, 5984, 6001, 6005, 6015, 6017, 6039, 6051,\n",
      "       6064, 6069, 6081, 6095, 6097, 6100, 6113, 6121, 6138, 6142, 6151,\n",
      "       6152, 6172, 6186, 6211, 6214, 6237, 6240, 6242, 6246, 6251, 6253,\n",
      "       6261, 6262, 6263, 6267, 6277, 6285, 6303, 6315, 6316, 6325, 6345,\n",
      "       6352, 6368, 6377, 6380, 6399, 6435, 6440, 6462, 6467, 6474, 6502,\n",
      "       6518, 6522, 6524, 6562, 6573, 6576, 6586, 6597, 6613, 6632, 6650,\n",
      "       6653, 6673, 6686, 6716, 6773, 6777, 6793, 6796, 6803, 6822, 6850,\n",
      "       6871, 6881, 6883, 6890, 6899, 6916, 6932, 6937, 6947, 6950, 6953,\n",
      "       6963, 6964, 6965, 6999, 7000, 7015, 7018, 7022, 7038, 7039, 7042,\n",
      "       7061, 7076, 7099, 7110, 7112, 7123, 7126, 7140, 7151, 7154, 7174,\n",
      "       7191, 7193, 7233, 7235, 7248, 7255, 7271, 7283, 7296, 7298, 7299,\n",
      "       7306, 7321, 7349, 7387, 7406, 7413, 7422, 7426, 7428, 7438, 7444,\n",
      "       7451, 7488, 7493, 7494, 7498, 7505, 7516, 7520, 7569, 7578, 7583,\n",
      "       7595, 7615, 7624, 7635, 7636, 7637, 7676, 7691, 7698, 7731, 7735,\n",
      "       7737, 7749, 7769, 7770, 7776, 7779, 7780, 7791, 7800, 7804, 7813,\n",
      "       7822, 7847, 7848, 7852, 7861, 7871, 7881, 7905, 7919, 7920, 7927,\n",
      "       7938, 7943, 7952, 7995, 8011, 8022, 8026, 8029, 8048, 8060, 8068,\n",
      "       8084, 8085, 8089, 8099]),)\n",
      "[14  3  7  0 14  0  0  0  0  7  0  7  4  0  9  6  7  9  7  3  0 10  0  7\n",
      "  7 16 14  0  7  0  0  7  0 11  0  0  0 14  0  0  3  3  7 16  3  0 14  0\n",
      "  0  0 10 14  0 14  0  3  0  9 16 16  3 16  0  9  0  0 14  0 14  3 14  3\n",
      "  0  7  9  0  9 16  7  3  9  0  7 14 16  7  0  0  0  0  7  0 14  0  9  9\n",
      "  3  0  0  0  3 16  3  7  3  0  7  3  9 10  3  0  7  0  0  9  0 14  3  9\n",
      "  0 16 16  3  0 19  9  7  0  0  0  0  7 16  7  0 14  0 12  3 14  0  0  0\n",
      "  4  0  3  0  3 17 14 14  3  7  0  7  7 16  7  0  7  0  0  7  0  7  7  0\n",
      " 16 17  0 16  9  0  0 14  3 16 14  3 14 16  3  7  0  7 14 14  0  0 14  9\n",
      " 16  3 16  7  0  7  7  9  0  0  9  0 17  0  0  0  0  0  0 10  7 19 16 19\n",
      " 16 16  7  6  0 14  7  0  7 16  7  0  9 14  0  7  0  7  9  0  0  0  0  3\n",
      "  3  3  4  0 16  3 16  0  0  0  0  0  0  3 16 14  0  0 16  3  3  0 14  3\n",
      " 12  0  7 10  0  9 16  0  0  7 16  0  0 16  0 16  9  0  3  0  0  0 16  0\n",
      "  9  9  0  3  0  0  3  0 16  9 14  9  3  9  3  3  7  0  0  5 14 16  0  0\n",
      "  0  7  9 12 10  0  3  0 18  9  7  0  9  0 16  3  3 14  0 16  3  0  9  0\n",
      " 16  7  4 16 14  0  9  0  7  0  9  0  7  0 14 14  3 14  0 12  7  0  0  0\n",
      " 16  7  9  0  0 14  0  0 16  9 16  0  0  6  0  0  9  7  7  0  0 16 14  0\n",
      "  3  7 14 16  0  7 14  7  3  9  0  9 16  9  0  0  0  0  0 14  7  0 14  3\n",
      "  3  6  0  0  0  3  0  7  0  0 14  0  0  0  0  9  7 16  0  0 16 16 14 16\n",
      " 11  3 16 14  0  7  7 16  0  6  0  9  0  0  9 14  0  7  3 16  7  7  7  0\n",
      "  0  0  7  0 14  0  0 12  7  0 14  7  7  0  3  0 19  0  3  3  7  0  3  7\n",
      "  3 17 16  0 16  0  7  7 14  7  0  0 14  0  0 14  9  0  3  7  7  7  0 16\n",
      "  0  9  9 14  7  3  7  7  9 12  9 14  0 16  6  0  0  7  0  3 19  0 16  0\n",
      " 16  0  7 16  3 16  7  4  0  9  5 16 14  0 14 16  7  0 16  0  3 16  0  0\n",
      "  0  0 16  9  0  6 16  0  7  0  7  3  0  0  7  9 16  7 14  7 16 16 14  7\n",
      "  3 17  3  0  0  0 14 19  0 14  0  3  0 16 14 12  3 16  0  0  0  0  9  0\n",
      "  0  0  3  7  9 19  7  0 16  0  0  7  0  0  7 16  9  0  3  3  3  0  3  9\n",
      "  0  3  3  0  7  0  9  0 16  7  3  0  7  9  0  0  7  0  0  0  9 16 14  0\n",
      "  9  0  3  0 14 16 16  0  7  3  0  9  0  6  0  0  0  0  0  0  0 14 16  7\n",
      "  0  7  0 16  0  9  4 16  4  3  0  7  0  3 16  3  0  3  0  7  0  0  7  0\n",
      "  0  7  3  0 16  9 14  0 14 17  0  9  3  3 16  3  3  0  9 16  6  0  0]\n",
      "6.0 (array([   5,    6,   16,   39,   45,   67,   72,   90,  107,  113,  125,\n",
      "        142,  163,  190,  205,  207,  230,  247,  249,  252,  261,  280,\n",
      "        303,  308,  320,  327,  331,  349,  354,  358,  380,  385,  392,\n",
      "        397,  404,  405,  407,  411,  425,  434,  451,  453,  462,  474,\n",
      "        478,  493,  510,  516,  538,  541,  553,  569,  579,  582,  588,\n",
      "        610,  611,  616,  619,  627,  632,  633,  655,  668,  673,  677,\n",
      "        694,  699,  709,  739,  755,  761,  765,  771,  776,  818,  837,\n",
      "        840,  856,  858,  866,  881,  897,  903,  905,  913,  933,  957,\n",
      "        994, 1003, 1017, 1035, 1039, 1054, 1069, 1079, 1083, 1097, 1106,\n",
      "       1119, 1127, 1152, 1153, 1154, 1164, 1167, 1177, 1178, 1184, 1185,\n",
      "       1187, 1198, 1201, 1213, 1222, 1235, 1237, 1238, 1240, 1241, 1252,\n",
      "       1262, 1268, 1274, 1291, 1294, 1316, 1320, 1321, 1323, 1333, 1368,\n",
      "       1375, 1378, 1379, 1407, 1426, 1466, 1470, 1475, 1491, 1502, 1507,\n",
      "       1531, 1532, 1535, 1540, 1561, 1570, 1576, 1588, 1611, 1612, 1614,\n",
      "       1618, 1621, 1642, 1645, 1654, 1655, 1658, 1676, 1677, 1694, 1705,\n",
      "       1731, 1738, 1741, 1747, 1753, 1758, 1760, 1766, 1786, 1789, 1790,\n",
      "       1791, 1792, 1804, 1807, 1822, 1835, 1837, 1839, 1841, 1868, 1870,\n",
      "       1883, 1884, 1885, 1890, 1898, 1903, 1912, 1935, 1947, 1960, 1961,\n",
      "       1963, 1965, 1970, 1974, 1975, 1979, 2044, 2051, 2062, 2067, 2069,\n",
      "       2072, 2074, 2107, 2109, 2111, 2117, 2134, 2136, 2137, 2167, 2179,\n",
      "       2191, 2194, 2196, 2200, 2210, 2211, 2222, 2230, 2233, 2246, 2259,\n",
      "       2260, 2272, 2317, 2325, 2333, 2334, 2344, 2345, 2346, 2370, 2371,\n",
      "       2379, 2384, 2411, 2417, 2452, 2463, 2474, 2502, 2507, 2526, 2533,\n",
      "       2537, 2550, 2555, 2561, 2565, 2568, 2571, 2572, 2573, 2593, 2599,\n",
      "       2609, 2619, 2622, 2632, 2642, 2656, 2663, 2677, 2692, 2694, 2702,\n",
      "       2703, 2704, 2715, 2718, 2720, 2731, 2736, 2740, 2741, 2747, 2755,\n",
      "       2768, 2777, 2787, 2793, 2817, 2818, 2832, 2834, 2839, 2850, 2870,\n",
      "       2884, 2909, 2916, 2921, 2925, 2930, 2934, 2942, 2973, 2978, 2989,\n",
      "       2993, 3001, 3005, 3010, 3016, 3034, 3047, 3057, 3063, 3071, 3092,\n",
      "       3115, 3116, 3130, 3147, 3155, 3160, 3161, 3165, 3170, 3171, 3185,\n",
      "       3193, 3225, 3245, 3260, 3278, 3292, 3294, 3300, 3313, 3331, 3333,\n",
      "       3342, 3345, 3346, 3349, 3352, 3353, 3361, 3362, 3367, 3375, 3377,\n",
      "       3393, 3405, 3417, 3436, 3441, 3456, 3470, 3474, 3508, 3527, 3531,\n",
      "       3539, 3554, 3559, 3560, 3567, 3569, 3582, 3585, 3594, 3603, 3614,\n",
      "       3638, 3649, 3652, 3655, 3658, 3674, 3679, 3682, 3687, 3692, 3706,\n",
      "       3713, 3722, 3729, 3752, 3753, 3759, 3766, 3770, 3779, 3799, 3804,\n",
      "       3825, 3850, 3856, 3860, 3889, 3896, 3915, 3936, 3943, 3962, 3963,\n",
      "       3964, 3970, 3986, 3989, 4002, 4012, 4013, 4017, 4019, 4030, 4039,\n",
      "       4048, 4052, 4069, 4070, 4079, 4086, 4089, 4093, 4100, 4105, 4106,\n",
      "       4118, 4119, 4127, 4141, 4148, 4150, 4160, 4170, 4185, 4207, 4262,\n",
      "       4268, 4272, 4283, 4285, 4295, 4302, 4364, 4366, 4375, 4377, 4384,\n",
      "       4387, 4391, 4396, 4416, 4420, 4429, 4434, 4440, 4444, 4445, 4473,\n",
      "       4485, 4514, 4517, 4531, 4538, 4540, 4551, 4563, 4579, 4592, 4595,\n",
      "       4599, 4600, 4641, 4660, 4662, 4666, 4675, 4684, 4692, 4693, 4715,\n",
      "       4718, 4724, 4727, 4728, 4734, 4739, 4745, 4785, 4787, 4809, 4818,\n",
      "       4821, 4822, 4827, 4838, 4842, 4849, 4850, 4851, 4855, 4862, 4868,\n",
      "       4869, 4871, 4893, 4897, 4910, 4922, 4937, 4938, 4972, 4998, 5002,\n",
      "       5005, 5006, 5031, 5032, 5041, 5053, 5068, 5069, 5097, 5111, 5116,\n",
      "       5132, 5164, 5170, 5179, 5192, 5194, 5212, 5218, 5226, 5239, 5244,\n",
      "       5256, 5257, 5279, 5298, 5302, 5316, 5317, 5332, 5335, 5351, 5352,\n",
      "       5353, 5364, 5395, 5396, 5406, 5412, 5416, 5420, 5431, 5489, 5493,\n",
      "       5498, 5505, 5514, 5519, 5522, 5523, 5524, 5551, 5554, 5559, 5576,\n",
      "       5583, 5595, 5609, 5616, 5622, 5625, 5634, 5636, 5637, 5640, 5641,\n",
      "       5661, 5684, 5686, 5698, 5707, 5711, 5718, 5727, 5729, 5731, 5749,\n",
      "       5759, 5764, 5766, 5778, 5810, 5811, 5813, 5815, 5817, 5824, 5828,\n",
      "       5837, 5845, 5864, 5874, 5913, 5915, 5931, 5938, 5943, 5952, 5957,\n",
      "       5960, 5967, 5981, 5987, 5999, 6002, 6008, 6047, 6058, 6060, 6070,\n",
      "       6078, 6085, 6137, 6148, 6160, 6165, 6184, 6207, 6209, 6219, 6223,\n",
      "       6224, 6226, 6228, 6232, 6233, 6248, 6250, 6288, 6312, 6326, 6331,\n",
      "       6332, 6344, 6361, 6364, 6366, 6386, 6417, 6421, 6424, 6438, 6439,\n",
      "       6443, 6454, 6455, 6482, 6487, 6493, 6498, 6505, 6509, 6512, 6531,\n",
      "       6535, 6548, 6553, 6563, 6577, 6583, 6601, 6607, 6610, 6619, 6637,\n",
      "       6656, 6666, 6674, 6690, 6694, 6698, 6704, 6708, 6717, 6726, 6727,\n",
      "       6729, 6742, 6758, 6775, 6802, 6831, 6833, 6849, 6851, 6886, 6904,\n",
      "       6925, 6942, 6945, 6949, 6972, 6980, 6981, 7004, 7009, 7020, 7023,\n",
      "       7024, 7033, 7054, 7056, 7063, 7064, 7087, 7089, 7118, 7131, 7136,\n",
      "       7144, 7157, 7158, 7171, 7182, 7205, 7214, 7216, 7239, 7240, 7247,\n",
      "       7252, 7256, 7265, 7269, 7282, 7289, 7295, 7316, 7328, 7342, 7348,\n",
      "       7354, 7372, 7381, 7394, 7397, 7414, 7437, 7455, 7466, 7472, 7480,\n",
      "       7499, 7510, 7518, 7519, 7521, 7522, 7530, 7535, 7537, 7538, 7543,\n",
      "       7546, 7553, 7561, 7579, 7600, 7608, 7613, 7621, 7628, 7641, 7642,\n",
      "       7645, 7659, 7673, 7681, 7695, 7713, 7716, 7718, 7723, 7725, 7746,\n",
      "       7755, 7764, 7773, 7794, 7796, 7798, 7799, 7805, 7808, 7818, 7824,\n",
      "       7832, 7834, 7843, 7844, 7892, 7909, 7912, 7928, 7933, 7934, 7935,\n",
      "       7953, 7955, 7976, 8006, 8038, 8043, 8067, 8069, 8072, 8088, 8092]),)\n",
      "[10 17 14 10  4 10  6 17 17 17 10 17 17 11 17 17 10 10 17 17 17 17 17 17\n",
      " 10 11 10  4 10 17 17 17 17 17 17 17 17  0 10 16 17  3 10 17  3 10 17  4\n",
      " 17 10 17 17 17 17 17  9 17 10  4 18 17 17 10 10 17 17 17  4  4 17 10 17\n",
      "  4  0 17 10 17 17 10 10 10 11 10 11 17 11 17 11 17 17 17 10 17 10  4 17\n",
      " 17 17 17 17 17 11 14 17 17 17 11 17 17 17 10 10 17  9 17 17 17 10 10 17\n",
      " 10  4 16 17 17 17 10 17  6 17 17 17 17 17  4 17 17 17 10 17 17 17 17 17\n",
      " 17 17 17 17 11 11 17 17  4 17 17 16 17 17 17  2 17 17  6 10 10 17 17 10\n",
      " 17 17 17  4 17 17 11 17 10 10 11  6 17 17 17  0 17 17 17 10 16 17 17 17\n",
      "  0 17 17  6 17 17 10 11 17 11 17 17 17 11 17  3 10 17 17 10 17 17 17 11\n",
      " 17 17 17 10 17 17 10 17 10 17 17 17 10 17 17 10  4 11 17 17 17 14 17 10\n",
      " 17 10 17 10 17 10 17 17 10 10 17 10  4 17 10 17 17 17 10 17 17 17  4 10\n",
      " 17 17 17 17 17 14 17 17 17 17 17 10 10 17 10 17 17 17 11 17  4 17 17 17\n",
      " 17 17 17 10 10  4 11 17 10 17 17 17 17 16 10 17 11 17 17  4 10 10 17 10\n",
      " 17 17 17 10 17 17 17 16 17 17 10  4 17 17 17 11 17 17 17  4 17 17 10 10\n",
      " 17 17 17  4 10  4  4 10 17 17  0 17 17 17 10 17  3  4 17 17 17  6 11 17\n",
      " 17 10  7 17 17 17 17 17 10 11 17 17 17 11 17 10 16  4 17 17 17 11 17 17\n",
      " 17 17  4 17 17 10 17 11 17 17 17 17 10 17 17 10 17 17 17 17 10 17 10 17\n",
      " 11  6 17 10 17 17  4 10 11 11  4  0 17 17 17 17 17 10 17 10 17 17 17 10\n",
      " 17 10 17 17  3 17 11 17 17 17 10 17 17  0 17 10 17 17 10 17 17  4 10 17\n",
      " 17 11 17 17 17 10 10  4 17 10 17 17 17 17 10 17 17 17 17 17 10 17 17 17\n",
      "  3 10 10 17 17  4 10 10  4 17 17 17 17  4 17 17  0 17 17 17 17 11 17 17\n",
      " 10 17 10 17 17 17 17  0 10 17 10 17 17 14 10  9 11 17 10 17 10 17 10 10\n",
      " 10 17 11 17 17  0 17 11 17 10 10 17 10  0 17 10 17  6 17 17 17 10 17 17\n",
      " 17 17 10 17 17 17 17 17 10 17 17 17 10 10 10 10  0  4 17 17  4 10  4 17\n",
      "  0  4 17 17 10 17 17 11 17 17  3  4 17 10 10 17  6 17 17 10 17 17 17 17\n",
      " 17 17 10 11 17 17 17  3 10 17 17 17 10 10 17 17 17 17 10 10 17 17 17  4\n",
      " 10 17 17 10 17  4 17 17 17 17 17 17 17  9 17 17 17 17 17  4 17 17 17 17\n",
      "  4 10 17 17 10 17  4 17 10 11 10 10 17 17 17 17  6 17 17 17 17 17 17 17\n",
      " 16 17 10 10  3  4 17  6 17 10 17 17 10 17 17 10  4 17 11 17 10 17 10 10\n",
      " 10 14 17 17 17 11 10 17 17 10 17 10 17 10 10 17 17 17 10 10 17 17 17 17\n",
      " 17 17 17  3 17 17  4 10 17 17 17 17 17 17 11 17 17 11  4 17 10 17 10 10\n",
      "  6 17 17 10 10 17 17 10 17 10 17 10 10 17 11 17 11  7 17 10 17 10 17 17\n",
      " 10 17 17 11 17 17 17  4 17  6 17  6 17 17 17  3  2 10 17 17 17 17 17 17\n",
      " 17  4 10 17 10 17 10 17 10 10 11 10 10  0 17 10 17 17 10 10 17 11 17 17\n",
      " 10 10 11 10 10 17  0  0 17]\n",
      "7.0 (array([   0,    3,    9,   10,   11,   17,   25,   31,   32,   40,   42,\n",
      "         49,   51,   62,   88,   96,   98,   99,  100,  114,  115,  119,\n",
      "        139,  144,  149,  171,  173,  209,  223,  224,  239,  240,  241,\n",
      "        250,  254,  257,  258,  276,  296,  302,  334,  340,  352,  372,\n",
      "        374,  375,  378,  395,  400,  409,  421,  422,  446,  448,  458,\n",
      "        459,  466,  476,  482,  489,  508,  520,  522,  531,  566,  583,\n",
      "        589,  605,  608,  621,  647,  656,  659,  660,  700,  704,  714,\n",
      "        715,  719,  724,  734,  735,  767,  768,  769,  785,  791,  796,\n",
      "        798,  815,  834,  850,  869,  872,  875,  876,  879,  890,  891,\n",
      "        896,  898,  904,  932,  934,  953,  969,  988, 1000, 1014, 1020,\n",
      "       1021, 1022, 1033, 1038, 1043, 1072, 1078, 1111, 1116, 1121, 1130,\n",
      "       1143, 1159, 1161, 1169, 1170, 1176, 1195, 1197, 1208, 1221, 1223,\n",
      "       1229, 1255, 1258, 1273, 1276, 1286, 1292, 1311, 1319, 1337, 1338,\n",
      "       1350, 1360, 1363, 1374, 1376, 1388, 1397, 1399, 1400, 1417, 1420,\n",
      "       1437, 1456, 1457, 1461, 1468, 1476, 1478, 1479, 1480, 1485, 1493,\n",
      "       1496, 1498, 1503, 1504, 1509, 1530, 1543, 1550, 1569, 1573, 1581,\n",
      "       1583, 1599, 1601, 1605, 1638, 1646, 1673, 1675, 1679, 1690, 1701,\n",
      "       1709, 1719, 1723, 1768, 1779, 1825, 1828, 1833, 1842, 1882, 1889,\n",
      "       1893, 1895, 1925, 1927, 1932, 1933, 1939, 1941, 1955, 1957, 1969,\n",
      "       1980, 1983, 1985, 1987, 2002, 2003, 2006, 2012, 2014, 2021, 2027,\n",
      "       2039, 2047, 2054, 2080, 2090, 2092, 2102, 2112, 2115, 2128, 2133,\n",
      "       2150, 2156, 2180, 2198, 2199, 2208, 2209, 2213, 2218, 2220, 2221,\n",
      "       2227, 2228, 2231, 2235, 2252, 2253, 2263, 2275, 2280, 2287, 2294,\n",
      "       2298, 2302, 2309, 2310, 2315, 2329, 2330, 2350, 2358, 2360, 2373,\n",
      "       2378, 2381, 2382, 2383, 2387, 2389, 2418, 2439, 2450, 2454, 2457,\n",
      "       2468, 2475, 2476, 2480, 2484, 2494, 2496, 2535, 2544, 2560, 2575,\n",
      "       2582, 2605, 2610, 2628, 2645, 2647, 2662, 2664, 2672, 2674, 2676,\n",
      "       2682, 2699, 2709, 2711, 2714, 2719, 2744, 2745, 2754, 2772, 2799,\n",
      "       2811, 2823, 2827, 2831, 2836, 2846, 2851, 2860, 2878, 2892, 2894,\n",
      "       2897, 2907, 2911, 2919, 2962, 2963, 2964, 2965, 2991, 3004, 3032,\n",
      "       3033, 3046, 3062, 3079, 3090, 3091, 3105, 3107, 3109, 3118, 3128,\n",
      "       3137, 3138, 3153, 3167, 3174, 3187, 3210, 3228, 3253, 3275, 3304,\n",
      "       3314, 3318, 3329, 3335, 3344, 3347, 3380, 3382, 3390, 3398, 3404,\n",
      "       3406, 3413, 3434, 3439, 3447, 3457, 3465, 3477, 3485, 3501, 3507,\n",
      "       3525, 3532, 3548, 3557, 3608, 3633, 3635, 3639, 3656, 3663, 3671,\n",
      "       3673, 3677, 3689, 3700, 3711, 3725, 3735, 3736, 3760, 3765, 3788,\n",
      "       3795, 3798, 3808, 3809, 3811, 3838, 3841, 3847, 3848, 3851, 3859,\n",
      "       3872, 3876, 3885, 3897, 3898, 3903, 3905, 3930, 3954, 3958, 3983,\n",
      "       4006, 4042, 4043, 4050, 4056, 4057, 4058, 4059, 4077, 4082, 4125,\n",
      "       4131, 4154, 4156, 4167, 4168, 4171, 4177, 4178, 4180, 4194, 4206,\n",
      "       4216, 4219, 4220, 4273, 4298, 4325, 4331, 4340, 4344, 4349, 4350,\n",
      "       4353, 4356, 4358, 4373, 4381, 4405, 4408, 4410, 4439, 4443, 4450,\n",
      "       4452, 4455, 4471, 4477, 4480, 4490, 4510, 4518, 4521, 4536, 4539,\n",
      "       4547, 4549, 4581, 4604, 4611, 4620, 4653, 4658, 4659, 4661, 4669,\n",
      "       4673, 4695, 4698, 4713, 4716, 4719, 4731, 4760, 4762, 4764, 4784,\n",
      "       4796, 4808, 4812, 4828, 4834, 4852, 4899, 4900, 4904, 4906, 4924,\n",
      "       4926, 4943, 4948, 4956, 4996, 5008, 5009, 5025, 5026, 5028, 5042,\n",
      "       5056, 5065, 5076, 5098, 5126, 5131, 5138, 5146, 5148, 5157, 5163,\n",
      "       5171, 5172, 5175, 5181, 5208, 5210, 5216, 5220, 5225, 5228, 5242,\n",
      "       5251, 5262, 5276, 5290, 5299, 5311, 5339, 5362, 5363, 5367, 5372,\n",
      "       5380, 5393, 5399, 5421, 5422, 5423, 5443, 5455, 5459, 5487, 5488,\n",
      "       5494, 5502, 5508, 5515, 5516, 5521, 5529, 5548, 5553, 5556, 5570,\n",
      "       5577, 5591, 5600, 5617, 5620, 5621, 5639, 5647, 5674, 5677, 5694,\n",
      "       5695, 5696, 5713, 5715, 5732, 5733, 5768, 5781, 5792, 5795, 5800,\n",
      "       5806, 5808, 5823, 5830, 5839, 5842, 5854, 5855, 5856, 5861, 5867,\n",
      "       5875, 5884, 5899, 5900, 5902, 5921, 5927, 5928, 5959, 5962, 5969,\n",
      "       5973, 5986, 5991, 5993, 5996, 6003, 6007, 6010, 6012, 6020, 6041,\n",
      "       6044, 6056, 6065, 6077, 6090, 6120, 6123, 6131, 6133, 6135, 6139,\n",
      "       6156, 6167, 6169, 6171, 6188, 6195, 6202, 6203, 6205, 6210, 6217,\n",
      "       6249, 6258, 6264, 6291, 6293, 6300, 6309, 6314, 6329, 6330, 6342,\n",
      "       6359, 6360, 6373, 6379, 6384, 6397, 6412, 6431, 6442, 6457, 6460,\n",
      "       6465, 6466, 6478, 6488, 6490, 6497, 6499, 6501, 6519, 6528, 6549,\n",
      "       6552, 6560, 6578, 6579, 6580, 6588, 6608, 6622, 6640, 6647, 6655,\n",
      "       6657, 6659, 6669, 6684, 6687, 6688, 6702, 6730, 6738, 6743, 6752,\n",
      "       6753, 6756, 6759, 6762, 6770, 6774, 6780, 6795, 6804, 6806, 6807,\n",
      "       6811, 6817, 6826, 6827, 6838, 6861, 6865, 6878, 6880, 6891, 6893,\n",
      "       6915, 6928, 6944, 6948, 6951, 6954, 6976, 6985, 6986, 7003, 7010,\n",
      "       7017, 7027, 7029, 7041, 7046, 7058, 7074, 7079, 7080, 7081, 7085,\n",
      "       7086, 7093, 7096, 7107, 7109, 7115, 7121, 7125, 7141, 7148, 7153,\n",
      "       7159, 7164, 7184, 7212, 7229, 7241, 7242, 7250, 7253, 7254, 7280,\n",
      "       7288, 7303, 7318, 7325, 7344, 7346, 7347, 7361, 7367, 7374, 7378,\n",
      "       7379, 7382, 7386, 7390, 7407, 7410, 7421, 7458, 7474, 7515, 7523,\n",
      "       7531, 7568, 7596, 7606, 7638, 7639, 7640, 7644, 7646, 7655, 7662,\n",
      "       7669, 7677, 7679, 7685, 7699, 7708, 7719, 7727, 7729, 7740, 7741,\n",
      "       7742, 7753, 7758, 7759, 7762, 7771, 7778, 7787, 7814, 7819, 7823,\n",
      "       7833, 7837, 7851, 7857, 7858, 7862, 7865, 7872, 7882, 7911, 7913,\n",
      "       7937, 7940, 7942, 7944, 7956, 7968, 7998, 8015, 8025, 8061, 8066,\n",
      "       8074, 8091, 8093]),)\n",
      "[15  0 13 13 14 13 15 13  3 15 12 14 15 13 15  3 15 13  3 13 13 13 13 15\n",
      " 13 15 19 15 13 15 13 15 15 13 13 19 19 13 16  3 18 15  3  5 13  3 16 15\n",
      "  3 14 15 13 12 14 13 15 13 13  9 13 15 14 15 13 13 15 15 13 13 15 19  2\n",
      "  6 13 13 19 13 13 13 13 15 19 19 19 15 13 13  3 13 15 13 15  3 13  6 13\n",
      " 19  6 15 13  9 19 13 13 15 13 13 13 13 10 12  3 15 13 15  3  6 15 13 13\n",
      " 12  9 15  3 14  9 13 15 15 13 13 13 13 15 19  9 13 13 13  3 13 13 13 13\n",
      " 15  3 13 13 13 15  3 13 10 13 13 13 13 13 13 15 19 13 13 13 13 12 15 13\n",
      " 13 15 16  3  3  3 15 13 13 13 15 13 15 13  3 13  3 15 15  3 19 13 13 13\n",
      " 13  3 15 15 12 13  0 13 13 15 15 15 15 13 13 15  0  6 14 13 13 15  0 13\n",
      " 15 15 15 13 13 13 13 13 13 13 15 15 13 12 15 13 13 15 13 12 19 13 13  6\n",
      "  3 13 15  3 13 15 13  0 13 13 15 13 15 15 15  5 15 13 13 13 14 15 13 19\n",
      " 13 13 14 15 13 13 13  9  0 13 13 13 13 13 15 15 12 13  5 13 13 15 15 13\n",
      " 13  3 13 13 10 13 15 15 12 13 19 15 15 15 13 16 15 15  3 13 14  3 15 15\n",
      " 13 13  3 10 13  3 13 15 13 13 14 13 10 13  6 19 13 13 13 15 13 13 17 13\n",
      " 13 13 15 13 13 15 10  3 16  3 13 15 13  3  9 13 15 13 19 13 15  9 13  3\n",
      "  3  0 15 15 13 13 15 15 13 19 19 13 13 13 13 13 13 12  6 12 15 13 19 15\n",
      " 13  9 12 13 13 13  3  3 13 13 15  9 13  3 19 16  9 13 13 13 15 13 13 19\n",
      " 13 14 13 13 13 12 12 13 15 13 15 15  3 16 13 15 15 17 13 16  9 13 15 15\n",
      " 13  0 13 15 15  6 13 13 12 19  9 19 19 15 13 13 15  3 13  6 10 15 19 14\n",
      " 13 13 13 13 13  9 13 15 13 12 15 15 13 13 15 15 13 13 13 16 10 15 13 15\n",
      " 13  9 12 13 19 15 15 15 13 15 13  3 13 13  1 13 15 15 15 13 15  5  3 13\n",
      " 13 19 10  5 19 13 14 15 13 15  6 15 13 15 13 14 13 13 15 13 15 19 19 13\n",
      " 13 16 13 13 13 13 19  3 13 13 15 13 19 13 19 15 15 15 13 13  3 13  3  6\n",
      "  3 10 15 13 15 19 12 16 12 12 13 13 15 13 15 19 15 19  0 19 19 13 10 13\n",
      " 13 13 13 13 13 13 19 15 16 13  6 13 13 19 15 13 13  0 13 13 13 13 13  6\n",
      " 15 13 13 15 13 19 15 15 13 15 15 13 13 15  3  0 13 13 13  9 13 13 13  3\n",
      " 15 15 13 13 13 16 13 13  3 13 13 13 13 13 13 13 13 16 13 13 15 19 13 15\n",
      " 13 16 13 13 16  5 18 13 15 13 13 13 15 15 15  0 13 13  3  0 13 13  9 13\n",
      " 15 13 19 13 13  3 19 13 13 13 15  9 13 19 13  3 13 12 15 19 13 15 15 15\n",
      " 13 13 13  3 19 12 15 13 16 15 13 15 13 13 13 14 13 13 14 15  9 16 15 14\n",
      " 15  8 19 13  6 12 15 15 15 13 13 13 13  9  9 15 13 14 10 15 13 13 13 15\n",
      " 15 13 15 15 13 13 19 13 13  3 15 15 15 15 19 13 19 19 15 16 13 13  3 19\n",
      " 13 13 14 13 10 16 13 15 16  3 15 15 19 12 13 13 13  6 15 13 15 15 13 15\n",
      " 13 13 13 14  3 13 13 19 15 15 19 13 12 15 19 13 13 13 15 13 15 19 15 13\n",
      " 19  3 13 13  3 15 13 13 13 15 15 15 15 15 14 13 16 15 15 19 13 13  5 13\n",
      " 15 13 13  3 13 15 15  6  3 13]\n",
      "8.0 (array([  24,   27,   30,   38,   41,   43,   65,   76,   81,   84,  103,\n",
      "        106,  111,  121,  123,  126,  134,  137,  162,  167,  178,  180,\n",
      "        181,  185,  186,  187,  189,  195,  200,  201,  217,  221,  233,\n",
      "        268,  284,  286,  299,  301,  323,  329,  338,  341,  350,  355,\n",
      "        357,  362,  376,  388,  393,  416,  417,  424,  430,  442,  449,\n",
      "        455,  456,  460,  468,  473,  479,  515,  519,  529,  530,  537,\n",
      "        554,  558,  567,  568,  590,  592,  596,  606,  618,  623,  624,\n",
      "        650,  652,  653,  657,  681,  692,  698,  710,  713,  722,  731,\n",
      "        736,  756,  763,  772,  787,  802,  804,  836,  857,  861,  864,\n",
      "        871,  895,  902,  907,  918,  922,  943,  947,  950,  961,  964,\n",
      "        975,  978,  982,  998, 1001, 1007, 1011, 1016, 1042, 1046, 1047,\n",
      "       1053, 1058, 1068, 1086, 1093, 1094, 1100, 1104, 1109, 1138, 1149,\n",
      "       1166, 1179, 1186, 1192, 1199, 1202, 1206, 1211, 1233, 1259, 1275,\n",
      "       1280, 1281, 1283, 1293, 1299, 1327, 1339, 1347, 1356, 1357, 1361,\n",
      "       1385, 1390, 1398, 1411, 1414, 1418, 1423, 1424, 1439, 1441, 1449,\n",
      "       1453, 1455, 1467, 1481, 1489, 1513, 1522, 1525, 1545, 1547, 1565,\n",
      "       1572, 1578, 1582, 1593, 1604, 1607, 1609, 1613, 1615, 1619, 1623,\n",
      "       1624, 1626, 1641, 1660, 1695, 1699, 1704, 1707, 1716, 1721, 1722,\n",
      "       1724, 1729, 1771, 1787, 1788, 1818, 1819, 1834, 1848, 1851, 1852,\n",
      "       1856, 1871, 1897, 1907, 1917, 1919, 1924, 1937, 1942, 1945, 1948,\n",
      "       1950, 1959, 1964, 1968, 1977, 1982, 1995, 1998, 2008, 2013, 2023,\n",
      "       2026, 2076, 2084, 2086, 2089, 2098, 2114, 2124, 2132, 2138, 2145,\n",
      "       2160, 2170, 2173, 2175, 2183, 2201, 2225, 2268, 2279, 2282, 2283,\n",
      "       2286, 2295, 2316, 2321, 2342, 2347, 2349, 2367, 2368, 2369, 2409,\n",
      "       2426, 2428, 2438, 2445, 2469, 2495, 2505, 2521, 2524, 2525, 2546,\n",
      "       2556, 2557, 2559, 2562, 2567, 2587, 2613, 2620, 2634, 2653, 2665,\n",
      "       2668, 2690, 2698, 2705, 2707, 2710, 2749, 2757, 2773, 2774, 2780,\n",
      "       2783, 2785, 2792, 2808, 2813, 2853, 2855, 2858, 2861, 2872, 2873,\n",
      "       2877, 2890, 2902, 2927, 2940, 2943, 2951, 2952, 2953, 2970, 2971,\n",
      "       2982, 2987, 3006, 3007, 3014, 3023, 3031, 3060, 3125, 3132, 3145,\n",
      "       3149, 3154, 3156, 3177, 3179, 3182, 3218, 3234, 3248, 3272, 3281,\n",
      "       3302, 3310, 3319, 3325, 3337, 3365, 3394, 3415, 3437, 3438, 3454,\n",
      "       3459, 3460, 3462, 3467, 3471, 3480, 3498, 3513, 3528, 3538, 3545,\n",
      "       3549, 3550, 3570, 3571, 3574, 3587, 3610, 3619, 3622, 3624, 3644,\n",
      "       3653, 3659, 3678, 3690, 3693, 3701, 3708, 3720, 3728, 3761, 3787,\n",
      "       3797, 3803, 3810, 3815, 3820, 3831, 3834, 3855, 3862, 3863, 3868,\n",
      "       3871, 3899, 3911, 3913, 3949, 3951, 3961, 3968, 3976, 3977, 3981,\n",
      "       3991, 3992, 3996, 4001, 4014, 4023, 4035, 4044, 4045, 4054, 4061,\n",
      "       4064, 4074, 4078, 4084, 4088, 4099, 4101, 4107, 4129, 4146, 4151,\n",
      "       4192, 4198, 4209, 4213, 4223, 4226, 4228, 4230, 4233, 4239, 4240,\n",
      "       4244, 4251, 4258, 4260, 4266, 4289, 4307, 4309, 4312, 4316, 4317,\n",
      "       4322, 4330, 4372, 4383, 4385, 4399, 4414, 4415, 4423, 4428, 4442,\n",
      "       4447, 4458, 4462, 4469, 4483, 4484, 4492, 4509, 4513, 4528, 4533,\n",
      "       4550, 4555, 4574, 4577, 4597, 4622, 4628, 4636, 4639, 4640, 4645,\n",
      "       4648, 4650, 4652, 4657, 4671, 4672, 4676, 4680, 4683, 4706, 4721,\n",
      "       4749, 4754, 4802, 4817, 4819, 4824, 4825, 4839, 4853, 4858, 4861,\n",
      "       4864, 4892, 4919, 4929, 4939, 4954, 4964, 4966, 4975, 4976, 4987,\n",
      "       4989, 4993, 5003, 5019, 5021, 5034, 5054, 5057, 5059, 5075, 5091,\n",
      "       5105, 5109, 5114, 5123, 5144, 5147, 5150, 5160, 5177, 5182, 5188,\n",
      "       5197, 5219, 5223, 5233, 5246, 5254, 5259, 5293, 5296, 5303, 5305,\n",
      "       5306, 5318, 5329, 5345, 5356, 5374, 5381, 5400, 5401, 5439, 5445,\n",
      "       5449, 5454, 5457, 5469, 5470, 5472, 5484, 5527, 5532, 5542, 5555,\n",
      "       5566, 5574, 5575, 5592, 5613, 5623, 5631, 5654, 5662, 5664, 5675,\n",
      "       5679, 5683, 5691, 5717, 5747, 5762, 5765, 5771, 5772, 5774, 5809,\n",
      "       5819, 5822, 5825, 5838, 5841, 5848, 5851, 5862, 5870, 5893, 5895,\n",
      "       5919, 5922, 5926, 5932, 5935, 5944, 5950, 5954, 5956, 5976, 5994,\n",
      "       6000, 6011, 6014, 6032, 6059, 6063, 6066, 6079, 6082, 6084, 6093,\n",
      "       6094, 6119, 6125, 6136, 6143, 6155, 6159, 6162, 6166, 6170, 6177,\n",
      "       6190, 6192, 6206, 6213, 6215, 6218, 6241, 6252, 6254, 6256, 6275,\n",
      "       6280, 6282, 6304, 6333, 6337, 6339, 6383, 6398, 6400, 6408, 6410,\n",
      "       6426, 6434, 6458, 6491, 6511, 6542, 6545, 6547, 6551, 6559, 6564,\n",
      "       6567, 6571, 6574, 6589, 6590, 6592, 6598, 6602, 6606, 6609, 6629,\n",
      "       6636, 6638, 6639, 6642, 6648, 6649, 6658, 6675, 6681, 6689, 6693,\n",
      "       6705, 6711, 6724, 6745, 6751, 6757, 6778, 6789, 6792, 6798, 6799,\n",
      "       6815, 6829, 6830, 6855, 6885, 6900, 6901, 6908, 6914, 6929, 6939,\n",
      "       6941, 6968, 6975, 6979, 6987, 7008, 7014, 7019, 7028, 7070, 7097,\n",
      "       7100, 7104, 7117, 7133, 7134, 7160, 7161, 7176, 7181, 7183, 7186,\n",
      "       7195, 7197, 7201, 7203, 7218, 7219, 7226, 7232, 7249, 7262, 7270,\n",
      "       7273, 7274, 7276, 7310, 7314, 7320, 7333, 7337, 7345, 7363, 7375,\n",
      "       7376, 7388, 7396, 7401, 7403, 7420, 7442, 7450, 7454, 7468, 7473,\n",
      "       7479, 7490, 7502, 7511, 7526, 7536, 7557, 7566, 7573, 7576, 7577,\n",
      "       7610, 7612, 7626, 7627, 7649, 7661, 7667, 7670, 7675, 7684, 7687,\n",
      "       7696, 7703, 7706, 7710, 7717, 7722, 7743, 7748, 7754, 7783, 7785,\n",
      "       7789, 7806, 7811, 7820, 7835, 7859, 7873, 7889, 7890, 7893, 7897,\n",
      "       7900, 7904, 7906, 7917, 7921, 7923, 7958, 7960, 7966, 7981, 7985,\n",
      "       7994, 8016, 8021, 8023, 8037, 8045, 8063, 8064, 8078]),)\n",
      "[ 3  0  3  0  9  0  3  3  3  0  0 16  3  9 14 14  3  0 14  9  3  0  9 16\n",
      " 14  9  3  3 16  9  3  0  3  0  3  3  9  3  3  0  0  0  3  3  0 14 16  3\n",
      " 14  3 16 14  0 14 16  3  0  6  9 12  0 16  3  7 16  9 16 14  3  0  9  3\n",
      "  0  6  9  0 14 16  3  3  9  0  9  6  9  0  3  3  0  4 14 16  6 16  6  0\n",
      " 16 14  3 14  3  3  3 16  3 14  3  3  3  3 14  0  3  9  9 14  3  0  3 16\n",
      " 16 16  0 16 14  3 16  0  9  0 14  0  6  3 16  3 16  3  0 16  3  3  0  0\n",
      " 14  0  3 16 16 10  3  3  0  9 16  0  9  0  0  0 16  3  0 16  3  3 12  3\n",
      "  3 14 16  3  9  9  3  0  0  3 16  9  0  3  9  3  3  3 16  3  3 16  3 16\n",
      "  3  0  6  0  3  0 16  3  3  3  0 14 16  3  3  0  0  3  3  9  3 14 16  3\n",
      " 16 16  3  0 16 16  0 16  0 16 14  3  9  9  0  6  0 19 16  3  3 14  0  9\n",
      "  0  9 14  3  3 14 16  0  3  0 16  6  6 16  9  0  9  0  0 16  3 16 16  3\n",
      " 16 16 16  3  3  3  3  3  3  3  3  3  3  3 16  3  3 16  0 16  3  3  3  3\n",
      " 14  9  3  9  0  3  0  0  3  0 14  3  0 16  3  3  3  3 14  3 16 14 16 19\n",
      " 16  3  3  3 16  9  0  3  3  3 19 16  6  0  0  0 14  9  3  0 14  0 14  0\n",
      "  0 16 16  3  0  9  3 14 16  3  3 10  3 16  3  3 16  3  3  0  3 16 16  0\n",
      " 16  0 16  3  0  9 19  3  9  9  0  3  9 16  9  9  0  9  3  0 16  3  3  0\n",
      "  3  3  3  9  9 14  3 17  0 12  9 19 16  0  9  3 14  9  0  9  3  3 16  0\n",
      "  3 16  9  0  3  0 16  9  3  9 16 16 16 10  9  3  3 16  3 16 14 16  3  9\n",
      "  9  0 16  3  6 16  0  9  0  3  9  0  6  0  9  3  3  6  3  0  9  0  9  9\n",
      "  3  3  3 16 16  3  3 16  3  3 16  3  3  3  9  0  3  3  9  3  3  3 14  3\n",
      "  3  0  3  3  3  6  3 16  3  0  3  3  0  0  0 16 19  0 14 14 14  9  9 18\n",
      " 16  3  0  3  9  6  3 14  6  3 16 16  0  0  0 16  3  3  0  0 16  0  3  3\n",
      " 16  0  3 16  3  3 14  0 16  3  0  9  3 16  0  7 14  3  3  0 16  3 16 14\n",
      " 16  3  0 16  3  3 16  0  6  6 14  0  9  9  3  3  6  3 16  9  3  0  3 16\n",
      "  9 10  0  0  0  3 16  3  3 14  3 14  0  9  6 14  3 16 16  0  9  0  9  0\n",
      "  9  9 16  3 14  3  3 14  9 16  3 14 14 16 14 16  3  0  0  6 16 16  9  0\n",
      " 14  9  0 10  3  9  0  0  0  3  3  0  0 14  3  3  4  9 16 16 16  3 16  9\n",
      "  0 14  3  0  9  3  0  9  3  3  3  0 16  3  0 16  0  0  3  0  9  0  3 16\n",
      "  3  9  9  3  3 16  9 16  4  9  0 14  3 16  3 16 10 16  3 16  9  0  0 14\n",
      "  3  9  9 16 14  9 16  0  0 16  3  9  0 16 10  9  0  9 16  3  3  9  9 14\n",
      "  0 14  0  0  3 16 14  0 14  0  0  3 14 16  3  0  0  3 16  3  3  0  3 16\n",
      " 16 16  9  3 16  0  3  3  3  0  9  3  3 16 16  0 16  3  0 16 16  3 14  0\n",
      "  0  3 14  0  0  3  9  3  3  0 16 14  0 16  0  0  9  3  3  9  3  9  3  3\n",
      "  3  3  9  9 10  0  3  3  0  3  9 16  3  0  3  9  3 16  0 16 14 14 14  0\n",
      "  3  0 14  3  3  3  0  9 16 14 16  3 14  0  0  9  3  3]\n",
      "9.0 (array([   2,   12,   18,   19,   21,   23,   35,   52,   59,   69,   74,\n",
      "         79,  109,  112,  133,  135,  143,  147,  151,  154,  158,  160,\n",
      "        176,  193,  203,  206,  213,  216,  228,  248,  262,  263,  264,\n",
      "        270,  285,  305,  312,  315,  318,  322,  332,  343,  346,  365,\n",
      "        387,  403,  412,  439,  457,  464,  484,  486,  488,  495,  501,\n",
      "        517,  523,  524,  540,  542,  546,  548,  552,  563,  599,  602,\n",
      "        604,  615,  629,  630,  658,  667,  669,  680,  690,  693,  706,\n",
      "        721,  730,  744,  762,  773,  793,  797,  803,  807,  809,  810,\n",
      "        811,  812,  814,  826,  835,  838,  839,  854,  865,  885,  892,\n",
      "        894,  937,  949,  954,  955,  959,  968,  973,  986, 1009, 1028,\n",
      "       1031, 1056, 1067, 1080, 1084, 1085, 1117, 1137, 1139, 1145, 1148,\n",
      "       1158, 1172, 1174, 1182, 1204, 1207, 1218, 1232, 1242, 1243, 1251,\n",
      "       1257, 1264, 1295, 1298, 1301, 1302, 1303, 1305, 1307, 1309, 1310,\n",
      "       1318, 1335, 1340, 1348, 1352, 1353, 1355, 1382, 1396, 1409, 1410,\n",
      "       1415, 1425, 1429, 1432, 1446, 1448, 1472, 1483, 1490, 1495, 1501,\n",
      "       1557, 1559, 1562, 1587, 1595, 1616, 1630, 1648, 1652, 1657, 1664,\n",
      "       1689, 1697, 1702, 1725, 1730, 1732, 1742, 1744, 1751, 1754, 1767,\n",
      "       1770, 1782, 1795, 1797, 1806, 1811, 1816, 1826, 1845, 1846, 1847,\n",
      "       1857, 1860, 1864, 1867, 1872, 1916, 1921, 1934, 1956, 2000, 2015,\n",
      "       2030, 2034, 2043, 2045, 2053, 2058, 2078, 2091, 2103, 2139, 2144,\n",
      "       2146, 2155, 2174, 2187, 2195, 2203, 2206, 2215, 2236, 2238, 2270,\n",
      "       2277, 2284, 2297, 2299, 2314, 2322, 2356, 2362, 2366, 2395, 2400,\n",
      "       2402, 2414, 2422, 2429, 2464, 2472, 2477, 2478, 2485, 2486, 2500,\n",
      "       2536, 2551, 2564, 2576, 2581, 2592, 2595, 2596, 2602, 2614, 2615,\n",
      "       2616, 2644, 2657, 2670, 2689, 2691, 2722, 2725, 2735, 2743, 2746,\n",
      "       2750, 2760, 2764, 2796, 2809, 2812, 2814, 2820, 2837, 2838, 2845,\n",
      "       2856, 2881, 2887, 2912, 2920, 2926, 2935, 2945, 2949, 2956, 2967,\n",
      "       2975, 2983, 3015, 3017, 3022, 3025, 3026, 3030, 3043, 3048, 3064,\n",
      "       3065, 3072, 3075, 3082, 3086, 3087, 3104, 3112, 3121, 3142, 3148,\n",
      "       3163, 3169, 3178, 3181, 3184, 3197, 3201, 3202, 3209, 3224, 3227,\n",
      "       3231, 3233, 3241, 3246, 3249, 3250, 3255, 3261, 3267, 3271, 3287,\n",
      "       3289, 3295, 3296, 3316, 3328, 3350, 3354, 3355, 3366, 3371, 3384,\n",
      "       3386, 3389, 3395, 3416, 3418, 3445, 3446, 3461, 3490, 3493, 3495,\n",
      "       3500, 3506, 3515, 3518, 3523, 3530, 3546, 3553, 3558, 3566, 3572,\n",
      "       3581, 3596, 3598, 3599, 3601, 3605, 3623, 3634, 3642, 3643, 3662,\n",
      "       3664, 3680, 3684, 3694, 3710, 3727, 3767, 3768, 3769, 3776, 3781,\n",
      "       3791, 3792, 3802, 3805, 3806, 3837, 3840, 3842, 3849, 3852, 3873,\n",
      "       3875, 3877, 3884, 3890, 3893, 3921, 3922, 3925, 3926, 3927, 3938,\n",
      "       3940, 3941, 3942, 3947, 3950, 3952, 3956, 3965, 3985, 3993, 3999,\n",
      "       4022, 4024, 4029, 4055, 4073, 4095, 4097, 4112, 4117, 4121, 4124,\n",
      "       4157, 4163, 4172, 4179, 4190, 4208, 4211, 4217, 4238, 4252, 4255,\n",
      "       4263, 4265, 4278, 4280, 4281, 4303, 4304, 4321, 4329, 4345, 4378,\n",
      "       4386, 4398, 4400, 4406, 4454, 4459, 4464, 4466, 4468, 4472, 4487,\n",
      "       4498, 4502, 4516, 4544, 4565, 4566, 4588, 4608, 4610, 4615, 4625,\n",
      "       4634, 4637, 4649, 4687, 4708, 4720, 4726, 4747, 4751, 4759, 4766,\n",
      "       4769, 4770, 4772, 4773, 4782, 4803, 4811, 4816, 4820, 4830, 4833,\n",
      "       4835, 4840, 4841, 4843, 4875, 4883, 4908, 4917, 4927, 4930, 4934,\n",
      "       4980, 4986, 4999, 5011, 5013, 5048, 5055, 5062, 5072, 5081, 5085,\n",
      "       5112, 5139, 5140, 5151, 5152, 5156, 5158, 5184, 5185, 5202, 5204,\n",
      "       5227, 5235, 5236, 5237, 5247, 5261, 5275, 5282, 5294, 5308, 5313,\n",
      "       5315, 5319, 5340, 5354, 5359, 5373, 5379, 5387, 5389, 5398, 5407,\n",
      "       5428, 5429, 5430, 5442, 5447, 5463, 5464, 5465, 5468, 5475, 5477,\n",
      "       5485, 5491, 5495, 5503, 5504, 5531, 5537, 5539, 5546, 5547, 5562,\n",
      "       5572, 5581, 5589, 5593, 5596, 5610, 5618, 5642, 5646, 5653, 5669,\n",
      "       5682, 5702, 5705, 5710, 5756, 5779, 5788, 5791, 5802, 5846, 5876,\n",
      "       5880, 5886, 5904, 5948, 5961, 5974, 5975, 5979, 5989, 5995, 6013,\n",
      "       6027, 6052, 6053, 6073, 6089, 6116, 6126, 6144, 6154, 6157, 6163,\n",
      "       6178, 6187, 6198, 6216, 6229, 6230, 6231, 6236, 6239, 6243, 6255,\n",
      "       6260, 6281, 6287, 6294, 6296, 6302, 6308, 6320, 6323, 6328, 6335,\n",
      "       6336, 6371, 6375, 6389, 6392, 6402, 6407, 6411, 6413, 6422, 6429,\n",
      "       6445, 6449, 6486, 6513, 6517, 6523, 6534, 6537, 6541, 6555, 6561,\n",
      "       6570, 6585, 6616, 6621, 6631, 6645, 6663, 6664, 6670, 6685, 6691,\n",
      "       6712, 6719, 6728, 6732, 6749, 6754, 6764, 6790, 6794, 6800, 6805,\n",
      "       6810, 6812, 6819, 6821, 6836, 6846, 6863, 6867, 6884, 6894, 6911,\n",
      "       6924, 6926, 6930, 6935, 6940, 6946, 6969, 6970, 6997, 6998, 7007,\n",
      "       7043, 7045, 7051, 7053, 7055, 7091, 7095, 7103, 7129, 7130, 7165,\n",
      "       7177, 7179, 7188, 7196, 7199, 7209, 7261, 7272, 7286, 7294, 7309,\n",
      "       7315, 7317, 7353, 7358, 7371, 7383, 7399, 7405, 7411, 7412, 7419,\n",
      "       7425, 7430, 7439, 7440, 7441, 7443, 7445, 7453, 7483, 7501, 7504,\n",
      "       7507, 7512, 7528, 7533, 7534, 7539, 7555, 7560, 7563, 7564, 7565,\n",
      "       7572, 7574, 7581, 7586, 7589, 7591, 7616, 7617, 7625, 7629, 7631,\n",
      "       7634, 7660, 7678, 7701, 7728, 7734, 7750, 7756, 7790, 7797, 7812,\n",
      "       7825, 7829, 7850, 7866, 7868, 7869, 7918, 7922, 7924, 7925, 7947,\n",
      "       7967, 7969, 7971, 7986, 7999, 8013, 8017, 8031, 8034, 8041, 8042,\n",
      "       8044, 8059, 8065, 8073, 8075, 8095, 8098]),)\n",
      "[19 19  3 12 12 12 19  3 12 16 12 12  5  5 19 12 19 19 12  3 12 12 12 19\n",
      "  3 12 19  3  3 12 12  3 12 19 13 12  3 12 19 12 19  3  3 12 12  3 12  3\n",
      " 12  3  3 12  3 19  5  3  3  3  3 12 12  0 19  3 12  4  3 19  3 19 19  3\n",
      "  3  3 12  3 19  3  3  3 19  3 12 12 19  3  5 12  0 19 19  3 19  3 12 12\n",
      " 12 19 12 14 19 19  3 12 19  5  3  3  6  3 12 12  3 12  3  3 19  3  5  3\n",
      "  3 12 14  3  3 19  3  3 12 12  3  3  3 15 19 12 13 12 19  3  3 12  3 19\n",
      "  5 19 19  9 12  2 12 12  3 12 12 12 12 19 19  3 19  3  3  3 19  0  3 19\n",
      " 19 19 14  4  3 12 12 12  3 12 12  0 13 19 14 19 19  5 19 19 19 12  0 12\n",
      " 12  3  3 12  3  3 12  3 19  5  3  3 12 14  0 14 12 19  3 19 12 13 19  3\n",
      " 12 19  3 12  5 12 12 12 12 14  5 14 10 12  3  3  5 12  3  3 19 12  3 12\n",
      " 14  5  3  5  3 12  3 19 19  3  3  3  0 19  3 19  5 19  3 12  5  3  3 12\n",
      " 12  3  6  3 19  3  3 12 19 12 12 12 12  3 19 19  3 19  3  3  3  3 12 12\n",
      " 19 12  3 12  5 19 19  3 19 12  3  5 19 19  3 19  3  5  3 12 19 19 19 19\n",
      " 19 19  3 16 19  3  9  3 19 19 12  3  3  9 19 14  6 16 12 12 19  3 12  5\n",
      "  3 12  3  3  3  3  3  9 19  3  9 19 12 19 12  3 19 19  3  3 19 19 19  3\n",
      " 12 19 12 19  3 19  9  3 12  3 19 14  3  5 16  3 14 19  3  3 12  3  3  3\n",
      "  5 12 12  3 14 12 12 19 19  9  5  5  5  3  3 12  3  6 12  3 14 19  3  3\n",
      " 12  3  3  5  3 19  3 12 19 12  3 12 19 12 19 19 19  3  5  3 12  3 19  5\n",
      "  3  3  3 16 12  5 12 13  3  5 19  5 19 12  3 12 12  3 12  6 12 12 12 12\n",
      " 12 12 19  3 19 12  3  9  3  3  3 19 19 12  3 19 12  3 12 19 14 19 12 19\n",
      "  3  3  3 12 12 19 12  5 12  3 12 19 12  3  3 12 12  3  5  3 12  5  3  9\n",
      " 19  0  3  3  5  3  6 12 19 19 14 12 12 19 12 12  6  3 12 16  3 12 19  3\n",
      "  3 12  0 12 15 19 19  3  3 12  5  5 12 13  3  3  3  3 19 19  0  5 19  3\n",
      "  3 12 19 12 12 19 16 12 12 19  6  3  3 12 19  3 19  3  3 19  3 19 12 12\n",
      " 12  3 12 12  3  3 12 12  3 12  3 12  3 12  3 12  6 19 19 12 12 19 12  5\n",
      " 12 12  6 19  3  3  9 12 19 19  3  3 12 12  3  3 12 12 14 12 13 12  3 19\n",
      "  5  3 12 12 19  3  3  5  3 19  9  3 19 12 14  3 12  0 12  3  3 12 12 16\n",
      " 19  3 12  3 19 19  3 15 12 12 12 12 19  5 19  3  3 15 14  3 12 19  3  5\n",
      "  3  3 19  3  5 12 19  3 19 12 12  3  3 19 12 19 19 19 13 19 12  3  0 19\n",
      " 12  3 12  3  3  3 19 12 19 19 12  5 12  3 11  0 19 19  3 19 19  3 19  5\n",
      " 12 19 12 12 19 12 19 12 12  5  3 12 12 19 19 16 19 12  5 19 12 13 12  5\n",
      " 12 19  3 19 12 19  3 19  3 19  3 19 19 12  6  3  4  3 12 12  3  3 19 16\n",
      " 19  5  3 13 12 12  5 12  3 14  3 19  2  5  3 12 12  3 19  3 12  3 19 19\n",
      " 12  3  3 12 19 12  5 19 19 12  3  3 19  3 19 19 19 15 19  6 19 12 12  3\n",
      " 19  3 19 12 12]\n"
     ]
    }
   ],
   "source": [
    "for i in np.unique(y_train):\n",
    "    idx = np.where(y_train == i)\n",
    "    print(i, idx[:10])\n",
    "    print(y_b_gmm[idx])"
   ]
  },
  {
   "cell_type": "code",
   "execution_count": 23,
   "metadata": {
    "ExecuteTime": {
     "end_time": "2018-05-17T09:45:20.916501Z",
     "start_time": "2018-05-17T09:45:20.908451Z"
    }
   },
   "outputs": [
    {
     "data": {
      "text/plain": [
       "array([[7., 3., 9., ..., 4., 9., 5.]], dtype=float32)"
      ]
     },
     "execution_count": 23,
     "metadata": {},
     "output_type": "execute_result"
    }
   ],
   "source": [
    "select = np.vectorize(lambda x: x==1.0)\n",
    "y_train[select(1)]"
   ]
  },
  {
   "cell_type": "code",
   "execution_count": 33,
   "metadata": {
    "ExecuteTime": {
     "end_time": "2018-05-17T09:50:13.170037Z",
     "start_time": "2018-05-17T09:50:13.163981Z"
    }
   },
   "outputs": [
    {
     "data": {
      "text/plain": [
       "1.0"
      ]
     },
     "execution_count": 33,
     "metadata": {},
     "output_type": "execute_result"
    }
   ],
   "source": [
    "y_train[4]"
   ]
  },
  {
   "cell_type": "markdown",
   "metadata": {
    "ExecuteTime": {
     "end_time": "2018-05-10T12:40:59.837685Z",
     "start_time": "2018-05-10T12:40:59.833846Z"
    }
   },
   "source": [
    "## LightGBM"
   ]
  },
  {
   "cell_type": "code",
   "execution_count": null,
   "metadata": {
    "ExecuteTime": {
     "end_time": "2018-05-10T12:41:13.430183Z",
     "start_time": "2018-05-10T12:41:09.927140Z"
    }
   },
   "outputs": [],
   "source": [
    "import lightgbm as lgb"
   ]
  },
  {
   "cell_type": "code",
   "execution_count": null,
   "metadata": {
    "ExecuteTime": {
     "end_time": "2018-05-10T13:24:33.160510Z",
     "start_time": "2018-05-10T13:24:33.151872Z"
    }
   },
   "outputs": [],
   "source": [
    "lgb_clf = lgb.LGBMClassifier(boosting_type='gbdt', num_leaves=31, max_depth=-1,\n",
    "                             learning_rate=0.1, n_estimators=250, subsample_for_bin=200000,\n",
    "                             objective='multiclass', class_weight='balanced', min_split_gain=0.0,\n",
    "                             min_child_weight=0.001, min_child_samples=20, subsample=1.0,\n",
    "                             subsample_freq=0, colsample_bytree=1.0, reg_alpha=0,\n",
    "                             reg_lambda=0, random_state=None, n_jobs=-1, silent=True)"
   ]
  },
  {
   "cell_type": "code",
   "execution_count": null,
   "metadata": {
    "ExecuteTime": {
     "end_time": "2018-05-10T13:27:22.685589Z",
     "start_time": "2018-05-10T13:26:04.046886Z"
    },
    "scrolled": true
   },
   "outputs": [],
   "source": [
    "lgb_clf.fit(X_train_transformed, y_train, eval_set=[(X_test_transformed, y_test)],\n",
    "           early_stopping_rounds=4)\n",
    "\n",
    "y_pred = lgb_clf.predict(X_test_transformed)\n",
    "accuracy = accuracy_score(y_test, y_pred)\n",
    "print(\"accuracy: {:.3f}%\".format(accuracy*100))"
   ]
  },
  {
   "cell_type": "code",
   "execution_count": null,
   "metadata": {
    "ExecuteTime": {
     "end_time": "2018-05-10T13:27:42.713524Z",
     "start_time": "2018-05-10T13:27:23.063176Z"
    }
   },
   "outputs": [],
   "source": [
    "y_unlabeled_proba = lgb_clf.predict_proba(X_unlabeled_transformed)\n",
    "high_confidence_rows = [i for i in range(y_unlabeled_proba.shape[0]) if\n",
    "     y_unlabeled_proba[i, np.argmax(y_unlabeled_proba[i])] > 0.9]\n",
    "\n",
    "y_unlabeled_LGB  = np.argmax(y_unlabeled_proba[high_confidence_rows], axis=1)\n",
    "X_unlabeled_transformed_LGB = X_unlabeled_transformed[high_confidence_rows]"
   ]
  },
  {
   "cell_type": "code",
   "execution_count": null,
   "metadata": {},
   "outputs": [],
   "source": []
  },
  {
   "cell_type": "markdown",
   "metadata": {},
   "source": [
    "## Step: Stack labeled and unlabeled"
   ]
  },
  {
   "cell_type": "code",
   "execution_count": null,
   "metadata": {
    "ExecuteTime": {
     "end_time": "2018-05-10T13:29:18.981504Z",
     "start_time": "2018-05-10T13:29:18.970371Z"
    }
   },
   "outputs": [],
   "source": [
    "# Stack all training data together for DNN\n",
    "X_both_transformed = np.vstack((X_train_transformed, X_unlabeled_transformed_SVM))#, X_unlabeled_transformed_LGB))\n",
    "y_both = np.hstack((y_train, y_unlabeled_SVM))#, y_unlabeled_LGB))"
   ]
  },
  {
   "cell_type": "markdown",
   "metadata": {},
   "source": [
    "## Step: NNs for combined data"
   ]
  },
  {
   "cell_type": "markdown",
   "metadata": {},
   "source": [
    "### DNN"
   ]
  },
  {
   "cell_type": "code",
   "execution_count": null,
   "metadata": {
    "ExecuteTime": {
     "end_time": "2018-05-10T13:30:12.915776Z",
     "start_time": "2018-05-10T13:30:12.900375Z"
    }
   },
   "outputs": [],
   "source": [
    "import keras\n",
    "from keras.models import Sequential\n",
    "from keras.layers import Dense, Dropout, Activation, GaussianNoise\n",
    "from keras.layers.normalization import BatchNormalization\n",
    "from keras.optimizers import *\n",
    "from keras.wrappers.scikit_learn import KerasClassifier\n",
    "\n",
    "from livelossplot import PlotLossesKeras\n",
    "\n",
    "y_both_categorical = keras.utils.to_categorical(y_both, num_classes=10)\n",
    "y_test_categorical = keras.utils.to_categorical(y_test, num_classes=10)\n",
    "\n",
    "callbacks = [keras.callbacks.EarlyStopping(monitor='val_loss', min_delta=0, patience=50, verbose=1, mode='auto'),\n",
    "             PlotLossesKeras()]\n",
    "\n",
    "def dnn_model():\n",
    "    model = Sequential()\n",
    "\n",
    "    model.add(GaussianNoise(0.0, input_shape=(128,)))\n",
    "\n",
    "    model.add(Dense(1024, kernel_initializer='glorot_normal', bias_initializer='zeros'))\n",
    "    model.add(BatchNormalization())\n",
    "    model.add(Activation('relu'))\n",
    "    model.add(Dropout(0.5))\n",
    "\n",
    "#     model.add(GaussianNoise(0.5))\n",
    "    \n",
    "    model.add(Dense(2048, kernel_initializer='glorot_normal', bias_initializer='zeros'))\n",
    "    model.add(BatchNormalization())\n",
    "    model.add(Activation('relu'))\n",
    "    model.add(Dropout(0.5))\n",
    "\n",
    "#     model.add(GaussianNoise(0.5))\n",
    "    \n",
    "    model.add(Dense(1024, kernel_initializer='glorot_normal', bias_initializer='zeros'))\n",
    "    model.add(BatchNormalization())\n",
    "    model.add(Activation('relu'))\n",
    "    model.add(Dropout(0.5))\n",
    "\n",
    "    model.add(Dense(512, kernel_initializer='glorot_normal', bias_initializer='zeros'))\n",
    "    model.add(BatchNormalization())\n",
    "    model.add(Activation('relu'))\n",
    "    model.add(Dropout(0.5))\n",
    "    \n",
    "    model.add(Dense(10, kernel_initializer='glorot_normal', bias_initializer='zeros'))\n",
    "    model.add(Activation('softmax'))\n",
    "    \n",
    "    sgd = SGD(lr=0.025, decay=1e-6, momentum=0.9, nesterov=True)\n",
    "    adam = Adam()\n",
    "    adadelta = Adadelta()\n",
    "    nadam = Nadam()\n",
    "    model.compile(loss='categorical_crossentropy',\n",
    "                  optimizer=sgd,\n",
    "#                   optimizer=adam,\n",
    "#                   optimizer=nadam,\n",
    "                  metrics=['accuracy'])\n",
    "    \n",
    "    return model"
   ]
  },
  {
   "cell_type": "code",
   "execution_count": null,
   "metadata": {
    "ExecuteTime": {
     "end_time": "2018-05-10T13:35:47.647135Z",
     "start_time": "2018-05-10T13:30:17.053435Z"
    },
    "scrolled": true
   },
   "outputs": [],
   "source": [
    "model = dnn_model()\n",
    "\n",
    "model.fit(X_both_transformed, y_both_categorical,\n",
    "          epochs=100,\n",
    "          callbacks=callbacks,\n",
    "          validation_data=(X_test_transformed, y_test_categorical),\n",
    "          batch_size=128,\n",
    "          verbose=0)\n",
    "\n",
    "score = model.evaluate(X_test_transformed, y_test_categorical, batch_size=64)\n",
    "print('Test loss:', score[0])\n",
    "print('Test accuracy:', score[1])"
   ]
  },
  {
   "cell_type": "code",
   "execution_count": null,
   "metadata": {},
   "outputs": [],
   "source": [
    "lgb_clf.fit(X_both_transformed, y_both, eval_set=[(X_test_transformed, y_test)],\n",
    "           early_stopping_rounds=10)\n",
    "\n",
    "y_pred = lgb_clf.predict(X_test_transformed)\n",
    "accuracy = accuracy_score(y_test, y_pred)\n",
    "print(\"accuracy: {:.3f}%\".format(accuracy*100))"
   ]
  },
  {
   "cell_type": "code",
   "execution_count": null,
   "metadata": {},
   "outputs": [],
   "source": []
  },
  {
   "cell_type": "code",
   "execution_count": null,
   "metadata": {},
   "outputs": [],
   "source": []
  },
  {
   "cell_type": "code",
   "execution_count": null,
   "metadata": {},
   "outputs": [],
   "source": [
    "dnn_list = [KerasClassifier(build_fn=dnn_model, epochs=75, batch_size=64, verbose=0, callbacks=callbacks,\n",
    "            validation_data=(X_test_transformed, y_test_categorical))\n",
    "            for _ in range(10)]"
   ]
  },
  {
   "cell_type": "code",
   "execution_count": null,
   "metadata": {},
   "outputs": [],
   "source": [
    "for dnn in dnn_list:\n",
    "    dnn.fit(X_both_transformed, y_both_categorical)"
   ]
  },
  {
   "cell_type": "code",
   "execution_count": null,
   "metadata": {},
   "outputs": [],
   "source": [
    "y_predict = np.zeros((len(X_test_transformed),10))\n",
    "for dnn in dnn_list:\n",
    "    pred = dnn.predict_proba(X_test_transformed)\n",
    "    y_predict += pred\n",
    "y_predict /= len(dnn_list)\n",
    "y_predict = np.argmax(y_predict, axis=1)\n",
    "accuracy = accuracy_score(y_test, y_predict)\n",
    "print(\"accuracy: {:.3f}%\".format(accuracy*100))"
   ]
  },
  {
   "cell_type": "markdown",
   "metadata": {},
   "source": [
    "### CNN"
   ]
  },
  {
   "cell_type": "code",
   "execution_count": null,
   "metadata": {
    "scrolled": true
   },
   "outputs": [],
   "source": [
    "import keras\n",
    "from keras.models import Sequential\n",
    "from keras.layers import Dense, Dropout, Flatten\n",
    "from keras.layers import Conv1D, MaxPooling1D\n",
    "from keras import backend as K\n",
    "from livelossplot import PlotLossesKeras\n",
    "\n",
    "batch_size = 64\n",
    "num_classes = 10\n",
    "epochs = 25\n",
    "patience = 1\n",
    "\n",
    "# input dimensions\n",
    "n_features = 128\n",
    "\n",
    "if K.image_data_format() == 'channels_first':\n",
    "    x_train_ = X_both_transformed.reshape(X_both_transformed.shape[0], 1, n_features)\n",
    "    x_test_ = X_test_transformed.reshape(X_test_transformed.shape[0], 1, n_features)\n",
    "    x_challenge_ = X_challenge_transformed.reshape(X_challenge_transformed.shape[0], 1, n_features)\n",
    "    input_shape = (1, n_features)\n",
    "else:\n",
    "    x_train_ = X_both_transformed.reshape(X_both_transformed.shape[0], n_features, 1)\n",
    "    x_test_ = X_test_transformed.reshape(X_test_transformed.shape[0], n_features, 1)\n",
    "    x_challenge_ = X_challenge_transformed.reshape(X_challenge.shape[0], n_features, 1)\n",
    "    input_shape = (n_features, 1)\n",
    "\n",
    "print('x_train shape:', x_train_.shape)\n",
    "print(x_train_.shape[0], 'train samples')\n",
    "print(x_test_.shape[0], 'test samples')\n",
    "\n",
    "# convert class vectors to binary class matrices\n",
    "y_train_ = keras.utils.to_categorical(y_both, num_classes)\n",
    "y_test_ = keras.utils.to_categorical(y_test, num_classes)\n",
    "\n",
    "cnn = Sequential()\n",
    "\n",
    "cnn.add(GaussianNoise(0.5, input_shape=input_shape))\n",
    "\n",
    "cnn.add(Conv1D(128, kernel_size=8))\n",
    "cnn.add(BatchNormalization())\n",
    "cnn.add(Activation('relu'))\n",
    "\n",
    "cnn.add(Conv1D(512, 4))\n",
    "cnn.add(BatchNormalization())\n",
    "cnn.add(Activation('relu'))\n",
    "\n",
    "cnn.add(Conv1D(1024, 2))\n",
    "cnn.add(BatchNormalization())\n",
    "cnn.add(Activation('relu'))\n",
    "\n",
    "cnn.add(MaxPooling1D(pool_size=2))\n",
    "\n",
    "cnn.add(Dropout(0.5))\n",
    "\n",
    "cnn.add(Flatten())\n",
    "\n",
    "\n",
    "\n",
    "cnn.add(Dense(1024, kernel_initializer='glorot_normal', bias_initializer='zeros'))\n",
    "cnn.add(BatchNormalization())\n",
    "cnn.add(Activation('relu'))\n",
    "cnn.add(Dropout(0.5))\n",
    "\n",
    "cnn.add(Dense(512, kernel_initializer='glorot_normal', bias_initializer='zeros'))\n",
    "cnn.add(BatchNormalization())\n",
    "cnn.add(Activation('relu'))\n",
    "cnn.add(Dropout(0.5))\n",
    "\n",
    "cnn.add(Dense(num_classes, activation='softmax'))\n",
    "\n",
    "cnn.compile(loss=keras.losses.categorical_crossentropy,\n",
    "              optimizer=keras.optimizers.Adadelta(),\n",
    "              metrics=['accuracy'])\n",
    "\n",
    "callbacks = [keras.callbacks.EarlyStopping(monitor='val_loss', min_delta=0, patience=patience, verbose=1, mode='auto'),\n",
    "             PlotLossesKeras()]\n",
    "\n",
    "cnn.fit(x_train_, y_train_,\n",
    "          batch_size=batch_size,\n",
    "          epochs=epochs,\n",
    "          callbacks = [keras.callbacks.EarlyStopping(monitor='val_loss', min_delta=0, patience=patience, verbose=1, mode='auto'),\n",
    "                       PlotLossesKeras()],\n",
    "          verbose=1,\n",
    "          validation_data=(x_test_, y_test_))\n",
    "score = cnn.evaluate(x_test_, y_test_, verbose=0)\n",
    "print('Test loss:', score[0])\n",
    "print('Test accuracy:', score[1])"
   ]
  },
  {
   "cell_type": "markdown",
   "metadata": {},
   "source": [
    "## Step: Output"
   ]
  },
  {
   "cell_type": "code",
   "execution_count": 10,
   "metadata": {},
   "outputs": [],
   "source": [
    "# Generate prediction\n",
    "y_predict = svm_clf.predict(X_challenge_transformed)\n",
    "\n",
    "# Write prediction to output file\n",
    "filename = 'prediction_svm.csv'\n",
    "result = DataFrame(y_predict)\n",
    "result.index = result.index + len(data_labeled) + len(data_unlabeled)\n",
    "result.to_csv(filename, index_label='Id', header=['y'])"
   ]
  },
  {
   "cell_type": "code",
   "execution_count": null,
   "metadata": {
    "ExecuteTime": {
     "end_time": "2018-05-08T12:20:43.086235Z",
     "start_time": "2018-05-08T12:20:42.449874Z"
    }
   },
   "outputs": [],
   "source": [
    "# Generate prediction\n",
    "y_predict = model.predict(X_challenge_transformed)\n",
    "\n",
    "# y_predict = cnn.predict(x_challenge_)\n",
    "\n",
    "# Write prediction to output file\n",
    "filename = 'prediction_labeled.csv'\n",
    "result = DataFrame(np.argmax(y_predict, axis=1))\n",
    "result.index = result.index + len(data_labeled) + len(data_unlabeled)\n",
    "result.to_csv(filename, index_label='Id', header=['y'])"
   ]
  },
  {
   "cell_type": "code",
   "execution_count": null,
   "metadata": {},
   "outputs": [],
   "source": [
    "y_predict = np.zeros((len(X_challenge_transformed),10))\n",
    "for dnn in dnn_list:\n",
    "    pred = dnn.predict_proba(X_challenge_transformed)\n",
    "    y_predict += pred\n",
    "y_predict /= len(dnn_list)\n",
    "\n",
    "# Write prediction to output file\n",
    "filename = 'prediction_labeled_bag.csv'\n",
    "result = DataFrame(np.argmax(y_predict, axis=1))\n",
    "result.index = result.index + len(data_labeled) + len(data_unlabeled)\n",
    "result.to_csv(filename, index_label='Id', header=['y'])\n"
   ]
  },
  {
   "cell_type": "code",
   "execution_count": null,
   "metadata": {},
   "outputs": [],
   "source": []
  }
 ],
 "metadata": {
  "kernelspec": {
   "display_name": "Python 3",
   "language": "python",
   "name": "python3"
  },
  "language_info": {
   "codemirror_mode": {
    "name": "ipython",
    "version": 3
   },
   "file_extension": ".py",
   "mimetype": "text/x-python",
   "name": "python",
   "nbconvert_exporter": "python",
   "pygments_lexer": "ipython3",
   "version": "3.6.5"
  },
  "latex_envs": {
   "LaTeX_envs_menu_present": true,
   "autoclose": false,
   "autocomplete": true,
   "bibliofile": "biblio.bib",
   "cite_by": "apalike",
   "current_citInitial": 1,
   "eqLabelWithNumbers": true,
   "eqNumInitial": 1,
   "hotkeys": {
    "equation": "Ctrl-E",
    "itemize": "Ctrl-I"
   },
   "labels_anchors": false,
   "latex_user_defs": false,
   "report_style_numbering": false,
   "user_envs_cfg": false
  },
  "toc": {
   "nav_menu": {},
   "number_sections": true,
   "sideBar": true,
   "skip_h1_title": false,
   "title_cell": "Table of Contents",
   "title_sidebar": "Contents",
   "toc_cell": false,
   "toc_position": {},
   "toc_section_display": true,
   "toc_window_display": false
  },
  "varInspector": {
   "cols": {
    "lenName": 16,
    "lenType": 16,
    "lenVar": 40
   },
   "kernels_config": {
    "python": {
     "delete_cmd_postfix": "",
     "delete_cmd_prefix": "del ",
     "library": "var_list.py",
     "varRefreshCmd": "print(var_dic_list())"
    },
    "r": {
     "delete_cmd_postfix": ") ",
     "delete_cmd_prefix": "rm(",
     "library": "var_list.r",
     "varRefreshCmd": "cat(var_dic_list()) "
    }
   },
   "types_to_exclude": [
    "module",
    "function",
    "builtin_function_or_method",
    "instance",
    "_Feature"
   ],
   "window_display": false
  }
 },
 "nbformat": 4,
 "nbformat_minor": 2
}
