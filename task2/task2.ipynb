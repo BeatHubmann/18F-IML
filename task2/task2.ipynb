{
 "cells": [
  {
   "cell_type": "code",
   "execution_count": 13,
   "metadata": {},
   "outputs": [],
   "source": [
    "import numpy as np\n",
    "import pandas as pd\n",
    "import sklearn as sk\n",
    "from sklearn import linear_model\n",
    "from sklearn.neural_network import MLPClassifier\n",
    "from sklearn.model_selection import KFold"
   ]
  },
  {
   "cell_type": "code",
   "execution_count": 14,
   "metadata": {},
   "outputs": [],
   "source": [
    "# Load training data CSV using Pandas\n",
    "filename = 'train.csv'\n",
    "data = pd.read_csv(filename, header=0)\n",
    "# Separate training data into Y and X\n",
    "array = data.values\n",
    "Y = array[:, 1]\n",
    "X = array[:, 2:18]\n"
   ]
  },
  {
   "cell_type": "code",
   "execution_count": 15,
   "metadata": {},
   "outputs": [],
   "source": [
    "def calculateError(y_real, y_predicted):\n",
    "    error = 0\n",
    "    for i in range(1, len(y_real)):\n",
    "        if (y_real[i] != y_predicted[i]):\n",
    "            error += 1\n",
    "            \n",
    "    return error"
   ]
  },
  {
   "cell_type": "code",
   "execution_count": 16,
   "metadata": {},
   "outputs": [],
   "source": [
    "def crossValidation(X, Y, k, model):\n",
    "    kf = KFold(k, shuffle=False)\n",
    "    err = [None] * k\n",
    "    i = 0\n",
    "    for train_index, test_index in kf.split(X):\n",
    "        X_train, X_test = X[train_index], X[test_index]\n",
    "        y_train, y_test = Y[train_index], Y[test_index]\n",
    "        model.fit(X_train, y_train)\n",
    "        y_eval = model.predict(X_test)\n",
    "        err[i] = calculateError(y_test, y_eval)\n",
    "        i += 1\n",
    "    return err\n"
   ]
  },
  {
   "cell_type": "code",
   "execution_count": 20,
   "metadata": {},
   "outputs": [
    {
     "name": "stdout",
     "output_type": "stream",
     "text": [
      "Started\n",
      "Best penalty\n",
      "lbfgs\n",
      "Best Lambda\n",
      "0.0801\n",
      "Best error\n",
      "243\n"
     ]
    }
   ],
   "source": [
    "#penalties= ['None', 'l1', 'l2']\n",
    "solvers = ['lbfgs']\n",
    "#solvers = ['lbfgs', 'sgd', 'adam']\n",
    "\n",
    "activationfunctions = ['identity', 'logistic', 'tanh', 'relu']\n",
    "r = 0.0001 * np.arange(1, 1000, 100)\n",
    "lambdas =  [*r]\n",
    "bestError = float(\"inf\")\n",
    "bestP = 'None'\n",
    "bestL = 0\n",
    "bestModel = 0\n",
    "print(\"Started\")\n",
    "for p in solvers: \n",
    "#for p in penalties: \n",
    "    for l in lambdas: \n",
    "        for a in activationfunctions: \n",
    "        #model = sk.linear_model.Perceptron(penalty=p, alpha=l, fit_intercept=True, max_iter=None, tol=None, shuffle=True, verbose=0, eta0=1.0, n_jobs=1, random_state=0, class_weight=None, warm_start=False, n_iter=None)\n",
    "        #Test other stuff here\n",
    "            model = MLPClassifier(solver=p, alpha=l, activation=a, hidden_layer_sizes=(40, 20), random_state=2)\n",
    "            newError = np.sum(crossValidation(X,Y,10, model))\n",
    "            if (newError < bestError): \n",
    "                bestError = newError\n",
    "                bestL = l\n",
    "                bestP = p\n",
    "                bestModel = model\n",
    "\n",
    "#Best error for Perceptron: 634. L1 penalty and lambda = 4.01*10^-5\n",
    "#Hard baseline: MLPClassifier,  lbfgs solver, lambda 0.0801, error of 243, 40,20 hidden layer\n",
    "print(\"Best penalty\")\n",
    "print(bestP)\n",
    "print(\"Best Lambda\")\n",
    "print(bestL)\n",
    "\n",
    "print(\"Best error\") \n",
    "print(bestError)"
   ]
  },
  {
   "cell_type": "code",
   "execution_count": 21,
   "metadata": {},
   "outputs": [
    {
     "name": "stdout",
     "output_type": "stream",
     "text": [
      "Predicting\n",
      "Done)\n"
     ]
    }
   ],
   "source": [
    "#Testing\n",
    "# Load training data CSV using Pandas\n",
    "filename = 'test.csv'\n",
    "data = pd.read_csv(filename, header=0)\n",
    "# Separate training data into Y and X\n",
    "array = data.values\n",
    "X = array[:, 1:17]\n",
    "print(\"Predicting\")\n",
    "Y_PRED = bestModel.predict(X)\n",
    "print(\"Done)\")\n",
    "\n",
    "# Write prediction to output file\n",
    "filename = 'prediction.csv'\n",
    "result = pd.DataFrame(Y_PRED)\n",
    "result.index = result.index + 2000\n",
    "result.to_csv(filename, index_label='Id', header=['y'])"
   ]
  },
  {
   "cell_type": "code",
   "execution_count": null,
   "metadata": {},
   "outputs": [],
   "source": []
  }
 ],
 "metadata": {
  "kernelspec": {
   "display_name": "Python 3",
   "language": "python",
   "name": "python3"
  },
  "language_info": {
   "codemirror_mode": {
    "name": "ipython",
    "version": 3
   },
   "file_extension": ".py",
   "mimetype": "text/x-python",
   "name": "python",
   "nbconvert_exporter": "python",
   "pygments_lexer": "ipython3",
   "version": "3.6.3"
  }
 },
 "nbformat": 4,
 "nbformat_minor": 2
}
