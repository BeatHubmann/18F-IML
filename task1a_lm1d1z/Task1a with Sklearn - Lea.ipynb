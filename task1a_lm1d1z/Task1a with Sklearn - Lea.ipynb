{
 "cells": [
  {
   "cell_type": "code",
   "execution_count": 1,
   "metadata": {},
   "outputs": [],
   "source": [
    "import pandas as pd\n",
    "import numpy as np\n",
    "from sklearn import datasets, linear_model\n",
    "from sklearn.model_selection import train_test_split\n",
    "from sklearn.model_selection import KFold\n",
    "from sklearn.model_selection import LeaveOneOut \n",
    "\n",
    "from sklearn.model_selection import cross_val_score"
   ]
  },
  {
   "cell_type": "code",
   "execution_count": 2,
   "metadata": {},
   "outputs": [],
   "source": [
    "def computeRmse(Y_Original, Y_Pred): \n",
    "    sum = 0\n",
    "    for i in range(len(Y_Original)): \n",
    "        sum += (Y_Original[i] - Y_Pred[i])**2\n",
    "    sum /= len(Y_Original)\n",
    "    return np.sqrt(sum)"
   ]
  },
  {
   "cell_type": "code",
   "execution_count": null,
   "metadata": {},
   "outputs": [],
   "source": []
  },
  {
   "cell_type": "code",
   "execution_count": 3,
   "metadata": {},
   "outputs": [],
   "source": [
    "#Load data\n",
    "filename = 'train.csv'\n",
    "data = pd.read_csv(filename, header=0)\n",
    "# Separate training data into Y and X\n",
    "array = data.values\n",
    "Y = array[:, 1]\n",
    "X = array[:, 2:12]\n",
    "\n",
    "lambdas = [0.1, 1., 10., 100., 1000]\n",
    "rmses = []"
   ]
  },
  {
   "cell_type": "code",
   "execution_count": 4,
   "metadata": {},
   "outputs": [
    {
     "name": "stdout",
     "output_type": "stream",
     "text": [
      "[1.0059380176979345, 1.0025965291494379, 1.0197191244401718, 2.574653402343059, 21.826218838124856]\n"
     ]
    }
   ],
   "source": [
    "def RidgeRegressionWithCv(lam = 0.1):\n",
    "    kf = KFold(10, shuffle=False)#Evtl würde shuffle=True bessere Werte geben\n",
    "    model = linear_model.Ridge(alpha = lam, fit_intercept=False, random_state=3) \n",
    "    err = 0\n",
    "    i = 0\n",
    "    for train_index, test_index in kf.split(X):\n",
    "        X_train, X_test = X[train_index], X[test_index]\n",
    "        y_train, y_test = Y[train_index], Y[test_index]\n",
    "        model.fit(X_train, y_train) # we think fit resets the initial weigh vector. but not sure...\n",
    "        y_eval = model.predict(X_test)\n",
    "        err += computeRmse(y_test, y_eval)\n",
    "        i += 1\n",
    "    return err/i\n",
    "\n",
    "rmbs = []\n",
    "for l in lambdas: \n",
    "    rmbs.append(RidgeRegressionWithCv(l))\n",
    "    \n",
    "print(rmbs)"
   ]
  },
  {
   "cell_type": "code",
   "execution_count": null,
   "metadata": {},
   "outputs": [],
   "source": []
  },
  {
   "cell_type": "code",
   "execution_count": 5,
   "metadata": {},
   "outputs": [],
   "source": [
    "result = pd.DataFrame(rmbs)\n",
    "filename = 'result.csv'\n",
    "final_result = result\n",
    "#final_result = result2\n",
    "#final_result = result3\n",
    "final_result.to_csv(filename, header=False, index=False)"
   ]
  },
  {
   "cell_type": "code",
   "execution_count": 9,
   "metadata": {},
   "outputs": [],
   "source": []
  },
  {
   "cell_type": "code",
   "execution_count": null,
   "metadata": {},
   "outputs": [],
   "source": []
  }
 ],
 "metadata": {
  "kernelspec": {
   "display_name": "Python 3",
   "language": "python",
   "name": "python3"
  },
  "language_info": {
   "codemirror_mode": {
    "name": "ipython",
    "version": 3
   },
   "file_extension": ".py",
   "mimetype": "text/x-python",
   "name": "python",
   "nbconvert_exporter": "python",
   "pygments_lexer": "ipython3",
   "version": "3.6.4"
  }
 },
 "nbformat": 4,
 "nbformat_minor": 2
}
