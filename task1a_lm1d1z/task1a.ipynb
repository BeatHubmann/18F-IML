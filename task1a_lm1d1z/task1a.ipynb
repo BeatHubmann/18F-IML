{
 "cells": [
  {
   "cell_type": "code",
   "execution_count": 27,
   "metadata": {
    "ExecuteTime": {
     "end_time": "2018-03-08T12:03:45.342231Z",
     "start_time": "2018-03-08T12:03:45.325032Z"
    }
   },
   "outputs": [],
   "source": [
    "import numpy as np\n",
    "import pandas as pd\n",
    "from matplotlib import pyplot as plt\n",
    "\n",
    "import warnings\n",
    "warnings.filterwarnings(\"ignore\", message=\"numpy.dtype size changed\")\n",
    "warnings.filterwarnings(\"ignore\", message=\"numpy.ufunc size changed\")\n",
    "\n",
    "from sklearn.linear_model import Ridge\n",
    "from sklearn.metrics import mean_squared_error\n",
    "from sklearn.model_selection import GridSearchCV\n",
    "from sklearn.cross_validation import KFold\n",
    "from sklearn.model_selection import cross_val_score"
   ]
  },
  {
   "cell_type": "code",
   "execution_count": 28,
   "metadata": {
    "ExecuteTime": {
     "end_time": "2018-03-08T12:03:45.802807Z",
     "start_time": "2018-03-08T12:03:45.786421Z"
    }
   },
   "outputs": [],
   "source": [
    "# Load training data CSV using Pandas\n",
    "filename = 'train.csv'\n",
    "data = pd.read_csv(filename, header=0)\n",
    "# Separate training data into Y and X\n",
    "array = data.values\n",
    "Y = array[:, 1]\n",
    "X = array[:, 2:12]"
   ]
  },
  {
   "cell_type": "code",
   "execution_count": 56,
   "metadata": {
    "ExecuteTime": {
     "end_time": "2018-03-08T12:25:47.038250Z",
     "start_time": "2018-03-08T12:25:47.027160Z"
    }
   },
   "outputs": [],
   "source": [
    "# Set up cross validation, grid search, model\n",
    "lambda_values = np.array([0.1, 1, 10, 100, 1000])\n",
    "param_grid = dict(alpha=lambda_values)\n",
    "\n",
    "k_folds = 10\n",
    "seed = 42\n",
    "scoring = 'mean_squared_error'\n",
    "\n",
    "model = Ridge(random_state=seed)\n",
    "grid = GridSearchCV(estimator=model, param_grid=param_grid, scoring=scoring, n_jobs=-1, cv=k_folds, verbose=1)"
   ]
  },
  {
   "cell_type": "code",
   "execution_count": 63,
   "metadata": {
    "ExecuteTime": {
     "end_time": "2018-03-08T12:31:16.188843Z",
     "start_time": "2018-03-08T12:31:15.809762Z"
    }
   },
   "outputs": [
    {
     "name": "stdout",
     "output_type": "stream",
     "text": [
      "Fitting 10 folds for each of 5 candidates, totalling 50 fits\n"
     ]
    },
    {
     "name": "stderr",
     "output_type": "stream",
     "text": [
      "[Parallel(n_jobs=-1)]: Done  50 out of  50 | elapsed:    0.1s finished\n"
     ]
    },
    {
     "data": {
      "text/plain": [
       "GridSearchCV(cv=10, error_score='raise',\n",
       "       estimator=Ridge(alpha=1.0, copy_X=True, fit_intercept=True, max_iter=None,\n",
       "   normalize=False, random_state=42, solver='auto', tol=0.001),\n",
       "       fit_params=None, iid=True, n_jobs=-1,\n",
       "       param_grid={'alpha': array([1.e-01, 1.e+00, 1.e+01, 1.e+02, 1.e+03])},\n",
       "       pre_dispatch='2*n_jobs', refit=True, return_train_score='warn',\n",
       "       scoring='mean_squared_error', verbose=1)"
      ]
     },
     "execution_count": 63,
     "metadata": {},
     "output_type": "execute_result"
    }
   ],
   "source": [
    "# Run grid search on lambdas with cross validation using Ridge() model\n",
    "grid.fit(X, Y)"
   ]
  },
  {
   "cell_type": "code",
   "execution_count": 64,
   "metadata": {
    "ExecuteTime": {
     "end_time": "2018-03-08T12:31:17.598778Z",
     "start_time": "2018-03-08T12:31:17.585784Z"
    }
   },
   "outputs": [
    {
     "name": "stdout",
     "output_type": "stream",
     "text": [
      "{'mean_fit_time': array([0.00504372, 0.0008379 , 0.00079551, 0.00084801, 0.00089622]), 'std_fit_time': array([0.00492393, 0.00021194, 0.00018694, 0.00024715, 0.00033285]), 'mean_score_time': array([0.00127699, 0.00030353, 0.00027289, 0.00037868, 0.00030785]), 'std_score_time': array([1.28915921e-03, 7.00241049e-05, 6.39314163e-05, 2.90457480e-04,\n",
      "       9.63838062e-05]), 'param_alpha': masked_array(data=[0.1, 1.0, 10.0, 100.0, 1000.0],\n",
      "             mask=[False, False, False, False, False],\n",
      "       fill_value='?',\n",
      "            dtype=object), 'params': [{'alpha': 0.1}, {'alpha': 1.0}, {'alpha': 10.0}, {'alpha': 100.0}, {'alpha': 1000.0}], 'split0_test_score': array([  -1.27662997,   -1.28414129,   -1.3726401 ,   -3.59409609,\n",
      "       -158.59478507]), 'split1_test_score': array([  -0.73739915,   -0.7373416 ,   -0.76785466,   -4.14642822,\n",
      "       -332.12405849]), 'split2_test_score': array([  -1.22973036,   -1.22830675,   -1.22522371,   -2.26435936,\n",
      "       -109.95269056]), 'split3_test_score': array([  -1.04682436,   -1.04977242,   -1.0908809 ,   -2.62554172,\n",
      "       -120.52523622]), 'split4_test_score': array([-8.03381504e-01, -7.74825352e-01, -1.00632666e+00, -5.42591153e+01,\n",
      "       -5.27588041e+03]), 'split5_test_score': array([  -1.01942959,   -1.02063215,   -1.05224138,   -3.28843775,\n",
      "       -207.92077784]), 'split6_test_score': array([-0.84701157, -0.84804132, -0.85916391, -1.0260861 , -4.75739977]), 'split7_test_score': array([-1.04529668e+00, -1.00336662e+00, -9.31441894e-01, -3.48172823e+01,\n",
      "       -3.74036471e+03]), 'split8_test_score': array([  -0.90945802,   -0.90545064,   -0.8769653 ,   -1.6970187 ,\n",
      "       -108.28351551]), 'split9_test_score': array([ -1.29126661,  -1.29188844,  -1.30151338,  -1.71576229,\n",
      "       -34.36876984]), 'mean_test_score': array([   -1.02064278,    -1.01437666,    -1.04842519,   -10.94341278,\n",
      "       -1009.27723567]), 'std_test_score': array([1.88074012e-01, 1.92517690e-01, 1.90168144e-01, 1.73739272e+01,\n",
      "       1.78485495e+03]), 'rank_test_score': array([2, 1, 3, 4, 5], dtype=int32), 'split0_train_score': array([  -0.93812275,   -0.93828253,   -0.95422935,   -2.52576969,\n",
      "       -153.8859703 ]), 'split1_train_score': array([  -0.9965434 ,   -0.99671587,   -1.0139247 ,   -2.70646942,\n",
      "       -164.8272043 ]), 'split2_train_score': array([  -0.94392367,   -0.94408187,   -0.95986026,   -2.50773334,\n",
      "       -150.69002104]), 'split3_train_score': array([  -0.96277997,   -0.96293761,   -0.97866148,   -2.52205472,\n",
      "       -150.16160219]), 'split4_train_score': array([  -0.99525685,   -0.99549894,   -1.01964814,   -3.39013846,\n",
      "       -226.71329527]), 'split5_train_score': array([  -0.9644633 ,   -0.96462945,   -0.98120424,   -2.60974676,\n",
      "       -158.737659  ]), 'split6_train_score': array([  -0.98378247,   -0.98392923,   -0.99856703,   -2.43498797,\n",
      "       -140.16265855]), 'split7_train_score': array([  -0.97452571,   -0.97480449,   -1.00264515,   -3.75829844,\n",
      "       -270.17087844]), 'split8_train_score': array([  -0.97805828,   -0.97821679,   -0.99402375,   -2.5434261 ,\n",
      "       -150.64101836]), 'split9_train_score': array([  -0.93579071,   -0.93594038,   -0.95087058,   -2.41737575,\n",
      "       -143.15386715]), 'mean_train_score': array([  -0.96732471,   -0.96750372,   -0.98536347,   -2.74160007,\n",
      "       -170.91441746]), 'std_train_score': array([2.12024921e-02, 2.12197237e-02, 2.32613321e-02, 4.31367472e-01,\n",
      "       4.05064076e+01])}\n"
     ]
    }
   ],
   "source": [
    "# Print results for inspection\n",
    "print(grid.cv_results_)"
   ]
  },
  {
   "cell_type": "code",
   "execution_count": 65,
   "metadata": {
    "ExecuteTime": {
     "end_time": "2018-03-08T12:32:02.595900Z",
     "start_time": "2018-03-08T12:32:02.587229Z"
    }
   },
   "outputs": [],
   "source": [
    "# Extract mean scores for result with only (convoluted) way to get RMSE out of sklearn\n",
    "scores = np.sqrt(-grid.cv_results_['mean_test_score'])\n",
    "result = pd.DataFrame(scores)"
   ]
  },
  {
   "cell_type": "code",
   "execution_count": 66,
   "metadata": {
    "ExecuteTime": {
     "end_time": "2018-03-08T12:32:03.106204Z",
     "start_time": "2018-03-08T12:32:03.095085Z"
    }
   },
   "outputs": [],
   "source": [
    "# Write result to output file\n",
    "filename = 'result.csv'\n",
    "result.to_csv(filename, header=False, index=False)"
   ]
  },
  {
   "cell_type": "code",
   "execution_count": null,
   "metadata": {},
   "outputs": [],
   "source": []
  }
 ],
 "metadata": {
  "kernelspec": {
   "display_name": "Python 3",
   "language": "python",
   "name": "python3"
  },
  "language_info": {
   "codemirror_mode": {
    "name": "ipython",
    "version": 3
   },
   "file_extension": ".py",
   "mimetype": "text/x-python",
   "name": "python",
   "nbconvert_exporter": "python",
   "pygments_lexer": "ipython3",
   "version": "3.6.4"
  },
  "latex_envs": {
   "LaTeX_envs_menu_present": true,
   "autoclose": false,
   "autocomplete": true,
   "bibliofile": "biblio.bib",
   "cite_by": "apalike",
   "current_citInitial": 1,
   "eqLabelWithNumbers": true,
   "eqNumInitial": 1,
   "hotkeys": {
    "equation": "Ctrl-E",
    "itemize": "Ctrl-I"
   },
   "labels_anchors": false,
   "latex_user_defs": false,
   "report_style_numbering": false,
   "user_envs_cfg": false
  },
  "toc": {
   "nav_menu": {},
   "number_sections": true,
   "sideBar": true,
   "skip_h1_title": false,
   "title_cell": "Table of Contents",
   "title_sidebar": "Contents",
   "toc_cell": false,
   "toc_position": {},
   "toc_section_display": true,
   "toc_window_display": false
  },
  "varInspector": {
   "cols": {
    "lenName": 16,
    "lenType": 16,
    "lenVar": 40
   },
   "kernels_config": {
    "python": {
     "delete_cmd_postfix": "",
     "delete_cmd_prefix": "del ",
     "library": "var_list.py",
     "varRefreshCmd": "print(var_dic_list())"
    },
    "r": {
     "delete_cmd_postfix": ") ",
     "delete_cmd_prefix": "rm(",
     "library": "var_list.r",
     "varRefreshCmd": "cat(var_dic_list()) "
    }
   },
   "types_to_exclude": [
    "module",
    "function",
    "builtin_function_or_method",
    "instance",
    "_Feature"
   ],
   "window_display": false
  }
 },
 "nbformat": 4,
 "nbformat_minor": 2
}
