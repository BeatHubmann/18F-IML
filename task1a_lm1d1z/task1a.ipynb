{
 "cells": [
  {
   "cell_type": "code",
   "execution_count": 13,
   "metadata": {
    "ExecuteTime": {
     "end_time": "2018-03-20T09:15:00.233178Z",
     "start_time": "2018-03-20T09:15:00.220350Z"
    }
   },
   "outputs": [],
   "source": [
    "import numpy as np\n",
    "import pandas as pd\n",
    "\n",
    "import warnings\n",
    "warnings.filterwarnings(\"ignore\", message=\"numpy.dtype size changed\")\n",
    "warnings.filterwarnings(\"ignore\", message=\"numpy.ufunc size changed\")\n",
    "\n",
    "from sklearn.linear_model import Ridge\n",
    "from sklearn.linear_model import RidgeCV\n",
    "from sklearn.metrics import mean_squared_error\n",
    "from sklearn.model_selection import GridSearchCV\n",
    "from sklearn.model_selection import cross_val_score\n",
    "from sklearn.model_selection import KFold"
   ]
  },
  {
   "cell_type": "code",
   "execution_count": 2,
   "metadata": {
    "ExecuteTime": {
     "end_time": "2018-03-20T09:10:35.575884Z",
     "start_time": "2018-03-20T09:10:35.544536Z"
    }
   },
   "outputs": [],
   "source": [
    "# Load training data CSV using Pandas\n",
    "filename = 'train.csv'\n",
    "data = pd.read_csv(filename, header=0)\n",
    "# Separate training data into Y and X\n",
    "array = data.values\n",
    "Y = array[:, 1]\n",
    "X = array[:, 2:12]"
   ]
  },
  {
   "cell_type": "code",
   "execution_count": 7,
   "metadata": {
    "ExecuteTime": {
     "end_time": "2018-03-20T09:14:17.560774Z",
     "start_time": "2018-03-20T09:14:17.542497Z"
    }
   },
   "outputs": [],
   "source": [
    "# Set up cross validation, grid search, model\n",
    "lambda_values = np.array([0.1, 1, 10, 100, 1000])\n",
    "# solvers = ['svd', 'cholesky', 'sparse_cg', 'lsqr', 'sag', 'saga']\n",
    "# param_grid = dict(alpha=lambda_values, solver=solvers)\n",
    "param_grid = dict(alpha=lambda_values)\n",
    "\n",
    "k_folds = 10\n",
    "seed = 3\n",
    "scoring = 'neg_mean_squared_error'\n",
    "\n",
    "model = Ridge(fit_intercept=False, max_iter=1e6, tol=1e-5, random_state=seed)\n",
    "grid = GridSearchCV(estimator=model, param_grid=param_grid, scoring=scoring,\n",
    "                    n_jobs=-1, cv=k_folds, verbose=1, return_train_score=True)"
   ]
  },
  {
   "cell_type": "code",
   "execution_count": 8,
   "metadata": {
    "ExecuteTime": {
     "end_time": "2018-03-20T09:14:18.334990Z",
     "start_time": "2018-03-20T09:14:18.107958Z"
    }
   },
   "outputs": [
    {
     "name": "stdout",
     "output_type": "stream",
     "text": [
      "Fitting 10 folds for each of 5 candidates, totalling 50 fits\n"
     ]
    },
    {
     "name": "stderr",
     "output_type": "stream",
     "text": [
      "[Parallel(n_jobs=-1)]: Done  50 out of  50 | elapsed:    0.1s finished\n"
     ]
    },
    {
     "data": {
      "text/plain": [
       "GridSearchCV(cv=10, error_score='raise',\n",
       "       estimator=Ridge(alpha=1.0, copy_X=True, fit_intercept=False, max_iter=1000000.0,\n",
       "   normalize=False, random_state=3, solver='auto', tol=1e-05),\n",
       "       fit_params=None, iid=True, n_jobs=-1,\n",
       "       param_grid={'alpha': array([1.e-01, 1.e+00, 1.e+01, 1.e+02, 1.e+03])},\n",
       "       pre_dispatch='2*n_jobs', refit=True, return_train_score=True,\n",
       "       scoring='neg_mean_squared_error', verbose=1)"
      ]
     },
     "execution_count": 8,
     "metadata": {},
     "output_type": "execute_result"
    }
   ],
   "source": [
    "# Run grid search on lambdas with cross validation using Ridge() model\n",
    "grid.fit(X, Y)"
   ]
  },
  {
   "cell_type": "code",
   "execution_count": 20,
   "metadata": {
    "ExecuteTime": {
     "end_time": "2018-03-20T09:29:54.718151Z",
     "start_time": "2018-03-20T09:29:54.707267Z"
    }
   },
   "outputs": [
    {
     "name": "stdout",
     "output_type": "stream",
     "text": [
      "{'mean_fit_time': array([0.00184181, 0.00053635, 0.00057786, 0.0004853 , 0.00053957]), 'std_fit_time': array([1.50911368e-03, 1.14717953e-04, 8.04585559e-05, 1.26004580e-04,\n",
      "       9.89849769e-05]), 'mean_score_time': array([0.00051959, 0.00017483, 0.00021541, 0.00017097, 0.0001909 ]), 'std_score_time': array([3.44478200e-04, 3.33479417e-05, 2.86714079e-05, 4.79284740e-05,\n",
      "       4.17559428e-05]), 'param_alpha': masked_array(data=[0.1, 1.0, 10.0, 100.0, 1000.0],\n",
      "             mask=[False, False, False, False, False],\n",
      "       fill_value='?',\n",
      "            dtype=object), 'params': [{'alpha': 0.1}, {'alpha': 1.0}, {'alpha': 10.0}, {'alpha': 100.0}, {'alpha': 1000.0}], 'split0_test_score': array([  -1.27662752,   -1.28411655,   -1.37237021,   -3.59029884,\n",
      "       -158.79950313]), 'split1_test_score': array([  -0.73739919,   -0.73734193,   -0.76785213,   -4.1467651 ,\n",
      "       -332.42703463]), 'split2_test_score': array([  -1.22972532,   -1.22825692,   -1.22478756,   -2.26397263,\n",
      "       -109.80810583]), 'split3_test_score': array([  -1.04682462,   -1.04977504,   -1.09089892,   -2.61861746,\n",
      "       -118.08754754]), 'split4_test_score': array([-8.03381631e-01, -7.74827024e-01, -1.00635645e+00, -5.42410052e+01,\n",
      "       -5.26945397e+03]), 'split5_test_score': array([  -1.01942962,   -1.02063263,   -1.05225558,   -3.28273761,\n",
      "       -204.8432183 ]), 'split6_test_score': array([-0.84701153, -0.8480406 , -0.85912907, -1.02268843, -4.61017264]), 'split7_test_score': array([-1.04529536e+00, -1.00335570e+00, -9.31442559e-01, -3.47333197e+01,\n",
      "       -3.70446251e+03]), 'split8_test_score': array([  -0.90945814,   -0.90545189,   -0.87698085,   -1.69309594,\n",
      "       -106.43902381]), 'split9_test_score': array([ -1.2912663 ,  -1.29188543,  -1.30149189,  -1.71570551,\n",
      "       -34.22937583]), 'mean_test_score': array([   -1.02064192,    -1.01436837,    -1.04835652,   -10.93082064,\n",
      "       -1004.31604641]), 'std_test_score': array([1.88073036e-01, 1.92508102e-01, 1.90080929e-01, 1.73590405e+01,\n",
      "       1.77819827e+03]), 'rank_test_score': array([2, 1, 3, 4, 5], dtype=int32), 'split0_train_score': array([  -0.93812275,   -0.93828255,   -0.95423071,   -2.52585907,\n",
      "       -153.87881294]), 'split1_train_score': array([  -0.9965434 ,   -0.99671589,   -1.01392604,   -2.70639306,\n",
      "       -164.7750447 ]), 'split2_train_score': array([  -0.94392367,   -0.94408195,   -0.95986719,   -2.50780742,\n",
      "       -150.5871729 ]), 'split3_train_score': array([  -0.96277997,   -0.96293763,   -0.97866268,   -2.52110145,\n",
      "       -149.87337326]), 'split4_train_score': array([  -0.99525685,   -0.99549896,   -1.01964901,   -3.38959419,\n",
      "       -226.58511207]), 'split5_train_score': array([  -0.9644633 ,   -0.96462948,   -0.98120649,   -2.60882848,\n",
      "       -158.38348875]), 'split6_train_score': array([  -0.98378247,   -0.98392923,   -0.99856625,   -2.43454354,\n",
      "       -140.08094364]), 'split7_train_score': array([  -0.97452571,   -0.97480452,   -1.00264498,   -3.75625173,\n",
      "       -269.60761727]), 'split8_train_score': array([  -0.97805828,   -0.97821682,   -0.99402565,   -2.54270179,\n",
      "       -150.37975198]), 'split9_train_score': array([  -0.93579071,   -0.93594041,   -0.950873  ,   -2.41719777,\n",
      "       -143.05846843]), 'mean_train_score': array([  -0.96732471,   -0.96750374,   -0.9853652 ,   -2.74102785,\n",
      "       -170.7209786 ]), 'std_train_score': array([2.12024920e-02, 2.12197146e-02, 2.32602640e-02, 4.30950442e-01,\n",
      "       4.04083896e+01])}\n"
     ]
    }
   ],
   "source": [
    "# Print all results for inspection\n",
    "print(grid.cv_results_)"
   ]
  },
  {
   "cell_type": "code",
   "execution_count": 10,
   "metadata": {
    "ExecuteTime": {
     "end_time": "2018-03-20T09:14:20.439304Z",
     "start_time": "2018-03-20T09:14:20.432829Z"
    }
   },
   "outputs": [],
   "source": [
    "# Extract mean scores for result w/ (convoluted) way to get RMSE out of sklearn\n",
    "scores = np.sqrt(-grid.cv_results_['mean_test_score'])\n",
    "result = pd.DataFrame(scores)"
   ]
  },
  {
   "cell_type": "code",
   "execution_count": 11,
   "metadata": {
    "ExecuteTime": {
     "end_time": "2018-03-20T09:14:24.214620Z",
     "start_time": "2018-03-20T09:14:23.318131Z"
    }
   },
   "outputs": [
    {
     "name": "stdout",
     "output_type": "stream",
     "text": [
      "[ 0.00000000e+00  0.00000000e+00  0.00000000e+00  4.44089210e-16\n",
      " -3.55271368e-15]\n"
     ]
    }
   ],
   "source": [
    "# Alternatively, i.s.o. GridSearchCV, use cross_val_score to obtain same result\n",
    "scores2 = []\n",
    "for l in lambda_values:\n",
    "    model = Ridge(alpha=l, fit_intercept=False, random_state=seed)\n",
    "    scores2.append(np.sqrt(-np.mean(cross_val_score(model, X, Y, scoring=scoring,\n",
    "                                                    cv=k_folds, n_jobs=-1))))\n",
    "\n",
    "print(scores-scores2)\n",
    "result2 = pd.DataFrame(scores2)"
   ]
  },
  {
   "cell_type": "code",
   "execution_count": 53,
   "metadata": {
    "ExecuteTime": {
     "end_time": "2018-03-20T10:01:28.118681Z",
     "start_time": "2018-03-20T10:01:28.029255Z"
    }
   },
   "outputs": [
    {
     "name": "stdout",
     "output_type": "stream",
     "text": [
      "[4.33022515e-03 4.56203497e-03 4.17370282e-03 7.31525759e-01\n",
      " 9.86472697e+00]\n"
     ]
    }
   ],
   "source": [
    "# Alternatively, use KFold\n",
    "def KFold_on_Ridge(n_splits=10, random_state=42, shuffle=False):\n",
    "    kf = KFold(n_splits=n_splits, random_state=random_state, shuffle=shuffle)\n",
    "    scores = []\n",
    "    for l in lambda_values:\n",
    "        model = Ridge(alpha=l, fit_intercept=False, random_state=seed)\n",
    "        error = []\n",
    "        for train_index, test_index in kf.split(X):\n",
    "            X_train, X_test = X[train_index], X[test_index]\n",
    "            y_train, y_test = Y[train_index], Y[test_index]\n",
    "            model.fit(X_train, y_train)\n",
    "            y_pred = model.predict(X_test)\n",
    "            error.append(np.sqrt(mean_squared_error(y_test, y_pred)))\n",
    "        # print('Lambda: {}'.format(l), '10-fold mean RMSE: {:4f}'.format(np.mean(error)))\n",
    "        scores.append(np.mean(error))\n",
    "    return scores\n",
    "scores3 = KFold_on_Ridge()\n",
    "print(scores-scores3)\n",
    "result3 = pd.DataFrame(scores3)"
   ]
  },
  {
   "cell_type": "code",
   "execution_count": 42,
   "metadata": {
    "ExecuteTime": {
     "end_time": "2018-03-20T09:54:55.407755Z",
     "start_time": "2018-03-20T09:54:43.711502Z"
    }
   },
   "outputs": [
    {
     "name": "stdout",
     "output_type": "stream",
     "text": [
      "[ 3.53170676e-03  3.47998630e-03 -4.16095358e-03  7.00041228e-01\n",
      "  9.76853330e+00]\n"
     ]
    }
   ],
   "source": [
    "# And now run KFold several times w/ shuffle and take average\n",
    "n_repeats = 500\n",
    "multi_scores = np.ndarray(shape=(n_repeats, len(lambda_values)))\n",
    "for i in range(n_repeats):\n",
    "    multi_scores[i] = KFold_on_Ridge(random_state=i, shuffle=True)\n",
    "scores5 = np.mean(multi_scores, axis=0)\n",
    "print(scores-scores5)\n",
    "result5 = pd.DataFrame(scores5)"
   ]
  },
  {
   "cell_type": "code",
   "execution_count": 14,
   "metadata": {
    "ExecuteTime": {
     "end_time": "2018-03-20T09:15:53.133911Z",
     "start_time": "2018-03-20T09:15:53.116435Z"
    }
   },
   "outputs": [
    {
     "name": "stdout",
     "output_type": "stream",
     "text": [
      "[2.39944956e-03 1.80933803e-03 2.59459648e-03 2.12597324e-01\n",
      " 2.27163114e+00]\n"
     ]
    }
   ],
   "source": [
    "# Different route: I.s.o. all above, simply use CV-specialized model RidgeCV\n",
    "model2 = RidgeCV(alphas=(0.1, 1, 10, 100, 1000), fit_intercept=False,\n",
    "                 normalize=False, scoring=scoring, cv=None, store_cv_values=True)\n",
    "model2.fit(X, Y)\n",
    "scores4 = []\n",
    "for j in range(5):\n",
    "    scores4.append(np.sqrt(mean_squared_error(Y, model2.cv_values_[:,j])))\n",
    "print(scores-scores4)\n",
    "result4 = pd.DataFrame(scores4)"
   ]
  },
  {
   "cell_type": "code",
   "execution_count": 54,
   "metadata": {
    "ExecuteTime": {
     "end_time": "2018-03-20T10:01:29.780640Z",
     "start_time": "2018-03-20T10:01:29.770109Z"
    }
   },
   "outputs": [],
   "source": [
    "# Final step for all options: Write chosen final result to output file\n",
    "filename = 'result.csv'\n",
    "final_result = result3\n",
    "#final_result = result2\n",
    "#final_result = result3\n",
    "final_result.to_csv(filename, header=False, index=False)"
   ]
  },
  {
   "cell_type": "code",
   "execution_count": null,
   "metadata": {},
   "outputs": [],
   "source": []
  }
 ],
 "metadata": {
  "kernelspec": {
   "display_name": "Python 3",
   "language": "python",
   "name": "python3"
  },
  "language_info": {
   "codemirror_mode": {
    "name": "ipython",
    "version": 3
   },
   "file_extension": ".py",
   "mimetype": "text/x-python",
   "name": "python",
   "nbconvert_exporter": "python",
   "pygments_lexer": "ipython3",
   "version": "3.6.4"
  },
  "latex_envs": {
   "LaTeX_envs_menu_present": true,
   "autoclose": false,
   "autocomplete": true,
   "bibliofile": "biblio.bib",
   "cite_by": "apalike",
   "current_citInitial": 1,
   "eqLabelWithNumbers": true,
   "eqNumInitial": 1,
   "hotkeys": {
    "equation": "Ctrl-E",
    "itemize": "Ctrl-I"
   },
   "labels_anchors": false,
   "latex_user_defs": false,
   "report_style_numbering": false,
   "user_envs_cfg": false
  },
  "toc": {
   "nav_menu": {},
   "number_sections": true,
   "sideBar": true,
   "skip_h1_title": false,
   "title_cell": "Table of Contents",
   "title_sidebar": "Contents",
   "toc_cell": false,
   "toc_position": {},
   "toc_section_display": true,
   "toc_window_display": false
  },
  "varInspector": {
   "cols": {
    "lenName": 16,
    "lenType": 16,
    "lenVar": 40
   },
   "kernels_config": {
    "python": {
     "delete_cmd_postfix": "",
     "delete_cmd_prefix": "del ",
     "library": "var_list.py",
     "varRefreshCmd": "print(var_dic_list())"
    },
    "r": {
     "delete_cmd_postfix": ") ",
     "delete_cmd_prefix": "rm(",
     "library": "var_list.r",
     "varRefreshCmd": "cat(var_dic_list()) "
    }
   },
   "types_to_exclude": [
    "module",
    "function",
    "builtin_function_or_method",
    "instance",
    "_Feature"
   ],
   "window_display": false
  }
 },
 "nbformat": 4,
 "nbformat_minor": 2
}
