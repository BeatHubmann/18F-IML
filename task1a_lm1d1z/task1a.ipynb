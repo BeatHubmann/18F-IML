{
 "cells": [
  {
   "cell_type": "code",
   "execution_count": 1,
   "metadata": {
    "ExecuteTime": {
     "end_time": "2018-03-08T15:05:02.358248Z",
     "start_time": "2018-03-08T15:05:00.461792Z"
    }
   },
   "outputs": [],
   "source": [
    "import numpy as np\n",
    "import pandas as pd\n",
    "\n",
    "import warnings\n",
    "warnings.filterwarnings(\"ignore\", message=\"numpy.dtype size changed\")\n",
    "warnings.filterwarnings(\"ignore\", message=\"numpy.ufunc size changed\")\n",
    "\n",
    "from sklearn.linear_model import Ridge\n",
    "from sklearn.linear_model import RidgeCV\n",
    "from sklearn.metrics import mean_squared_error\n",
    "from sklearn.model_selection import GridSearchCV"
   ]
  },
  {
   "cell_type": "code",
   "execution_count": 2,
   "metadata": {
    "ExecuteTime": {
     "end_time": "2018-03-08T15:05:02.410566Z",
     "start_time": "2018-03-08T15:05:02.361493Z"
    }
   },
   "outputs": [],
   "source": [
    "# Load training data CSV using Pandas\n",
    "filename = 'train.csv'\n",
    "data = pd.read_csv(filename, header=0)\n",
    "# Separate training data into Y and X\n",
    "array = data.values\n",
    "Y = array[:, 1]\n",
    "X = array[:, 2:12]"
   ]
  },
  {
   "cell_type": "code",
   "execution_count": 3,
   "metadata": {
    "ExecuteTime": {
     "end_time": "2018-03-08T15:05:02.487412Z",
     "start_time": "2018-03-08T15:05:02.418608Z"
    }
   },
   "outputs": [],
   "source": [
    "# Set up cross validation, grid search, model\n",
    "lambda_values = np.array([0.1, 1, 10, 100, 1000])\n",
    "# solvers = ['svd', 'cholesky', 'sparse_cg', 'lsqr', 'sag', 'saga']\n",
    "# param_grid = dict(alpha=lambda_values, solver=solvers)\n",
    "param_grid = dict(alpha=lambda_values)\n",
    "\n",
    "k_folds = 10\n",
    "seed = 42\n",
    "scoring = 'neg_mean_squared_error'\n",
    "\n",
    "model = Ridge(fit_intercept=False, max_iter=1e6, tol=1e-5, random_state=seed)\n",
    "grid = GridSearchCV(estimator=model, param_grid=param_grid, scoring=scoring,\n",
    "                    n_jobs=-1, cv=k_folds, verbose=1, return_train_score=True)"
   ]
  },
  {
   "cell_type": "code",
   "execution_count": 4,
   "metadata": {
    "ExecuteTime": {
     "end_time": "2018-03-08T15:05:03.115263Z",
     "start_time": "2018-03-08T15:05:02.495121Z"
    }
   },
   "outputs": [
    {
     "name": "stdout",
     "output_type": "stream",
     "text": [
      "Fitting 10 folds for each of 5 candidates, totalling 50 fits\n"
     ]
    },
    {
     "name": "stderr",
     "output_type": "stream",
     "text": [
      "[Parallel(n_jobs=-1)]: Done  50 out of  50 | elapsed:    0.2s finished\n"
     ]
    },
    {
     "data": {
      "text/plain": [
       "GridSearchCV(cv=10, error_score='raise',\n",
       "       estimator=Ridge(alpha=1.0, copy_X=True, fit_intercept=False, max_iter=1000000.0,\n",
       "   normalize=False, random_state=42, solver='auto', tol=1e-05),\n",
       "       fit_params=None, iid=True, n_jobs=-1,\n",
       "       param_grid={'alpha': array([1.e-01, 1.e+00, 1.e+01, 1.e+02, 1.e+03])},\n",
       "       pre_dispatch='2*n_jobs', refit=True, return_train_score=True,\n",
       "       scoring='neg_mean_squared_error', verbose=1)"
      ]
     },
     "execution_count": 4,
     "metadata": {},
     "output_type": "execute_result"
    }
   ],
   "source": [
    "# Run grid search on lambdas with cross validation using Ridge() model\n",
    "grid.fit(X, Y)"
   ]
  },
  {
   "cell_type": "code",
   "execution_count": 5,
   "metadata": {
    "ExecuteTime": {
     "end_time": "2018-03-08T15:05:03.123305Z",
     "start_time": "2018-03-08T15:05:03.118825Z"
    }
   },
   "outputs": [],
   "source": [
    "# Print all results for inspection\n",
    "# print(grid.cv_results_)"
   ]
  },
  {
   "cell_type": "code",
   "execution_count": 6,
   "metadata": {
    "ExecuteTime": {
     "end_time": "2018-03-08T15:05:03.152264Z",
     "start_time": "2018-03-08T15:05:03.126210Z"
    }
   },
   "outputs": [],
   "source": [
    "# Extract mean scores for result with only (convoluted) way to get RMSE out of sklearn\n",
    "scores = np.sqrt(-grid.cv_results_['mean_test_score'])\n",
    "result = pd.DataFrame(scores)"
   ]
  },
  {
   "cell_type": "code",
   "execution_count": 7,
   "metadata": {
    "ExecuteTime": {
     "end_time": "2018-03-08T15:05:03.198778Z",
     "start_time": "2018-03-08T15:05:03.157391Z"
    }
   },
   "outputs": [],
   "source": [
    "# Alternatively, instead of all of above, simply use CV-specialized model RidgeCV\n",
    "scoring = 'neg_mean_squared_error'\n",
    "model2 = RidgeCV(alphas=(0.1, 1, 10, 100, 1000), fit_intercept=False, normalize=False,\n",
    "                 scoring=scoring, cv=None, store_cv_values=True)\n",
    "model2.fit(X, Y)\n",
    "scores2 = []\n",
    "for j in range(5):\n",
    "    scores2.append(np.sqrt(mean_squared_error(Y, model2.cv_values_[:,j])))\n",
    "result2 = pd.DataFrame(scores2)"
   ]
  },
  {
   "cell_type": "code",
   "execution_count": 8,
   "metadata": {
    "ExecuteTime": {
     "end_time": "2018-03-08T15:05:03.211467Z",
     "start_time": "2018-03-08T15:05:03.203165Z"
    }
   },
   "outputs": [],
   "source": [
    "# Final step for all options: Write result to output file\n",
    "filename = 'result.csv'\n",
    "result.to_csv(filename, header=False, index=False)"
   ]
  }
 ],
 "metadata": {
  "kernelspec": {
   "display_name": "Python 3",
   "language": "python",
   "name": "python3"
  },
  "language_info": {
   "codemirror_mode": {
    "name": "ipython",
    "version": 3
   },
   "file_extension": ".py",
   "mimetype": "text/x-python",
   "name": "python",
   "nbconvert_exporter": "python",
   "pygments_lexer": "ipython3",
   "version": "3.6.4"
  },
  "latex_envs": {
   "LaTeX_envs_menu_present": true,
   "autoclose": false,
   "autocomplete": true,
   "bibliofile": "biblio.bib",
   "cite_by": "apalike",
   "current_citInitial": 1,
   "eqLabelWithNumbers": true,
   "eqNumInitial": 1,
   "hotkeys": {
    "equation": "Ctrl-E",
    "itemize": "Ctrl-I"
   },
   "labels_anchors": false,
   "latex_user_defs": false,
   "report_style_numbering": false,
   "user_envs_cfg": false
  },
  "toc": {
   "nav_menu": {},
   "number_sections": true,
   "sideBar": true,
   "skip_h1_title": false,
   "title_cell": "Table of Contents",
   "title_sidebar": "Contents",
   "toc_cell": false,
   "toc_position": {},
   "toc_section_display": true,
   "toc_window_display": false
  },
  "varInspector": {
   "cols": {
    "lenName": 16,
    "lenType": 16,
    "lenVar": 40
   },
   "kernels_config": {
    "python": {
     "delete_cmd_postfix": "",
     "delete_cmd_prefix": "del ",
     "library": "var_list.py",
     "varRefreshCmd": "print(var_dic_list())"
    },
    "r": {
     "delete_cmd_postfix": ") ",
     "delete_cmd_prefix": "rm(",
     "library": "var_list.r",
     "varRefreshCmd": "cat(var_dic_list()) "
    }
   },
   "types_to_exclude": [
    "module",
    "function",
    "builtin_function_or_method",
    "instance",
    "_Feature"
   ],
   "window_display": false
  }
 },
 "nbformat": 4,
 "nbformat_minor": 2
}
