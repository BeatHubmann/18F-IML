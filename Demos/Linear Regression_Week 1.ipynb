{
 "cells": [
  {
   "cell_type": "markdown",
   "metadata": {},
   "source": [
    "# Demo 1: Linear Regression\n",
    "\n",
    "In this demo we will show:\n",
    "* Linear regression using the closed form solution and gradient descent. \n",
    "* Adaptive Learning rates.\n",
    "* Gradient descent to minimize other (non-convex) functions. \n",
    "* Linear regression on polynomials.\n",
    "* A real life example on Diabetes"
   ]
  },
  {
   "cell_type": "code",
   "execution_count": 1,
   "metadata": {
    "ExecuteTime": {
     "end_time": "2018-02-23T16:15:44.000397Z",
     "start_time": "2018-02-23T16:15:41.598928Z"
    }
   },
   "outputs": [
    {
     "name": "stdout",
     "output_type": "stream",
     "text": [
      "The autoreload extension is already loaded. To reload it, use:\n",
      "  %reload_ext autoreload\n"
     ]
    }
   ],
   "source": [
    "# Code source: Sebastian Curi and Andreas Krause, based on Jaques Grobler (sklearn demos).\n",
    "# License: BSD 3 clause\n",
    "\n",
    "# We start importing some modules and running some magic commands\n",
    "% matplotlib inline\n",
    "% reload_ext autoreload\n",
    "% load_ext autoreload\n",
    "% autoreload 2\n",
    "\n",
    "# General math and plotting modules.\n",
    "import numpy as np\n",
    "import matplotlib.pyplot as plt\n",
    "\n",
    "# Project files.\n",
    "from util import gradient_descent, generate_polynomial_data\n",
    "import plot_helpers\n",
    "from regressors import LinearRegressor\n",
    "from regularizers import Regularizer, L2Regularizer\n",
    "\n",
    "# Widget and formatting modules\n",
    "import ipywidgets\n",
    "from ipywidgets import interact, interactive, interact_manual\n",
    "import pylab\n",
    "# If in your browser the figures are not nicely vizualized, change the following line. \n",
    "pylab.rcParams['figure.figsize'] = (10, 5)\n",
    "\n",
    "# Machine Learning library. \n",
    "\n",
    "import sklearn\n",
    "from sklearn import datasets, linear_model\n",
    "from sklearn.datasets import make_regression\n",
    "# from sklearn.linear_model import Ridge\n",
    "from sklearn.preprocessing import scale, PolynomialFeatures\n",
    "from sklearn.pipeline import make_pipeline\n",
    "from sklearn.metrics import mean_squared_error, r2_score\n",
    "\n",
    "import warnings\n",
    "warnings.filterwarnings('ignore')\n",
    "# from sklearn import datasets, linear_model\n"
   ]
  },
  {
   "cell_type": "markdown",
   "metadata": {},
   "source": [
    "## Linear regression \n",
    "\n",
    "We will start by fitting by linear regression a set of data points of the type $D = \\left\\{(x, y)_i\\right\\}$, $i = 1, 2, \\ldots, n$.\n",
    "\n",
    "The objective of linear regression, is to find coefficents $\\hat{w}$ such that the residual between $\\hat{y} = \\hat{w}^\\top \\tilde{x}$, and $y$ is small. (Remember that $\\tilde{x} = [x, 1]$). From now on, $x$ will be considered the extended version unless stated otherwise, hence dropping the tilde notation. \n",
    "\n",
    "The goodness of fit in Linear regression is usually calculated as the sum of squared residuals, but other loss functions are also available. \n",
    "\n",
    "The risk function is defined as: $$ R(\\hat{w}) = \\mathbb{E}[\\frac{1}{2}(y-\\hat{w}^\\top x)^2)]$$\n",
    "where the expectation is taken over the data generating the distribution of points. As the whole data generating distribution is not known, the expectation is approximated by samples from the **training** set. \n",
    "\n",
    "The risk is approximated by the empirical risk as:\n",
    "$$ R(\\hat{w}) \\approx \\hat{R}(\\hat{w}) \\frac{1}{n} \\sum_{i=1}^n (y_i - \\hat{w}^\\top x_i)^2.$$ \n",
    "\n",
    "\n",
    "By grouping the data into the feature matrix $X$ and target matrix $Y$, such that:\n",
    "\n",
    "$$ X = \\left[ \\begin{array}{cc} x_1^\\top & 1\\\\ x_2^\\top & 1 \\\\ \\vdots & \\vdots \\\\ x_n^\\top & 1  \\end{array}\\right]$$\n",
    "$$ Y = \\left[ \\begin{array}{c} y_1\\\\ y_2 \\\\ \\vdots \\\\ y_n  \\end{array}\\right].$$ \n",
    "\n",
    "The empirical risk function can be expressed as:\n",
    "$$\\hat{R}(\\hat{w})= \\frac{1}{n}(X\\hat{w} - Y)^\\top (X\\hat{w} - Y) $$\n",
    "\n",
    "\n",
    "### Closed form solution\n",
    "\n",
    "The closed form solution to the regression problem is given by:\n",
    "$$\\hat{w} = (X^\\top X)^{-1} X^T y.$$ \n",
    "\n",
    "The closed form can be computed with a total number of operations given by $\\approx O(d^3+nd^2)$ .\n",
    "\n",
    "### Gradient Descent\n",
    "\n",
    "When the number of dimensions or examples grows, the closed form solution becomes expensive to compute. However, the parameters $\\hat{w}$ can be updated via a gradient descent rule: \n",
    "\n",
    "$$ \\hat{w}_{t+1} \\gets \\hat{w}_t - \\eta_t \\left.\\frac{\\partial \\hat{R} }{\\partial \\hat{w}} \\right|_{w=w_t},$$\n",
    "\n",
    "where $\\eta_t$ is a parameter of the algorithm, $k$ is the iteration index, and $\\frac{\\partial \\hat{R}}{\\partial \\hat{w}}$\n",
    "\n",
    "The gradients of $\\hat{R}$ with respect to the parameters are:\n",
    "\n",
    "$$ \\frac{\\partial \\hat{R} }{\\partial \\hat{w}} = \\frac{1}{} X^\\top(Xw - y) $$ \n",
    "In the *vanilla* gradient descent method, $\\eta(k)=\\eta_0$ is a constant. However other algorithms exists that modify this. We will discuss these later. \n",
    "\n",
    "The computational complexity of Gradient descent is $O(n_{\\text{iter}} \\cdot  n d)$. "
   ]
  },
  {
   "cell_type": "code",
   "execution_count": 2,
   "metadata": {
    "ExecuteTime": {
     "end_time": "2018-02-23T16:15:44.556270Z",
     "start_time": "2018-02-23T16:15:44.003335Z"
    }
   },
   "outputs": [
    {
     "data": {
      "image/png": "[encoded data removed]",
      "text/plain": [
       "<matplotlib.figure.Figure at 0x109639f28>"
      ]
     },
     "metadata": {},
     "output_type": "display_data"
    }
   ],
   "source": [
    "# Generate the data.\n",
    "\n",
    "num_points = 100  # Number of training points.\n",
    "noise = 0.6  # Noise Level (needed for data generation).\n",
    "\n",
    "a_true = 3  # Slope.\n",
    "b_true = 1  # Intercept. \n",
    "w_true = np.array([a_true, b_true])\n",
    "\n",
    "X, Y = generate_polynomial_data(num_points, noise, w_true)\n",
    "\n",
    "# Plot Data\n",
    "fig = plt.subplot(111);\n",
    "plot_opts = {'x_label': '$x$', 'y_label': '$y$', 'title': 'Generated Data', 'y_lim': [np.min(Y)-0.5, np.max(Y)+0.5]}\n",
    "plot_helpers.plot_data(X[:, 0], Y, fig=fig, options=plot_opts)"
   ]
  },
  {
   "cell_type": "code",
   "execution_count": 3,
   "metadata": {
    "ExecuteTime": {
     "end_time": "2018-02-23T16:15:45.078729Z",
     "start_time": "2018-02-23T16:15:44.558776Z"
    }
   },
   "outputs": [
    {
     "name": "stdout",
     "output_type": "stream",
     "text": [
      "w_hat = [2.99567565 0.98430118]\n"
     ]
    },
    {
     "data": {
      "image/png": "[encoded data removed]",
      "text/plain": [
       "<matplotlib.figure.Figure at 0x109bd3e48>"
      ]
     },
     "metadata": {},
     "output_type": "display_data"
    }
   ],
   "source": [
    "# Closed Form solution.\n",
    "\n",
    "w_hat_closed_form = np.dot(np.linalg.pinv(np.dot(X.T, X)), np.dot(X.T, Y))\n",
    "print(\"w_hat = {}\".format(w_hat_closed_form))\n",
    "\n",
    "fig = plt.subplot(111)\n",
    "plot_opts = {'x_label': '$x$', 'y_label': '$y$', 'title': 'Closed Form Solution', 'legend': True,\n",
    "             'y_lim': [np.min(Y)-0.5, np.max(Y)+0.5]}\n",
    "\n",
    "plot_helpers.plot_data(X[:, 0], Y, fig=fig, options=plot_opts)\n",
    "plot_helpers.plot_fit(X, w_hat_closed_form, fig=fig, options=plot_opts)"
   ]
  },
  {
   "cell_type": "code",
   "execution_count": 4,
   "metadata": {
    "ExecuteTime": {
     "end_time": "2018-02-23T16:15:45.186930Z",
     "start_time": "2018-02-23T16:15:45.082359Z"
    }
   },
   "outputs": [
    {
     "data": {
      "application/vnd.jupyter.widget-view+json": {
       "model_id": "a5b1478d531c4988885b167a2e021693",
       "version_major": 2,
       "version_minor": 0
      },
      "text/html": [
       "<p>Failed to display Jupyter Widget of type <code>interactive</code>.</p>\n",
       "<p>\n",
       "  If you're reading this message in the Jupyter Notebook or JupyterLab Notebook, it may mean\n",
       "  that the widgets JavaScript is still loading. If this message persists, it\n",
       "  likely means that the widgets JavaScript library is either not installed or\n",
       "  not enabled. See the <a href=\"https://ipywidgets.readthedocs.io/en/stable/user_install.html\">Jupyter\n",
       "  Widgets Documentation</a> for setup instructions.\n",
       "</p>\n",
       "<p>\n",
       "  If you're reading this message in another frontend (for example, a static\n",
       "  rendering on GitHub or <a href=\"https://nbviewer.jupyter.org/\">NBViewer</a>),\n",
       "  it may mean that your frontend doesn't currently support widgets.\n",
       "</p>\n"
      ],
      "text/plain": [
       "interactive(children=(FloatSlider(value=0.1, continuous_update=False, description='Learning rate:', max=2.0, min=0.1, readout_format='.1f', style=SliderStyle(description_width='initial')), IntSlider(value=10, continuous_update=False, description='Number of iterations:', max=20, min=5, style=SliderStyle(description_width='initial')), Button(description='Run Interact', style=ButtonStyle()), Output()), _dom_classes=('widget-interact',))"
      ]
     },
     "metadata": {},
     "output_type": "display_data"
    }
   ],
   "source": [
    "# Gradient Descent solution. \n",
    "\n",
    "def change_learning_params(eta0, n_iter):\n",
    "    regressor = LinearRegressor(X, Y)\n",
    "    regularizer = L2Regularizer(0)\n",
    "    w0 = np.array([0., 0.])\n",
    "    opts = {'eta0': eta0, 'n_iter': n_iter, 'n_samples': X.shape[0]}\n",
    "    trajectory, indexes = gradient_descent(w0, regressor, regularizer, opts)\n",
    "\n",
    "    contourplot = plt.subplot(121)\n",
    "    dataplot = plt.subplot(122)\n",
    "    contour_opts = {'x_label': '$w_0$', 'y_label': '$w_1$', 'title': 'Weight trajectory', 'legend': False,\n",
    "                   }\n",
    "    data_opts = {'x_label': '$x$', 'y_label': '$y$', 'title': 'Regression trajectory', 'legend': False, \n",
    "                'y_lim': [np.min(Y)-0.5, np.max(Y)+0.5]}\n",
    "    plot_opts = {'contour_opts': contour_opts, 'data_opts': data_opts}\n",
    "\n",
    "    plot_helpers.linear_regression_progression(X, Y, trajectory, indexes, regressor.test_loss,\n",
    "                                               contourplot, dataplot, options=plot_opts)\n",
    "\n",
    "interact_manual(change_learning_params,\n",
    "                eta0=ipywidgets.FloatSlider(value=1e-1,\n",
    "                                            min=1e-1,\n",
    "                                            max=2,\n",
    "                                            step=1 * 1e-1,\n",
    "                                            readout_format='.1f',\n",
    "                                            description='Learning rate:',\n",
    "                                            style={'description_width': 'initial'},\n",
    "                                            continuous_update=False),\n",
    "                n_iter=ipywidgets.IntSlider(value=10,\n",
    "                                            min=5,\n",
    "                                            max=20,\n",
    "                                            step=1,\n",
    "                                            description='Number of iterations:',\n",
    "                                            style={'description_width': 'initial'},\n",
    "                                            continuous_update=False)\n",
    "                );\n"
   ]
  },
  {
   "cell_type": "markdown",
   "metadata": {},
   "source": [
    "## Adaptive Learning rates. \n",
    "\n",
    "* Annealing \n",
    "    $\\eta_{t} = \\frac{\\eta_0}{(1+t)^{0.6}}$\n",
    "\n",
    "* Bold driver heuristic:\n",
    "\n",
    "    If $\\hat{R}(\\hat{w}_t) > \\hat{R}(\\hat{w}_{t+1})$, \n",
    "    \n",
    "    $\\eta_{t+1} = \\eta_{t}/5$\n",
    "    \n",
    "    else\n",
    "    \n",
    "    $\\eta_{t+1} \\gets \\eta_{t}*1.1$\n",
    "\n",
    "    \n",
    "* AdaGrad:\n",
    "    $\\eta_t = \\frac{\\eta_0}{\\sqrt{\\sum_{j=0}^t g_j^2}}$, where $g_j$ is the 2-norm gradient of $L$ at time $j$. \n",
    "\n",
    "       \n",
    "        "
   ]
  },
  {
   "cell_type": "code",
   "execution_count": 5,
   "metadata": {
    "ExecuteTime": {
     "end_time": "2018-02-23T16:15:53.015131Z",
     "start_time": "2018-02-23T16:15:45.190133Z"
    }
   },
   "outputs": [
    {
     "data": {
      "application/vnd.jupyter.widget-view+json": {
       "model_id": "0963380d35d1490ebc65def6974edecf",
       "version_major": 2,
       "version_minor": 0
      },
      "text/html": [
       "<p>Failed to display Jupyter Widget of type <code>interactive</code>.</p>\n",
       "<p>\n",
       "  If you're reading this message in the Jupyter Notebook or JupyterLab Notebook, it may mean\n",
       "  that the widgets JavaScript is still loading. If this message persists, it\n",
       "  likely means that the widgets JavaScript library is either not installed or\n",
       "  not enabled. See the <a href=\"https://ipywidgets.readthedocs.io/en/stable/user_install.html\">Jupyter\n",
       "  Widgets Documentation</a> for setup instructions.\n",
       "</p>\n",
       "<p>\n",
       "  If you're reading this message in another frontend (for example, a static\n",
       "  rendering on GitHub or <a href=\"https://nbviewer.jupyter.org/\">NBViewer</a>),\n",
       "  it may mean that your frontend doesn't currently support widgets.\n",
       "</p>\n"
      ],
      "text/plain": [
       "interactive(children=(RadioButtons(description='Learning rate heuristics:', options=('Bold driver', 'AdaGrad', 'Annealing', 'None'), style=DescriptionStyle(description_width='initial'), value='Bold driver'), Output()), _dom_classes=('widget-interact',))"
      ]
     },
     "metadata": {},
     "output_type": "display_data"
    }
   ],
   "source": [
    "def change_heuristics(learning_rate_scheduling=None):\n",
    "    regressor = LinearRegressor(X, Y)\n",
    "    regularizer = L2Regularizer(0)\n",
    "    w0 = np.array([0., 0.])\n",
    "    if learning_rate_scheduling == 'None':\n",
    "        learning_rate_scheduling = None\n",
    "\n",
    "    opts = {'eta0': 2,\n",
    "            'n_iter': 10,\n",
    "            'n_samples': X.shape[0],\n",
    "            'algorithm': 'GD',\n",
    "            'learning_rate_scheduling': learning_rate_scheduling\n",
    "            }\n",
    "    trajectory, indexes = gradient_descent(w0, regressor, regularizer, opts)\n",
    "\n",
    "    contourplot = plt.subplot(121)\n",
    "    dataplot = plt.subplot(122)\n",
    "    contour_opts = {'x_label': '$w_0$', 'y_label': '$w_1$', 'title': 'Weight trajectory', 'legend': False}\n",
    "    data_opts = {'x_label': '$x$', 'y_label': '$y$', 'title': 'Regression trajectory', 'legend': False,\n",
    "                'y_lim': [np.min(Y)-0.5, np.max(Y)+0.5]}\n",
    "    plot_opts = {'contour_opts': contour_opts, 'data_opts': data_opts}\n",
    "\n",
    "    plot_helpers.linear_regression_progression(X, Y, trajectory, indexes, regressor.test_loss,\n",
    "                                               contourplot, dataplot, options=plot_opts)\n",
    "\n",
    "interact(change_heuristics,\n",
    "                learning_rate_scheduling=ipywidgets.RadioButtons(\n",
    "                    options=['Bold driver', 'AdaGrad', 'Annealing', 'None'],\n",
    "                    value='Bold driver',\n",
    "                    description='Learning rate heuristics:',\n",
    "                    style={'description_width': 'initial'})\n",
    "                );\n"
   ]
  },
  {
   "cell_type": "markdown",
   "metadata": {},
   "source": [
    "## Gradient descent to minimize other (non-convex) functions.\n",
    "\n",
    "Gradient descent works can be used as a minimizing algorithm for other functions, even if they are non-convex. Gradient descent, if it converges, converges to a local minimum. Lets look at the function $$f(w) = \\sin(w_0)\\cos(w_1).$$ We would like to find parameters $(a,b)$ that minimize the function $f$. \n",
    "\n",
    "The gradients are:\n",
    "$$\\frac{\\partial f}{\\partial w_0} =  \\cos(w_0)\\cos(w_1),$$\n",
    "$$\\frac{\\partial f}{\\partial w_1} = -\\sin(w_0)\\sin(w_1).$$"
   ]
  },
  {
   "cell_type": "code",
   "execution_count": 6,
   "metadata": {
    "ExecuteTime": {
     "end_time": "2018-02-23T16:15:53.239775Z",
     "start_time": "2018-02-23T16:15:53.021346Z"
    }
   },
   "outputs": [
    {
     "data": {
      "application/vnd.jupyter.widget-view+json": {
       "model_id": "1c5d29f7a707476796b45fbf3b20532f",
       "version_major": 2,
       "version_minor": 0
      },
      "text/html": [
       "<p>Failed to display Jupyter Widget of type <code>interactive</code>.</p>\n",
       "<p>\n",
       "  If you're reading this message in the Jupyter Notebook or JupyterLab Notebook, it may mean\n",
       "  that the widgets JavaScript is still loading. If this message persists, it\n",
       "  likely means that the widgets JavaScript library is either not installed or\n",
       "  not enabled. See the <a href=\"https://ipywidgets.readthedocs.io/en/stable/user_install.html\">Jupyter\n",
       "  Widgets Documentation</a> for setup instructions.\n",
       "</p>\n",
       "<p>\n",
       "  If you're reading this message in another frontend (for example, a static\n",
       "  rendering on GitHub or <a href=\"https://nbviewer.jupyter.org/\">NBViewer</a>),\n",
       "  it may mean that your frontend doesn't currently support widgets.\n",
       "</p>\n"
      ],
      "text/plain": [
       "interactive(children=(FloatSlider(value=4.0, continuous_update=False, description='Learning rate:', max=10.0, min=0.1, readout_format='.1f', style=SliderStyle(description_width='initial')), IntSlider(value=10, continuous_update=False, description='Number of iterations:', max=50, min=5, style=SliderStyle(description_width='initial')), RadioButtons(description='Learning rate heuristics:', index=3, options=('Bold driver', 'AdaGrad', 'Annealing', 'None'), style=DescriptionStyle(description_width='initial'), value='None'), FloatSlider(value=-0.9, continuous_update=False, description='w_0:', max=3.0, min=-3.0, readout_format='.1f', style=SliderStyle(description_width='initial')), FloatSlider(value=1.1, continuous_update=False, description='w_1:', max=3.0, min=-3.0, readout_format='.1f', style=SliderStyle(description_width='initial')), Button(description='Run Interact', style=ButtonStyle()), Output()), _dom_classes=('widget-interact',))"
      ]
     },
     "metadata": {},
     "output_type": "display_data"
    }
   ],
   "source": [
    "class sincos(object):\n",
    "    def __init__(self):\n",
    "        pass\n",
    "\n",
    "    def get_number_samples(self):\n",
    "        return 0\n",
    "\n",
    "    def loss(self, w, *args):\n",
    "        return np.sin(w[0]) * np.cos(w[1])\n",
    "\n",
    "    def gradient(self, w, *args):\n",
    "        return np.array([np.cos(w[0]) * np.cos(w[1]), -np.sin(w[0]) * np.sin(w[1])])\n",
    "\n",
    "def optimize_sincos(eta, n_iter, learning_rate_scheduling, a0, b0):\n",
    "    regressor = sincos()\n",
    "    regularizer = L2Regularizer(0)\n",
    "    w0 = np.array([a0, b0])\n",
    "    if learning_rate_scheduling == 'None':\n",
    "        learning_rate_scheduling = None\n",
    "\n",
    "    opts = {'eta0': eta,\n",
    "            'n_iter': n_iter,\n",
    "            'batch_size': 1,\n",
    "            'n_samples': 0,\n",
    "            'algorithm': 'GD',\n",
    "            'learning_rate_scheduling': learning_rate_scheduling\n",
    "            }\n",
    "    trajectory, indexes = gradient_descent(w0, regressor, regularizer, opts)\n",
    "\n",
    "    contourplot = plt.subplot(111)\n",
    "    dataplot = None\n",
    "    contour_opts = {'x_label': '$w_0$', 'y_label': '$w_1$', 'title': 'Weight trajectory', 'legend': False}\n",
    "    plot_opts = {'contour_opts': contour_opts}\n",
    "\n",
    "    plot_helpers.linear_regression_progression(np.array([]), np.array([]), trajectory, indexes, regressor.loss,\n",
    "                                               contourplot, dataplot, options=plot_opts)\n",
    "\n",
    "\n",
    "interact_manual(optimize_sincos,\n",
    "                eta=ipywidgets.FloatSlider(value=4,\n",
    "                                           min=1e-1,\n",
    "                                           max=10,\n",
    "                                           step=1e-1,\n",
    "                                           readout_format='.1f',\n",
    "                                           description='Learning rate:',\n",
    "                                           style={'description_width': 'initial'},\n",
    "                                           continuous_update=False),\n",
    "                n_iter=ipywidgets.IntSlider(value=10,\n",
    "                                            min=5,\n",
    "                                            max=50,\n",
    "                                            step=1,\n",
    "                                            description='Number of iterations:',\n",
    "                                            style={'description_width': 'initial'},\n",
    "                                            continuous_update=False),\n",
    "                learning_rate_scheduling=ipywidgets.RadioButtons(\n",
    "                    options=['Bold driver', 'AdaGrad', 'Annealing', 'None'],\n",
    "                    value='None',\n",
    "                    description='Learning rate heuristics:',\n",
    "                    style={'description_width': 'initial'}),\n",
    "                a0=ipywidgets.FloatSlider(value=-0.9,\n",
    "                                          min=-3,\n",
    "                                          max=3,\n",
    "                                          step=.1,\n",
    "                                          readout_format='.1f',\n",
    "                                          description='w_0:',\n",
    "                                          style={'description_width': 'initial'},\n",
    "                                          continuous_update=False),\n",
    "                b0=ipywidgets.FloatSlider(value=1.1,\n",
    "                                          min=-3,\n",
    "                                          max=3,\n",
    "                                          step=.1,\n",
    "                                          readout_format='.1f',\n",
    "                                          description='w_1:',\n",
    "                                          style={'description_width': 'initial'},\n",
    "                                          continuous_update=False));"
   ]
  },
  {
   "cell_type": "markdown",
   "metadata": {},
   "source": [
    "## Linear regression on polynomials.\n",
    "\n",
    "Higher order features can be constructed from data $D = \\left\\{(x, y)_i\\right\\}$, $i = 1, 2, \\ldots, n$. For example cubic polynomial features can be created by forming the data and target matrices as:\n",
    "\n",
    "$$ X = \\left[ \\begin{array}{cccc} x_1^3 & x_1^2 & x_1 & 1\\\\ x_2^3 & x_2^2 & x_2 & 1 \\\\ \\vdots & \\vdots \\\\ x_n^3 & x_n^2 & x_n & 1  \\end{array}\\right]$$\n",
    "$$ Y = \\left[ \\begin{array}{c} y_1\\\\ y_2 \\\\ \\vdots \\\\ y_n  \\end{array}\\right].$$ \n",
    "\n",
    "The predictor is again of the form $\\hat{Y} = X\\hat{w}$. Even if the features in the data matrix $X$ are non-linear on the data, the estimator is linear on the parameters $\\hat{w}$. Hence, the empirical risk function is again:\n",
    "$$\\hat{R}(\\hat{w})= \\frac{1}{n}(X\\hat{w} - Y)^\\top (X\\hat{w} - Y),$$\n",
    "\n",
    "and linear regression problem is identical as in the previous example."
   ]
  },
  {
   "cell_type": "code",
   "execution_count": 7,
   "metadata": {
    "ExecuteTime": {
     "end_time": "2018-02-23T16:15:53.904984Z",
     "start_time": "2018-02-23T16:15:53.243001Z"
    }
   },
   "outputs": [
    {
     "name": "stdout",
     "output_type": "stream",
     "text": [
      "w_hat = [-0.49373803  0.50128288  0.96444357 -1.02264838]\n"
     ]
    },
    {
     "data": {
      "image/png": "[encoded data removed]",
      "text/plain": [
       "<matplotlib.figure.Figure at 0x109ba6668>"
      ]
     },
     "metadata": {},
     "output_type": "display_data"
    }
   ],
   "source": [
    "# Generate the data and calculate the close form solution\n",
    "\n",
    "num_points = 100  # Number of training points.\n",
    "noise = 0.3  # Noise Level (needed for data generation).\n",
    "\n",
    "w_true = np.array([-.5, .5, 1, -1])\n",
    "X, Y = generate_polynomial_data(num_points, noise, w_true)\n",
    "w_hat_closed_form = np.dot(np.linalg.pinv(np.dot(X.T, X)), np.dot(X.T, Y))\n",
    "\n",
    "# Plot closed form solution\n",
    "fig = plt.subplot(111)\n",
    "plot_opts = {'x_label': '$x$', 'y_label': '$y$', 'title': 'Closed Form Solution', 'legend': True, \n",
    "            'y_lim': [np.min(Y)-0.5, np.max(Y)+0.5]}\n",
    "plot_helpers.plot_data(X[:, -2], Y, fig=fig, options=plot_opts)\n",
    "plot_helpers.plot_fit(X, w_hat_closed_form, fig=fig, options=plot_opts)\n",
    "\n",
    "print(\"w_hat = {}\".format(w_hat_closed_form))\n"
   ]
  },
  {
   "cell_type": "code",
   "execution_count": 8,
   "metadata": {
    "ExecuteTime": {
     "end_time": "2018-02-23T16:15:54.157222Z",
     "start_time": "2018-02-23T16:15:53.908182Z"
    }
   },
   "outputs": [
    {
     "data": {
      "application/vnd.jupyter.widget-view+json": {
       "model_id": "0027765d451d4c2ea69f78be5fcf5cfc",
       "version_major": 2,
       "version_minor": 0
      },
      "text/html": [
       "<p>Failed to display Jupyter Widget of type <code>interactive</code>.</p>\n",
       "<p>\n",
       "  If you're reading this message in the Jupyter Notebook or JupyterLab Notebook, it may mean\n",
       "  that the widgets JavaScript is still loading. If this message persists, it\n",
       "  likely means that the widgets JavaScript library is either not installed or\n",
       "  not enabled. See the <a href=\"https://ipywidgets.readthedocs.io/en/stable/user_install.html\">Jupyter\n",
       "  Widgets Documentation</a> for setup instructions.\n",
       "</p>\n",
       "<p>\n",
       "  If you're reading this message in another frontend (for example, a static\n",
       "  rendering on GitHub or <a href=\"https://nbviewer.jupyter.org/\">NBViewer</a>),\n",
       "  it may mean that your frontend doesn't currently support widgets.\n",
       "</p>\n"
      ],
      "text/plain": [
       "interactive(children=(FloatSlider(value=0.01, continuous_update=False, description='Learning rate:', max=1.0, min=0.001, readout_format='.3f', step=0.001, style=SliderStyle(description_width='initial')), IntSlider(value=10, continuous_update=False, description='Number of iterations:', max=50, min=5, style=SliderStyle(description_width='initial')), RadioButtons(description='Learning rate heuristics:', index=3, options=('Bold driver', 'AdaGrad', 'Annealing', 'None'), style=DescriptionStyle(description_width='initial'), value='None'), Button(description='Run Interact', style=ButtonStyle()), Output()), _dom_classes=('widget-interact',))"
      ]
     },
     "metadata": {},
     "output_type": "display_data"
    }
   ],
   "source": [
    "def optimize_cubic(eta, n_iter, learning_rate_scheduling):\n",
    "    regressor = LinearRegressor(X, Y)\n",
    "    regularizer = L2Regularizer(0)\n",
    "    w0 = np.array([0., 0., 0., 0.])\n",
    "    if learning_rate_scheduling == 'None':\n",
    "        learning_rate_scheduling = None\n",
    "\n",
    "    opts = {'eta0': eta,\n",
    "            'n_iter': n_iter,\n",
    "            'algorithm': 'GD',\n",
    "            'learning_rate_scheduling': learning_rate_scheduling\n",
    "            }\n",
    "    trajectory, indexes = gradient_descent(w0, regressor, regularizer, opts)\n",
    "\n",
    "    contourplot = None\n",
    "    dataplot = plt.subplot(111)\n",
    "    data_opts = {'x_label': '$x$', 'y_label': '$y$', 'title': 'Regression trajectory', 'legend': False,\n",
    "                'y_lim': [np.min(Y)-0.5, np.max(Y)+0.5]}\n",
    "    plot_opts = {'data_opts': data_opts}\n",
    "\n",
    "    plot_helpers.linear_regression_progression(X, Y, trajectory, indexes, regressor.test_loss,\n",
    "                                               contourplot, dataplot, options=plot_opts)\n",
    "\n",
    "\n",
    "interact_manual(optimize_cubic,\n",
    "                eta=ipywidgets.FloatSlider(value=1e-2,\n",
    "                                           min=1e-3,\n",
    "                                           max=1,\n",
    "                                           step=1e-3,\n",
    "                                           readout_format='.3f',\n",
    "                                           description='Learning rate:',\n",
    "                                           style={'description_width': 'initial'},\n",
    "                                           continuous_update=False),\n",
    "                n_iter=ipywidgets.IntSlider(value=10,\n",
    "                                            min=5,\n",
    "                                            max=50,\n",
    "                                            step=1,\n",
    "                                            description='Number of iterations:',\n",
    "                                            style={'description_width': 'initial'},\n",
    "                                            continuous_update=False),\n",
    "                learning_rate_scheduling=ipywidgets.RadioButtons(\n",
    "                    options=['Bold driver', 'AdaGrad', 'Annealing', 'None'],\n",
    "                    value='None',\n",
    "                    description='Learning rate heuristics:',\n",
    "                    style={'description_width': 'initial'})\n",
    "                );"
   ]
  },
  {
   "cell_type": "markdown",
   "metadata": {},
   "source": [
    "## Choosing the Polynomial Order.\n",
    "\n",
    "If the order of the polynomial is not known, then how should we select it? **Answer**: Next week :). But in the meantime you can play with an example."
   ]
  },
  {
   "cell_type": "code",
   "execution_count": 9,
   "metadata": {
    "ExecuteTime": {
     "end_time": "2018-02-23T16:15:55.036723Z",
     "start_time": "2018-02-23T16:15:54.177068Z"
    }
   },
   "outputs": [
    {
     "data": {
      "application/vnd.jupyter.widget-view+json": {
       "model_id": "fce4ea94bf8347bb922dd39e6c13975d",
       "version_major": 2,
       "version_minor": 0
      },
      "text/html": [
       "<p>Failed to display Jupyter Widget of type <code>interactive</code>.</p>\n",
       "<p>\n",
       "  If you're reading this message in the Jupyter Notebook or JupyterLab Notebook, it may mean\n",
       "  that the widgets JavaScript is still loading. If this message persists, it\n",
       "  likely means that the widgets JavaScript library is either not installed or\n",
       "  not enabled. See the <a href=\"https://ipywidgets.readthedocs.io/en/stable/user_install.html\">Jupyter\n",
       "  Widgets Documentation</a> for setup instructions.\n",
       "</p>\n",
       "<p>\n",
       "  If you're reading this message in another frontend (for example, a static\n",
       "  rendering on GitHub or <a href=\"https://nbviewer.jupyter.org/\">NBViewer</a>),\n",
       "  it may mean that your frontend doesn't currently support widgets.\n",
       "</p>\n"
      ],
      "text/plain": [
       "interactive(children=(FloatSlider(value=1.0, continuous_update=False, description='Noise level:', max=3.0, readout_format='.1f', step=0.5, style=SliderStyle(description_width='initial')), Output()), _dom_classes=('widget-interact',))"
      ]
     },
     "metadata": {},
     "output_type": "display_data"
    }
   ],
   "source": [
    "def f(x):\n",
    "    return x * np.sin(x) \n",
    "\n",
    "x_plot = np.linspace(-1, 11, 100)\n",
    "f_plot = f(x_plot)\n",
    "X_plot = x_plot[:, np.newaxis]\n",
    "\n",
    "def resample(noise):\n",
    "\n",
    "    xraw = np.linspace(0, 10, 100)\n",
    "    np.random.shuffle(xraw)\n",
    "    \n",
    "    x = (xraw[:20])\n",
    "\n",
    "    y = f(x)+ np.random.normal(size=(20,)) * noise\n",
    "\n",
    "    # create matrix versions of these arrays\n",
    "    X = x[:, np.newaxis]\n",
    "\n",
    "    def change_degree(degree):\n",
    "        model = make_pipeline(PolynomialFeatures(degree), linear_model.Ridge(alpha=0))\n",
    "        model.fit(X, y)\n",
    "        \n",
    "        fig = plt.subplot(111)\n",
    "        lw = 2\n",
    "        plt.plot(x_plot, f_plot, color='cornflowerblue', linewidth=lw, label=\"Ground Truth\")\n",
    "        y_plot = model.predict(X_plot)\n",
    "        plt.plot(x_plot, y_plot, color='r', linewidth=lw, label=\"Degree %d\" % degree)\n",
    "        \n",
    "        plot_opts = {'x_label': '$x$', 'y_label': '$y$', 'y_lim': [np.min(f_plot)-3, np.max(f_plot)+3], \n",
    "                     'legend':True, 'legend_loc': 'lower left'}\n",
    "        \n",
    "        opts = {'marker': 'b*', 'label': 'Training Points'}\n",
    "        plot_opts.update(opts)\n",
    "        \n",
    "        plot_helpers.plot_data(X, y, fig=fig, options=plot_opts)\n",
    "        \n",
    "        coefs = model._final_estimator.coef_\n",
    "        coefs[0] = model._final_estimator.intercept_\n",
    "        print(\"Estimated coefficients{}\".format(coefs))\n",
    "        \n",
    "\n",
    "    interact(change_degree,\n",
    "             degree=ipywidgets.IntSlider(value=1,\n",
    "                                         min=1,\n",
    "                                         max=20,\n",
    "                                         step=1,\n",
    "                                         description='Polynomial Degree:',\n",
    "                                         style={'description_width': 'initial'},\n",
    "                                         continuous_update=False));\n",
    "\n",
    "interact(resample, noise=ipywidgets.FloatSlider(value=1,\n",
    "                                               min=0,\n",
    "                                               max=3,\n",
    "                                               step=0.5,\n",
    "                                               readout_format='.1f',\n",
    "                                               description='Noise level:',\n",
    "                                               style={'description_width': 'initial'},\n",
    "                                               continuous_update=False),);"
   ]
  },
  {
   "cell_type": "markdown",
   "metadata": {},
   "source": [
    "## Real data sets: Diabetes prediction\n",
    "\n",
    "In this example we will use a diabetes dataset from sklearn. First we will split into train and test data to evaluate the prediction performance. Then a linear regressor using only one feature will be evaluated. In the second cell, a linear regressor using all the features but with no feature transformation is implemented. Finally, a 5th order polynomial transformation on the single feature used in the first cell is evaluated."
   ]
  },
  {
   "cell_type": "code",
   "execution_count": 10,
   "metadata": {
    "ExecuteTime": {
     "end_time": "2018-02-23T16:15:55.135565Z",
     "start_time": "2018-02-23T16:15:55.039348Z"
    }
   },
   "outputs": [],
   "source": [
    "# Load the diabetes dataset\n",
    "diabetes = datasets.load_diabetes()\n",
    "\n",
    "Y_all = diabetes.target\n",
    "X_all = scale(diabetes.data) # zero mean unit variance\n",
    "n_all = Y_all.size\n",
    "n_test = 20\n",
    "\n",
    "# Split the data into training/testing sets\n",
    "X_train = X_all[:-n_test]\n",
    "X_test = X_all[-n_test:]\n",
    "\n",
    "# Split the targets into training/testing sets\n",
    "Y_train = Y_all[:-n_test]\n",
    "Y_test = Y_all[-n_test:]"
   ]
  },
  {
   "cell_type": "code",
   "execution_count": 11,
   "metadata": {
    "ExecuteTime": {
     "end_time": "2018-02-23T16:15:55.370995Z",
     "start_time": "2018-02-23T16:15:55.140477Z"
    }
   },
   "outputs": [
    {
     "name": "stdout",
     "output_type": "stream",
     "text": [
      "Coefficients: \n",
      " [33.73295272]\n",
      "Mean squared error: 4058.41\n",
      "Explained variance: 0.16\n"
     ]
    },
    {
     "data": {
      "image/png": "[encoded data removed]",
      "text/plain": [
       "<matplotlib.figure.Figure at 0x10ad2e3c8>"
      ]
     },
     "metadata": {},
     "output_type": "display_data"
    }
   ],
   "source": [
    "# Now let's train a 1D linear regression based on a single feature\n",
    "\n",
    "use_feature = 3\n",
    "# Use only one feature\n",
    "\n",
    "X_train_1D = X_train[:, np.newaxis, use_feature]\n",
    "X_test_1D = X_test[:, np.newaxis, use_feature]\n",
    "\n",
    "# Create linear regression object\n",
    "regr = linear_model.LinearRegression()\n",
    "\n",
    "# Train the model using the training set\n",
    "regr.fit(X_train_1D, Y_train)\n",
    "\n",
    "# Make predictions on the testing set\n",
    "Y_pred = regr.predict(X_test_1D)\n",
    "\n",
    "# The coefficients\n",
    "print('Coefficients: \\n', regr.coef_)\n",
    "# The mean squared error\n",
    "print(\"Mean squared error: %.2f\"\n",
    "      % mean_squared_error(Y_test, Y_pred))\n",
    "# Explained variance score: 1 is perfect prediction\n",
    "print('Explained variance: %.2f' % r2_score(Y_test, Y_pred))\n",
    "\n",
    "# Plot outputs\n",
    "plt.scatter(X_test_1D, Y_test,  color='black')\n",
    "plt.plot(X_test_1D, Y_pred, color='blue', linewidth=3)\n",
    "\n",
    "plt.show()"
   ]
  },
  {
   "cell_type": "code",
   "execution_count": 12,
   "metadata": {
    "ExecuteTime": {
     "end_time": "2018-02-23T16:15:55.815600Z",
     "start_time": "2018-02-23T16:15:55.373925Z"
    }
   },
   "outputs": [
    {
     "name": "stdout",
     "output_type": "stream",
     "text": [
      "Coefficients: \n",
      " [ 1.44360014e-02 -1.13033495e+01  2.42834645e+01  1.55888584e+01\n",
      " -3.87242964e+01  2.34407995e+01  4.89200200e+00  8.78083524e+00\n",
      "  3.53656217e+01  3.61947824e+00]\n",
      "Mean squared error: 2004.57\n",
      "Explained variance: 0.59\n"
     ]
    },
    {
     "data": {
      "image/png": "[encoded data removed]",
      "text/plain": [
       "<matplotlib.figure.Figure at 0x10b1a0358>"
      ]
     },
     "metadata": {},
     "output_type": "display_data"
    }
   ],
   "source": [
    "# Now let's use all features\n",
    "\n",
    "# Create linear regression object\n",
    "regr = linear_model.LinearRegression()\n",
    "\n",
    "# Train the model using the training sets\n",
    "regr.fit(X_train, Y_train)\n",
    "\n",
    "# Make predictions using the testing set\n",
    "Y_pred = regr.predict(X_test)\n",
    "\n",
    "# The coefficients\n",
    "print('Coefficients: \\n', regr.coef_)\n",
    "# The mean squared error\n",
    "print(\"Mean squared error: %.2f\"\n",
    "      % mean_squared_error(Y_test, Y_pred))\n",
    "# Explained variance score: 1 is perfect prediction\n",
    "print('Explained variance: %.2f' % r2_score(Y_test, Y_pred))\n",
    "\n",
    "# Plot outputs\n",
    "plt.scatter(X_test_1D, Y_test,  color='black')\n",
    "plt.scatter(X_test_1D, Y_pred, color='blue', marker='*')\n",
    "\n",
    "plt.show()"
   ]
  },
  {
   "cell_type": "code",
   "execution_count": 13,
   "metadata": {
    "ExecuteTime": {
     "end_time": "2018-02-23T16:15:56.472954Z",
     "start_time": "2018-02-23T16:15:55.819903Z"
    }
   },
   "outputs": [
    {
     "name": "stdout",
     "output_type": "stream",
     "text": [
      "Coefficients: \n",
      " [ 0.         32.39842197 13.12177699 -0.36124814 -2.5108258   0.25200116]\n",
      "Mean squared error: 3799.76\n",
      "Explained variance: 0.21\n"
     ]
    },
    {
     "data": {
      "image/png": "[encoded data removed]",
      "text/plain": [
       "<matplotlib.figure.Figure at 0x10b1d02e8>"
      ]
     },
     "metadata": {},
     "output_type": "display_data"
    }
   ],
   "source": [
    "# Now let's use all features\n",
    "\n",
    "# Create linear regression object\n",
    "regr = linear_model.LinearRegression()\n",
    "\n",
    "PF = PolynomialFeatures(degree=5, interaction_only=False, include_bias=True)\n",
    "\n",
    "X_train_poly = PF.fit_transform(X_train_1D)\n",
    "X_test_poly = PF.fit_transform(X_test_1D)\n",
    "\n",
    "\n",
    "# Train the model using the training sets\n",
    "regr.fit(X_train_poly, Y_train)\n",
    "\n",
    "# Make predictions using the testing set\n",
    "Y_pred = regr.predict(X_test_poly)\n",
    "\n",
    "# The coefficients\n",
    "print('Coefficients: \\n', regr.coef_)\n",
    "# The mean squared error\n",
    "print(\"Mean squared error: %.2f\"\n",
    "      % mean_squared_error(Y_test, Y_pred))\n",
    "# Explained variance score: 1 is perfect prediction\n",
    "print('Explained variance: %.2f' % r2_score(Y_test, Y_pred))\n",
    "\n",
    "# Plot outputs\n",
    "plt.scatter(X_test_1D, Y_test,  color='black')\n",
    "plt.scatter(X_test_1D, Y_pred, color='blue', marker='*')\n",
    "\n",
    "plt.show()"
   ]
  },
  {
   "cell_type": "code",
   "execution_count": null,
   "metadata": {},
   "outputs": [],
   "source": []
  }
 ],
 "metadata": {
  "kernelspec": {
   "display_name": "Python 3",
   "language": "python",
   "name": "python3"
  },
  "language_info": {
   "codemirror_mode": {
    "name": "ipython",
    "version": 3
   },
   "file_extension": ".py",
   "mimetype": "text/x-python",
   "name": "python",
   "nbconvert_exporter": "python",
   "pygments_lexer": "ipython3",
   "version": "3.6.4"
  },
  "latex_envs": {
   "LaTeX_envs_menu_present": true,
   "autoclose": false,
   "autocomplete": true,
   "bibliofile": "biblio.bib",
   "cite_by": "apalike",
   "current_citInitial": 1,
   "eqLabelWithNumbers": true,
   "eqNumInitial": 1,
   "hotkeys": {
    "equation": "Ctrl-E",
    "itemize": "Ctrl-I"
   },
   "labels_anchors": false,
   "latex_user_defs": false,
   "report_style_numbering": false,
   "user_envs_cfg": false
  },
  "toc": {
   "nav_menu": {},
   "number_sections": true,
   "sideBar": true,
   "skip_h1_title": false,
   "title_cell": "Table of Contents",
   "title_sidebar": "Contents",
   "toc_cell": false,
   "toc_position": {},
   "toc_section_display": true,
   "toc_window_display": false
  },
  "varInspector": {
   "cols": {
    "lenName": 16,
    "lenType": 16,
    "lenVar": 40
   },
   "kernels_config": {
    "python": {
     "delete_cmd_postfix": "",
     "delete_cmd_prefix": "del ",
     "library": "var_list.py",
     "varRefreshCmd": "print(var_dic_list())"
    },
    "r": {
     "delete_cmd_postfix": ") ",
     "delete_cmd_prefix": "rm(",
     "library": "var_list.r",
     "varRefreshCmd": "cat(var_dic_list()) "
    }
   },
   "types_to_exclude": [
    "module",
    "function",
    "builtin_function_or_method",
    "instance",
    "_Feature"
   ],
   "window_display": false
  }
 },
 "nbformat": 4,
 "nbformat_minor": 2
}
