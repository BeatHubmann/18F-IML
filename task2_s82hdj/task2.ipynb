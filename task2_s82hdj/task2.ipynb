{
 "cells": [
  {
   "cell_type": "code",
   "execution_count": 5,
   "metadata": {
    "ExecuteTime": {
     "end_time": "2018-04-17T20:06:37.178871Z",
     "start_time": "2018-04-17T20:06:37.162757Z"
    }
   },
   "outputs": [],
   "source": [
    "import numpy as np\n",
    "\n",
    "from matplotlib import pyplot\n",
    "\n",
    "from pandas import read_csv\n",
    "from pandas import set_option\n",
    "from pandas import DataFrame\n",
    "\n",
    "from sklearn.ensemble import RandomForestClassifier\n",
    "\n",
    "from sklearn.feature_selection import RFE\n",
    "from sklearn.feature_selection import RFECV\n",
    "from sklearn.feature_selection import SelectFromModel\n",
    "from sklearn.feature_selection import SelectKBest\n",
    "from sklearn.feature_selection import f_regression\n",
    "\n",
    "from sklearn.metrics import accuracy_score\n",
    "\n",
    "from sklearn.model_selection import cross_val_score\n",
    "from sklearn.model_selection import KFold\n",
    "from sklearn.model_selection import GridSearchCV\n",
    "from sklearn.model_selection import RandomizedSearchCV\n",
    "from sklearn.model_selection import StratifiedKFold\n",
    "from sklearn.model_selection import train_test_split\n",
    "\n",
    "from sklearn.pipeline import Pipeline\n",
    "\n",
    "from sklearn.preprocessing import StandardScaler\n",
    "from sklearn.preprocessing import PolynomialFeatures\n",
    "\n",
    "from xgboost import XGBClassifier"
   ]
  },
  {
   "cell_type": "code",
   "execution_count": 6,
   "metadata": {
    "ExecuteTime": {
     "end_time": "2018-04-17T20:06:38.686491Z",
     "start_time": "2018-04-17T20:06:38.581320Z"
    }
   },
   "outputs": [
    {
     "name": "stdout",
     "output_type": "stream",
     "text": [
      "   Id  y         x1         x2        x3        x4        x5        x6  \\\n",
      "0   0  1  21.492417  22.475495  4.051168  6.023558  5.052601  5.664391   \n",
      "1   1  2  25.062431   8.295979  2.880201  4.018839  6.359460  5.756855   \n",
      "2   2  2  35.137688  19.840681  3.943055  5.158265  5.401766  4.077940   \n",
      "3   3  2  16.451959  14.196442  4.600019  5.231278  5.304275  6.075448   \n",
      "4   4  1  18.804761  34.898449  5.487226  6.319400  4.765494  5.747063   \n",
      "5   5  0  37.101886  24.710228  4.007430  4.756808  6.604554  3.326991   \n",
      "6   6  1  29.520023  23.004285  4.231708  4.303871  4.187391  5.230488   \n",
      "7   7  1  24.873782  24.399612  4.111728  5.489592  4.648770  4.906864   \n",
      "8   8  0  42.656583  22.678325  4.494126  2.641785  3.664210  3.893031   \n",
      "9   9  2  35.036192  29.256063  4.903419  3.373599  4.323742  5.251261   \n",
      "\n",
      "         x7        x8         x9        x10        x11        x12        x13  \\\n",
      "0  3.577206  5.077697  22.071242  16.960494  30.862626  32.055150  32.055150   \n",
      "1  3.560095  5.417843  29.925779  14.161765  29.439056  33.111205  33.111205   \n",
      "2  4.741661  6.279194  27.585017  19.707357  30.447598  16.599424  16.599424   \n",
      "3  4.340841  4.554399  28.732052  13.334858  22.742325  36.880900  36.880900   \n",
      "4  4.253686  4.805762  18.470005  23.170549  29.818608  32.998557  32.998557   \n",
      "5  4.532367  6.433699  29.848124  22.398830  19.712570  11.038697  11.038697   \n",
      "6  4.875651  5.814690  29.172798  19.999047  32.415968  27.327830  27.327830   \n",
      "7  3.438605  5.400405  28.203457  19.845426  27.036761  24.047142  24.047142   \n",
      "8  4.448817  6.851801  24.251000  43.202338  27.907760  15.125516  15.125516   \n",
      "9  4.073786  6.271107  29.530750  18.611100  17.968335  27.545573  27.545573   \n",
      "\n",
      "         x14        x15        x16  \n",
      "0  23.938547  34.375529  35.554714  \n",
      "1  22.455204  41.492100  34.248015  \n",
      "2  23.421009  29.171514  34.234587  \n",
      "3  31.438863  28.045910  20.487503  \n",
      "4  31.033532  32.056417  33.721745  \n",
      "5  29.849539  33.901684  49.082860  \n",
      "6  28.587842  20.497062   3.244248  \n",
      "7  25.142121  17.981652  16.640813  \n",
      "8  14.909517  15.296823  -8.657026  \n",
      "9  21.533959  27.284605   3.845832  \n"
     ]
    }
   ],
   "source": [
    "# Load training data CSV using Pandas\n",
    "filename = 'train.csv'\n",
    "data = read_csv(filename, header=0)\n",
    "print(data.head(10))\n",
    "# Separate training data into y and X\n",
    "array = data.values\n",
    "y = array[:, 1]\n",
    "X = array[:, 2:18]"
   ]
  },
  {
   "cell_type": "code",
   "execution_count": 7,
   "metadata": {
    "ExecuteTime": {
     "end_time": "2018-04-17T20:06:40.283873Z",
     "start_time": "2018-04-17T20:06:40.218793Z"
    }
   },
   "outputs": [
    {
     "name": "stdout",
     "output_type": "stream",
     "text": [
      "     Id         x1         x2        x3        x4        x5        x6  \\\n",
      "0  2000  32.736768  35.576213  3.492258  5.092860  6.530447  3.865092   \n",
      "1  2001  33.424490  24.210547  4.937556  5.009089  4.502525  5.044952   \n",
      "2  2002  27.420850  25.151995  4.376612  5.124932  4.671673  5.443406   \n",
      "3  2003  19.488380  21.288925  3.075883  5.898795  5.193245  5.515770   \n",
      "4  2004  25.883480  26.409462  3.195218  4.554671  5.516956  4.993815   \n",
      "5  2005  17.782275  23.322145  2.385396  5.429651  4.659025  5.897511   \n",
      "6  2006  34.065399  27.681502  4.085579  4.889636  5.758321  4.714255   \n",
      "7  2007  36.437052  22.885122  3.849872  5.270903  5.921537  3.927981   \n",
      "8  2008  28.434098  20.398536  3.539433  5.326328  4.809877  5.483700   \n",
      "9  2009  24.772839  29.658550  3.571480  5.734532  4.267985  5.400111   \n",
      "\n",
      "         x7        x8         x9        x10        x11        x12        x13  \\\n",
      "0  3.881205  6.085011  29.973812  19.100617  22.629056  14.908763  14.908763   \n",
      "1  3.578365  6.141260  25.426591  16.523709  26.247147  25.421364  25.421364   \n",
      "2  3.627005  5.631291  28.114573  11.979219  17.101850  29.600500  29.600500   \n",
      "3  5.091256  4.876369  15.206642  37.757426  27.274832  30.393550  30.393550   \n",
      "4  5.795688  5.493093  28.454660  25.425868  18.945396  24.908014  24.908014   \n",
      "5  3.826881  4.698177  22.351080  26.384501  19.629444  34.750461  34.750461   \n",
      "6  4.059830  6.193221  27.058832  15.963712  22.961404  22.194027  22.194027   \n",
      "7  4.630818  6.381821  20.898553  30.492573  15.728536  15.398861  15.398861   \n",
      "8  4.734830  5.720550  24.864959  13.621789  27.777139  30.040797  30.040797   \n",
      "9  4.017020  5.391051  19.927077  26.302920  23.170327  29.131027  29.131027   \n",
      "\n",
      "         x14        x15        x16  \n",
      "0  29.667974  33.438803  48.665427  \n",
      "1  20.349762  31.998328  23.453138  \n",
      "2  15.596183  29.304607  20.720365  \n",
      "3  29.850677  31.284767  32.333717  \n",
      "4  20.839291  23.762107  19.119794  \n",
      "5  22.376646  24.646064  15.175603  \n",
      "6  31.157995  38.567374  40.119685  \n",
      "7  24.102400  38.160950  48.274794  \n",
      "8  32.468345  35.430014  28.985281  \n",
      "9  28.865556  27.509307  21.992861  \n"
     ]
    }
   ],
   "source": [
    "# Load prediction challenge data CSV using Pandas\n",
    "filename = 'test.csv'\n",
    "data_challenge = read_csv(filename, header=0)\n",
    "print(data_challenge.head(10))\n",
    "# Discard Id, name X_test\n",
    "array_challenge = data_challenge.values\n",
    "X_challenge = array_challenge[:, 1:17]"
   ]
  },
  {
   "cell_type": "code",
   "execution_count": 8,
   "metadata": {
    "ExecuteTime": {
     "end_time": "2018-04-17T20:06:44.755184Z",
     "start_time": "2018-04-17T20:06:44.741800Z"
    }
   },
   "outputs": [],
   "source": [
    "# Split given data into train and test set\n",
    "validation_size = 0.2\n",
    "seed = 42\n",
    "X_train, X_test, y_train, y_test = train_test_split(X, y, test_size=validation_size, random_state=seed)"
   ]
  },
  {
   "cell_type": "code",
   "execution_count": 136,
   "metadata": {
    "ExecuteTime": {
     "end_time": "2018-03-27T13:11:26.514823Z",
     "start_time": "2018-03-27T13:11:22.303801Z"
    }
   },
   "outputs": [
    {
     "name": "stdout",
     "output_type": "stream",
     "text": [
      "             0         1         2         3         4         5         6         7         8         9         10  \\\n",
      "count  2000.000  2000.000  2000.000  2000.000  2000.000  2000.000  2000.000  2000.000  2000.000  2000.000  2000.000   \n",
      "mean     29.563    25.043     4.029     5.113     5.131     4.733     4.142     5.761    26.144    21.083    25.188   \n",
      "std       9.008     5.024     0.630     0.821     0.787     0.865     0.635     0.817     4.432     8.342     4.996   \n",
      "min      -4.291     7.095     0.491     1.616     0.953     0.000     0.000     0.000     1.009    -6.662     8.584   \n",
      "25%      23.082    21.820     3.646     4.572     4.622     4.168     3.773     5.232    23.520    15.401    21.888   \n",
      "50%      29.530    24.905     4.082     5.103     5.248     4.774     4.191     5.816    26.264    20.510    25.217   \n",
      "75%      36.632    28.393     4.466     5.701     5.728     5.349     4.586     6.397    28.964    26.006    28.504   \n",
      "max      55.071    42.085     5.762     7.317     6.954     7.195     5.786     7.705    40.153    51.593    42.402   \n",
      "\n",
      "             11        12        13        14        15  \n",
      "count  2000.000  2000.000  2000.000  2000.000  2000.000  \n",
      "mean     23.116    23.116    25.065    28.474    27.899  \n",
      "std       7.954     7.954     5.075     7.565    11.690  \n",
      "min      -0.030    -0.030     9.173     1.907   -17.591  \n",
      "25%      17.339    17.339    21.681    24.073    20.671  \n",
      "50%      22.765    22.765    25.064    29.132    28.497  \n",
      "75%      28.578    28.578    28.487    33.399    35.568  \n",
      "max      51.740    51.740    40.594    52.024    68.537  \n"
     ]
    },
    {
     "data": {
      "image/png": "[encoded data removed]",
      "text/plain": [
       "<Figure size 432x288 with 16 Axes>"
      ]
     },
     "metadata": {},
     "output_type": "display_data"
    },
    {
     "data": {
      "image/png": "[encoded data removed]",
      "text/plain": [
       "<Figure size 432x288 with 18 Axes>"
      ]
     },
     "metadata": {},
     "output_type": "display_data"
    },
    {
     "data": {
      "image/png": "[encoded data removed]",
      "text/plain": [
       "<Figure size 432x288 with 2 Axes>"
      ]
     },
     "metadata": {},
     "output_type": "display_data"
    }
   ],
   "source": [
    "# Initial analysis of training data\n",
    "\n",
    "set_option('display.width', 120)\n",
    "set_option('precision', 3)\n",
    "\n",
    "\n",
    "print(DataFrame(X).describe())\n",
    "\n",
    "DataFrame(X).hist()\n",
    "DataFrame(X).plot(kind='density', subplots=True, layout=(3,6), sharex=False)\n",
    "fig = pyplot.figure()\n",
    "ax = fig.add_subplot(111)\n",
    "cax = ax.matshow(correlations, vmin=-1, vmax=1)\n",
    "fig.colorbar(cax)\n",
    "ticks = np.arange(0,9,1)\n",
    "ax.set_xticks(ticks)\n",
    "ax.set_yticks(ticks)\n",
    "#ax.set_xticklabels(data[0])\n",
    "#ax.set_yticklabels(data[0])\n",
    "pyplot.show()"
   ]
  },
  {
   "cell_type": "code",
   "execution_count": 9,
   "metadata": {
    "ExecuteTime": {
     "end_time": "2018-04-17T20:07:08.170310Z",
     "start_time": "2018-04-17T20:07:08.165276Z"
    }
   },
   "outputs": [],
   "source": [
    "# Make pipeline: mandatory transformations plus other experiments\n",
    "pipeline = Pipeline(memory=None,\n",
    "                    steps=[('std_scaler', StandardScaler()),\n",
    "                           ('poly_features', PolynomialFeatures()),\n",
    "                           ('anova', SelectKBest(f_regression, k=32)), #best: 64 for RandomForest, 32 for DL\n",
    "                           ])"
   ]
  },
  {
   "cell_type": "code",
   "execution_count": 10,
   "metadata": {
    "ExecuteTime": {
     "end_time": "2018-04-17T20:07:15.657850Z",
     "start_time": "2018-04-17T20:07:15.602084Z"
    }
   },
   "outputs": [
    {
     "name": "stderr",
     "output_type": "stream",
     "text": [
      "/usr/local/lib/python3.6/site-packages/sklearn/feature_selection/univariate_selection.py:298: RuntimeWarning: divide by zero encountered in true_divide\n",
      "  corr /= X_norms\n",
      "/usr/local/lib/python3.6/site-packages/sklearn/feature_selection/univariate_selection.py:303: RuntimeWarning: invalid value encountered in true_divide\n",
      "  F = corr ** 2 / (1 - corr ** 2) * degrees_of_freedom\n",
      "/usr/local/lib/python3.6/site-packages/scipy/stats/_distn_infrastructure.py:879: RuntimeWarning: invalid value encountered in greater\n",
      "  return (self.a < x) & (x < self.b)\n",
      "/usr/local/lib/python3.6/site-packages/scipy/stats/_distn_infrastructure.py:879: RuntimeWarning: invalid value encountered in less\n",
      "  return (self.a < x) & (x < self.b)\n",
      "/usr/local/lib/python3.6/site-packages/scipy/stats/_distn_infrastructure.py:1821: RuntimeWarning: invalid value encountered in less_equal\n",
      "  cond2 = cond0 & (x <= self.a)\n"
     ]
    }
   ],
   "source": [
    "pipeline.fit(X_train, y_train)\n",
    "X_train_transformed = pipeline.transform(X_train)\n",
    "X_test_transformed = pipeline.transform(X_test)\n",
    "X_transformed = pipeline.transform(X)\n",
    "X_challenge_transformed = pipeline.transform(X_challenge)"
   ]
  },
  {
   "cell_type": "markdown",
   "metadata": {},
   "source": [
    "## RandomForest"
   ]
  },
  {
   "cell_type": "code",
   "execution_count": 124,
   "metadata": {
    "ExecuteTime": {
     "end_time": "2018-03-27T13:01:25.470518Z",
     "start_time": "2018-03-27T13:01:25.325907Z"
    }
   },
   "outputs": [
    {
     "name": "stdout",
     "output_type": "stream",
     "text": [
      "accuracy: 85.750%\n"
     ]
    }
   ],
   "source": [
    "# RandomForest naive w/o any tuning\n",
    "model = RandomForestClassifier()\n",
    "model.fit(X_train_transformed, y_train)\n",
    "y_pred = model.predict(X_test_transformed)\n",
    "predictions = [round(value) for value in y_pred]\n",
    "accuracy = accuracy_score(y_test, predictions)\n",
    "print(\"accuracy: {:.3f}%\".format(accuracy*100))"
   ]
  },
  {
   "cell_type": "code",
   "execution_count": null,
   "metadata": {},
   "outputs": [],
   "source": [
    "# Tune RandomForest\n",
    "## Grid searchmodel = RandomForestClassifier()\n",
    "model = RandomForestClassifier()\n",
    "\n",
    "n_estimators = [50, 100, 200]\n",
    "max_depth = [5, 10, 20, None]\n",
    "min_samples_split = [2, 4, 8, 16, 32]\n",
    "min_samples_leaf = [1, 2, 4, 8]\n",
    "max_features = ['log2', 'sqrt', None]\n",
    "\n",
    "param_grid = dict(n_estimators=n_estimators, max_features=max_features, max_depth=max_depth, min_samples_split=min_samples_split, min_samples_leaf=min_samples_leaf)\n",
    "print(param_grid)\n",
    "kfold = StratifiedKFold(n_splits=5, shuffle=True, random_state=seed)\n",
    "grid_search = GridSearchCV(model, param_grid, scoring=\"neg_log_loss\", n_jobs=-1, cv=kfold, verbose=1)\n",
    "grid_result = grid_search.fit(X_train_transformed, y_train)\n",
    "# summarize results\n",
    "print(\"Best: {} using {}\".format(grid_result.best_score_, grid_result.best_params_))\n",
    "means = grid_result.cv_results_['mean_test_score']\n",
    "stds = grid_result.cv_results_['std_test_score']\n",
    "params = grid_result.cv_results_['params']\n",
    "\n",
    "for mean, stdev, param in zip(means, stds, params):\n",
    "  print(\"{} ({}) with: {}\".format(mean, stdev, param))# plot\n"
   ]
  },
  {
   "cell_type": "code",
   "execution_count": 130,
   "metadata": {
    "ExecuteTime": {
     "end_time": "2018-03-27T13:05:23.516281Z",
     "start_time": "2018-03-27T13:05:12.883292Z"
    },
    "scrolled": true
   },
   "outputs": [
    {
     "name": "stdout",
     "output_type": "stream",
     "text": [
      "accuracy: 88.375% , std dev: 2.274%\n"
     ]
    }
   ],
   "source": [
    "# RandomForest 10-fold cross val /w manual tuning\n",
    "model = RandomForestClassifier(max_depth=None, max_features='log2', min_samples_leaf=1, min_samples_split=2, n_estimators=200)\n",
    "kfold = KFold(n_splits=10, random_state=seed)\n",
    "results = cross_val_score(model, X_train_transformed, y_train, cv=kfold)\n",
    "print(\"accuracy: {:.3f}% , std dev: {:.3f}%\".format(results.mean()*100, results.std()*100))"
   ]
  },
  {
   "cell_type": "code",
   "execution_count": 131,
   "metadata": {
    "ExecuteTime": {
     "end_time": "2018-03-27T13:05:25.762297Z",
     "start_time": "2018-03-27T13:05:24.193015Z"
    }
   },
   "outputs": [],
   "source": [
    "# Generate prediction RandomForest\n",
    "model = RandomForestClassifier(max_depth=None, max_features='log2', min_samples_leaf=1, min_samples_split=2, n_estimators=200)\n",
    "model.fit(X_transformed, y)\n",
    "y_predict = model.predict(X_challenge_transformed)\n",
    "# Write prediction to output file\n",
    "filename = 'prediction.csv'\n",
    "result = DataFrame(y_predict.astype(np.int32))\n",
    "result.index = result.index + len(data)\n",
    "result.to_csv(filename, index_label='Id', header=['y'])"
   ]
  },
  {
   "cell_type": "markdown",
   "metadata": {
    "ExecuteTime": {
     "end_time": "2018-03-27T16:00:54.604300Z",
     "start_time": "2018-03-27T16:00:54.600570Z"
    }
   },
   "source": [
    "## XGBoost"
   ]
  },
  {
   "cell_type": "code",
   "execution_count": 137,
   "metadata": {
    "ExecuteTime": {
     "end_time": "2018-03-27T13:12:55.831644Z",
     "start_time": "2018-03-27T13:12:54.216675Z"
    }
   },
   "outputs": [
    {
     "name": "stdout",
     "output_type": "stream",
     "text": [
      "[0.06511863 0.00555275 0.09540636 0.02826855 0.         0.01362948\n",
      " 0.05451792 0.00656234 0.         0.         0.02322059 0.02069662\n",
      " 0.01968703 0.01211509 0.00201918 0.00807673 0.00858152 0.00807673\n",
      " 0.00201918 0.01463907 0.02624937 0.02372539 0.01867744 0.04038364\n",
      " 0.0116103  0.         0.06108026 0.01665825 0.02978294 0.0227158\n",
      " 0.00807673 0.03331651 0.00706714 0.         0.00302877 0.01413428\n",
      " 0.02170621 0.01665825 0.01060071 0.0111055  0.00252398 0.01060071\n",
      " 0.00858152 0.         0.01211509 0.00908632 0.         0.01615346\n",
      " 0.02019182 0.01968703 0.00353357 0.         0.00908632 0.01413428\n",
      " 0.0116103  0.01009591 0.01060071 0.01362948 0.         0.01514387\n",
      " 0.         0.         0.03785967 0.01060071]\n"
     ]
    },
    {
     "data": {
      "image/png": "[encoded data removed]",
      "text/plain": [
       "<Figure size 432x288 with 1 Axes>"
      ]
     },
     "metadata": {},
     "output_type": "display_data"
    }
   ],
   "source": [
    "# Plot feature importance\n",
    "model = XGBClassifier()\n",
    "model.fit(X_train_transformed, y_train)\n",
    "# feature importance\n",
    "print(model.feature_importances_)\n",
    "# plot\n",
    "pyplot.bar(range(len(model.feature_importances_)), model.feature_importances_)\n",
    "pyplot.show()"
   ]
  },
  {
   "cell_type": "code",
   "execution_count": 183,
   "metadata": {
    "ExecuteTime": {
     "end_time": "2018-03-27T16:01:44.725401Z",
     "start_time": "2018-03-27T16:01:43.989526Z"
    }
   },
   "outputs": [
    {
     "name": "stdout",
     "output_type": "stream",
     "text": [
      "accuracy: 84.500%\n"
     ]
    },
    {
     "name": "stderr",
     "output_type": "stream",
     "text": [
      "/usr/local/lib/python3.6/site-packages/sklearn/preprocessing/label.py:151: DeprecationWarning: The truth value of an empty array is ambiguous. Returning False, but in future this will result in an error. Use `array.size > 0` to check that an array is not empty.\n",
      "  if diff:\n"
     ]
    }
   ],
   "source": [
    "# XGBoost naive w/o any tuning\n",
    "model = XGBClassifier()\n",
    "model.fit(X_train_transformed, y_train)\n",
    "y_pred = model.predict(X_test_transformed)\n",
    "predictions = [round(value) for value in y_pred]\n",
    "accuracy = accuracy_score(y_test, predictions)\n",
    "print(\"accuracy: {:.3f}%\".format(accuracy*100))"
   ]
  },
  {
   "cell_type": "code",
   "execution_count": 138,
   "metadata": {
    "ExecuteTime": {
     "end_time": "2018-03-27T13:16:52.448984Z",
     "start_time": "2018-03-27T13:13:09.806541Z"
    }
   },
   "outputs": [
    {
     "name": "stdout",
     "output_type": "stream",
     "text": [
      "{'max_depth': [1, 2, 4, 8, 16, 32], 'n_estimators': [50, 100, 200, 400]}\n",
      "Fitting 5 folds for each of 24 candidates, totalling 120 fits\n"
     ]
    },
    {
     "name": "stderr",
     "output_type": "stream",
     "text": [
      "[Parallel(n_jobs=-1)]: Done  42 tasks      | elapsed:   27.4s\n",
      "[Parallel(n_jobs=-1)]: Done 120 out of 120 | elapsed:  3.7min finished\n"
     ]
    }
   ],
   "source": [
    "# Tune XGBoost\n",
    "## Grid searchmodel = XGBClassifier()\n",
    "model = XGBClassifier()\n",
    "\n",
    "n_estimators = [50, 100, 200, 400]\n",
    "max_depth = [1, 2, 4, 8, 16, 32]\n",
    "param_grid = dict(max_depth=max_depth, n_estimators=n_estimators)\n",
    "print(param_grid)\n",
    "kfold = StratifiedKFold(n_splits=5, shuffle=True, random_state=seed)\n",
    "grid_search = GridSearchCV(model, param_grid, scoring=\"neg_log_loss\", n_jobs=-1, cv=kfold, verbose=1)\n",
    "grid_result = grid_search.fit(X_train_transformed, y_train)\n",
    "\n",
    "# Print grid search results\n",
    "print(\"Best: {} using {}\".format(grid_result.best_score_, grid_result.best_params_))\n",
    "means = grid_result.cv_results_['mean_test_score']\n",
    "stds = grid_result.cv_results_['std_test_score']\n",
    "params = grid_result.cv_results_['params']\n",
    "\n",
    "for mean, stdev, param in zip(means, stds, params):\n",
    "  print(\"{} ({}) with: {}\".format(mean, stdev, param))# plot"
   ]
  },
  {
   "cell_type": "code",
   "execution_count": null,
   "metadata": {},
   "outputs": [],
   "source": [
    "# XGBoost 10-fold cross val /w tuning\n",
    "model = XGBClassifier(max_depth=4, n_estimators=100, learning_rate=0.01, subsample=1.0, gamma=1.0, colsample_bytree=1.0, reg_lambda=0.1, reg_alpha=0.5, min_child_weight=1, silent=False)\n",
    "kfold = KFold(n_splits=10, random_state=seed)\n",
    "results = cross_val_score(model, X_train_transformed, y_train, cv=kfold)\n",
    "print(\"CV: accuracy: {:.3f}% , std dev: {:.3f}%\".format(results.mean()*100, results.std()*100))"
   ]
  },
  {
   "cell_type": "code",
   "execution_count": 142,
   "metadata": {
    "ExecuteTime": {
     "end_time": "2018-03-27T13:21:03.642587Z",
     "start_time": "2018-03-27T13:20:58.755642Z"
    }
   },
   "outputs": [
    {
     "name": "stderr",
     "output_type": "stream",
     "text": [
      "/usr/local/lib/python3.6/site-packages/sklearn/preprocessing/label.py:151: DeprecationWarning: The truth value of an empty array is ambiguous. Returning False, but in future this will result in an error. Use `array.size > 0` to check that an array is not empty.\n",
      "  if diff:\n"
     ]
    }
   ],
   "source": [
    "# Generate prediction XGBoost\n",
    "model = XGBClassifier(max_depth=4, n_estimators=100, learning_rate=0.01, subsample=1.0, gamma=1.0, colsample_bytree=1.0, reg_lambda=0.1, reg_alpha=0.5, min_child_weight=1, silent=False)\n",
    "model.fit(X_transformed, y)\n",
    "y_predict = model.predict(X_challenge_transformed)\n",
    "# Write prediction to output file\n",
    "filename = 'prediction_XGBoost.csv'\n",
    "result = DataFrame(y_predict.astype(np.int32))\n",
    "result.index = result.index + len(data)\n",
    "result.to_csv(filename, index_label='Id', header=['y'])"
   ]
  },
  {
   "cell_type": "markdown",
   "metadata": {},
   "source": [
    "## Deep Learning with Keras"
   ]
  },
  {
   "cell_type": "code",
   "execution_count": 180,
   "metadata": {
    "ExecuteTime": {
     "end_time": "2018-03-27T15:49:09.605165Z",
     "start_time": "2018-03-27T15:48:46.547075Z"
    },
    "scrolled": false
   },
   "outputs": [
    {
     "name": "stdout",
     "output_type": "stream",
     "text": [
      "Epoch 1/100\n",
      "1600/1600 [==============================] - 1s 371us/step - loss: 1.1830 - acc: 0.4356\n",
      "Epoch 2/100\n",
      "1600/1600 [==============================] - 0s 77us/step - loss: 0.8212 - acc: 0.6519\n",
      "Epoch 3/100\n",
      "1600/1600 [==============================] - 0s 92us/step - loss: 0.6703 - acc: 0.7356\n",
      "Epoch 4/100\n",
      "1600/1600 [==============================] - 0s 73us/step - loss: 0.6024 - acc: 0.7762\n",
      "Epoch 5/100\n",
      "1600/1600 [==============================] - 0s 92us/step - loss: 0.5610 - acc: 0.7944\n",
      "Epoch 6/100\n",
      "1600/1600 [==============================] - 0s 76us/step - loss: 0.5408 - acc: 0.8069\n",
      "Epoch 7/100\n",
      "1600/1600 [==============================] - 0s 98us/step - loss: 0.5152 - acc: 0.8100\n",
      "Epoch 8/100\n",
      "1600/1600 [==============================] - 0s 74us/step - loss: 0.5019 - acc: 0.8106\n",
      "Epoch 9/100\n",
      "1600/1600 [==============================] - 0s 104us/step - loss: 0.4849 - acc: 0.8256\n",
      "Epoch 10/100\n",
      "1600/1600 [==============================] - 0s 73us/step - loss: 0.4664 - acc: 0.8387\n",
      "Epoch 11/100\n",
      "1600/1600 [==============================] - 0s 123us/step - loss: 0.4638 - acc: 0.8275\n",
      "Epoch 12/100\n",
      "1600/1600 [==============================] - 0s 139us/step - loss: 0.4313 - acc: 0.8463\n",
      "Epoch 13/100\n",
      "1600/1600 [==============================] - 0s 196us/step - loss: 0.4398 - acc: 0.8362\n",
      "Epoch 14/100\n",
      "1600/1600 [==============================] - 0s 144us/step - loss: 0.4370 - acc: 0.8444\n",
      "Epoch 15/100\n",
      "1600/1600 [==============================] - 0s 89us/step - loss: 0.4341 - acc: 0.8475\n",
      "Epoch 16/100\n",
      "1600/1600 [==============================] - 0s 84us/step - loss: 0.4183 - acc: 0.8481\n",
      "Epoch 17/100\n",
      "1600/1600 [==============================] - 0s 119us/step - loss: 0.4137 - acc: 0.8463\n",
      "Epoch 18/100\n",
      "1600/1600 [==============================] - 0s 181us/step - loss: 0.3911 - acc: 0.8525\n",
      "Epoch 19/100\n",
      "1600/1600 [==============================] - 0s 103us/step - loss: 0.3797 - acc: 0.8638\n",
      "Epoch 20/100\n",
      "1600/1600 [==============================] - 0s 76us/step - loss: 0.3686 - acc: 0.8687\n",
      "Epoch 21/100\n",
      "1600/1600 [==============================] - 0s 104us/step - loss: 0.3922 - acc: 0.8675\n",
      "Epoch 22/100\n",
      "1600/1600 [==============================] - 0s 117us/step - loss: 0.3691 - acc: 0.8738\n",
      "Epoch 23/100\n",
      "1600/1600 [==============================] - 0s 146us/step - loss: 0.3759 - acc: 0.8756\n",
      "Epoch 24/100\n",
      "1600/1600 [==============================] - 0s 135us/step - loss: 0.3706 - acc: 0.8638\n",
      "Epoch 25/100\n",
      "1600/1600 [==============================] - 0s 127us/step - loss: 0.3583 - acc: 0.8700\n",
      "Epoch 26/100\n",
      "1600/1600 [==============================] - 0s 139us/step - loss: 0.3583 - acc: 0.8769\n",
      "Epoch 27/100\n",
      "1600/1600 [==============================] - 0s 117us/step - loss: 0.3536 - acc: 0.8719\n",
      "Epoch 28/100\n",
      "1600/1600 [==============================] - 0s 151us/step - loss: 0.3338 - acc: 0.8775\n",
      "Epoch 29/100\n",
      "1600/1600 [==============================] - 0s 165us/step - loss: 0.3449 - acc: 0.8719\n",
      "Epoch 30/100\n",
      "1600/1600 [==============================] - 0s 114us/step - loss: 0.3481 - acc: 0.8687\n",
      "Epoch 31/100\n",
      "1600/1600 [==============================] - 0s 171us/step - loss: 0.3440 - acc: 0.8731\n",
      "Epoch 32/100\n",
      "1600/1600 [==============================] - 0s 172us/step - loss: 0.3536 - acc: 0.8762\n",
      "Epoch 33/100\n",
      "1600/1600 [==============================] - 0s 165us/step - loss: 0.3361 - acc: 0.8850\n",
      "Epoch 34/100\n",
      "1600/1600 [==============================] - 0s 131us/step - loss: 0.3198 - acc: 0.8931\n",
      "Epoch 35/100\n",
      "1600/1600 [==============================] - 0s 109us/step - loss: 0.3285 - acc: 0.8862\n",
      "Epoch 36/100\n",
      "1600/1600 [==============================] - 0s 167us/step - loss: 0.3161 - acc: 0.8856\n",
      "Epoch 37/100\n",
      "1600/1600 [==============================] - 0s 149us/step - loss: 0.3134 - acc: 0.8844\n",
      "Epoch 38/100\n",
      "1600/1600 [==============================] - 0s 119us/step - loss: 0.3286 - acc: 0.8856\n",
      "Epoch 39/100\n",
      "1600/1600 [==============================] - 0s 193us/step - loss: 0.3196 - acc: 0.8819\n",
      "Epoch 40/100\n",
      "1600/1600 [==============================] - 0s 157us/step - loss: 0.3203 - acc: 0.8800\n",
      "Epoch 41/100\n",
      "1600/1600 [==============================] - 0s 127us/step - loss: 0.3040 - acc: 0.8987\n",
      "Epoch 42/100\n",
      "1600/1600 [==============================] - 0s 182us/step - loss: 0.3125 - acc: 0.8881\n",
      "Epoch 43/100\n",
      "1600/1600 [==============================] - 0s 134us/step - loss: 0.2982 - acc: 0.8962\n",
      "Epoch 44/100\n",
      "1600/1600 [==============================] - 0s 159us/step - loss: 0.3082 - acc: 0.8869\n",
      "Epoch 45/100\n",
      "1600/1600 [==============================] - 0s 123us/step - loss: 0.2878 - acc: 0.8919\n",
      "Epoch 46/100\n",
      "1600/1600 [==============================] - 0s 123us/step - loss: 0.2984 - acc: 0.8931\n",
      "Epoch 47/100\n",
      "1600/1600 [==============================] - 0s 109us/step - loss: 0.3004 - acc: 0.8938\n",
      "Epoch 48/100\n",
      "1600/1600 [==============================] - 0s 160us/step - loss: 0.2968 - acc: 0.8981\n",
      "Epoch 49/100\n",
      "1600/1600 [==============================] - 0s 154us/step - loss: 0.2955 - acc: 0.8956\n",
      "Epoch 50/100\n",
      "1600/1600 [==============================] - 0s 144us/step - loss: 0.2996 - acc: 0.8969\n",
      "Epoch 51/100\n",
      "1600/1600 [==============================] - 0s 158us/step - loss: 0.2920 - acc: 0.8912\n",
      "Epoch 52/100\n",
      "1600/1600 [==============================] - 0s 97us/step - loss: 0.2782 - acc: 0.8931\n",
      "Epoch 53/100\n",
      "1600/1600 [==============================] - 0s 164us/step - loss: 0.2867 - acc: 0.9012\n",
      "Epoch 54/100\n",
      "1600/1600 [==============================] - 0s 174us/step - loss: 0.2957 - acc: 0.8944\n",
      "Epoch 55/100\n",
      "1600/1600 [==============================] - 0s 122us/step - loss: 0.2834 - acc: 0.8981\n",
      "Epoch 56/100\n",
      "1600/1600 [==============================] - 0s 167us/step - loss: 0.2733 - acc: 0.9062\n",
      "Epoch 57/100\n",
      "1600/1600 [==============================] - 0s 160us/step - loss: 0.2675 - acc: 0.8969\n",
      "Epoch 58/100\n",
      "1600/1600 [==============================] - 0s 115us/step - loss: 0.2686 - acc: 0.9050\n",
      "Epoch 59/100\n",
      "1600/1600 [==============================] - 0s 92us/step - loss: 0.2733 - acc: 0.8938\n",
      "Epoch 60/100\n",
      "1600/1600 [==============================] - 0s 113us/step - loss: 0.2633 - acc: 0.9000\n",
      "Epoch 61/100\n",
      "1600/1600 [==============================] - 0s 205us/step - loss: 0.2548 - acc: 0.9075\n",
      "Epoch 62/100\n",
      "1600/1600 [==============================] - 0s 169us/step - loss: 0.2758 - acc: 0.9037\n",
      "Epoch 63/100\n",
      "1600/1600 [==============================] - 0s 131us/step - loss: 0.2751 - acc: 0.9050\n",
      "Epoch 64/100\n",
      "1600/1600 [==============================] - 0s 139us/step - loss: 0.2763 - acc: 0.9019\n",
      "Epoch 65/100\n",
      "1600/1600 [==============================] - 0s 196us/step - loss: 0.2600 - acc: 0.9088\n",
      "Epoch 66/100\n",
      "1600/1600 [==============================] - 0s 126us/step - loss: 0.2782 - acc: 0.9050\n",
      "Epoch 67/100\n",
      "1600/1600 [==============================] - 0s 104us/step - loss: 0.2627 - acc: 0.8975\n",
      "Epoch 68/100\n",
      "1600/1600 [==============================] - 0s 95us/step - loss: 0.2684 - acc: 0.8981\n",
      "Epoch 69/100\n",
      "1600/1600 [==============================] - 0s 101us/step - loss: 0.2602 - acc: 0.9069\n",
      "Epoch 70/100\n",
      "1600/1600 [==============================] - 0s 109us/step - loss: 0.2546 - acc: 0.9037\n",
      "Epoch 71/100\n",
      "1600/1600 [==============================] - 0s 142us/step - loss: 0.2570 - acc: 0.9031\n",
      "Epoch 72/100\n",
      "1600/1600 [==============================] - 0s 162us/step - loss: 0.2658 - acc: 0.9025\n",
      "Epoch 73/100\n",
      "1600/1600 [==============================] - 0s 136us/step - loss: 0.2518 - acc: 0.9081\n",
      "Epoch 74/100\n",
      "1600/1600 [==============================] - 0s 162us/step - loss: 0.2527 - acc: 0.9088\n",
      "Epoch 75/100\n",
      "1600/1600 [==============================] - 0s 134us/step - loss: 0.2444 - acc: 0.9088\n",
      "Epoch 76/100\n",
      "1600/1600 [==============================] - 0s 99us/step - loss: 0.2263 - acc: 0.9187\n",
      "Epoch 77/100\n",
      "1600/1600 [==============================] - 0s 138us/step - loss: 0.2558 - acc: 0.9131\n",
      "Epoch 78/100\n",
      "1600/1600 [==============================] - 0s 124us/step - loss: 0.2428 - acc: 0.9156\n",
      "Epoch 79/100\n",
      "1600/1600 [==============================] - 0s 114us/step - loss: 0.2372 - acc: 0.9113\n",
      "Epoch 80/100\n",
      "1600/1600 [==============================] - 0s 110us/step - loss: 0.2509 - acc: 0.9050\n",
      "Epoch 81/100\n",
      "1600/1600 [==============================] - 0s 127us/step - loss: 0.2438 - acc: 0.9037\n",
      "Epoch 82/100\n",
      "1600/1600 [==============================] - 0s 120us/step - loss: 0.2462 - acc: 0.9044\n",
      "Epoch 83/100\n",
      "1600/1600 [==============================] - 0s 112us/step - loss: 0.2339 - acc: 0.9150\n",
      "Epoch 84/100\n",
      "1600/1600 [==============================] - 0s 82us/step - loss: 0.2569 - acc: 0.9081\n",
      "Epoch 85/100\n",
      "1600/1600 [==============================] - 0s 96us/step - loss: 0.2432 - acc: 0.9050\n",
      "Epoch 86/100\n",
      "1600/1600 [==============================] - 0s 190us/step - loss: 0.2498 - acc: 0.9106\n",
      "Epoch 87/100\n",
      "1600/1600 [==============================] - 0s 119us/step - loss: 0.2331 - acc: 0.9181\n",
      "Epoch 88/100\n",
      "1600/1600 [==============================] - 0s 137us/step - loss: 0.2399 - acc: 0.9150\n",
      "Epoch 89/100\n",
      "1600/1600 [==============================] - 0s 136us/step - loss: 0.2310 - acc: 0.9081\n",
      "Epoch 90/100\n",
      "1600/1600 [==============================] - 0s 196us/step - loss: 0.2215 - acc: 0.9144\n",
      "Epoch 91/100\n",
      "1600/1600 [==============================] - 0s 104us/step - loss: 0.2294 - acc: 0.9138\n",
      "Epoch 92/100\n",
      "1600/1600 [==============================] - 0s 84us/step - loss: 0.2386 - acc: 0.9062\n",
      "Epoch 93/100\n",
      "1600/1600 [==============================] - 0s 120us/step - loss: 0.2339 - acc: 0.9144\n",
      "Epoch 94/100\n",
      "1600/1600 [==============================] - 0s 171us/step - loss: 0.2403 - acc: 0.9131\n",
      "Epoch 95/100\n",
      "1600/1600 [==============================] - 0s 125us/step - loss: 0.2349 - acc: 0.9156\n",
      "Epoch 96/100\n",
      "1600/1600 [==============================] - 0s 114us/step - loss: 0.2295 - acc: 0.9156\n",
      "Epoch 97/100\n",
      "1600/1600 [==============================] - 0s 95us/step - loss: 0.2287 - acc: 0.9094\n",
      "Epoch 98/100\n",
      "1600/1600 [==============================] - 0s 103us/step - loss: 0.2385 - acc: 0.9131\n",
      "Epoch 99/100\n",
      "1600/1600 [==============================] - 0s 101us/step - loss: 0.2247 - acc: 0.9206\n",
      "Epoch 100/100\n",
      "1600/1600 [==============================] - 0s 102us/step - loss: 0.2284 - acc: 0.9144\n",
      "400/400 [==============================] - 0s 1ms/step\n"
     ]
    }
   ],
   "source": [
    "import keras\n",
    "from keras.models import Sequential\n",
    "from keras.layers import Dense, Dropout, Activation\n",
    "from keras.optimizers import SGD\n",
    "\n",
    "y_train_categorical = keras.utils.to_categorical(y_train, num_classes=3)\n",
    "y_test_categorical = keras.utils.to_categorical(y_test, num_classes=3)\n",
    "y_categorical = keras.utils.to_categorical(y, num_classes=3)\n",
    "\n",
    "\n",
    "model = Sequential()\n",
    "\n",
    "model.add(Dense(128, activation='relu', input_dim=32))\n",
    "model.add(Dropout(0.5))\n",
    "model.add(Dense(64, activation='relu'))\n",
    "model.add(Dropout(0.5))\n",
    "model.add(Dense(3, activation='softmax'))\n",
    "\n",
    "sgd = SGD(lr=0.01, decay=1e-6, momentum=0.9, nesterov=True)\n",
    "model.compile(loss='categorical_crossentropy',\n",
    "              optimizer=sgd,\n",
    "              metrics=['accuracy'])\n",
    "\n",
    "model.fit(X_train_transformed, y_train_categorical,\n",
    "          epochs=100,\n",
    "          batch_size=64)\n",
    "score = model.evaluate(X_test_transformed, y_test_categorical, batch_size=64)"
   ]
  },
  {
   "cell_type": "code",
   "execution_count": 181,
   "metadata": {
    "ExecuteTime": {
     "end_time": "2018-03-27T15:49:13.648502Z",
     "start_time": "2018-03-27T15:49:13.370457Z"
    },
    "scrolled": false
   },
   "outputs": [],
   "source": [
    "# Generate prediction\n",
    "y_predict = model.predict(X_challenge_transformed)\n",
    "\n",
    "# Write prediction to output file\n",
    "filename = 'prediction_MLP.csv'\n",
    "result = DataFrame(np.argmax(y_predict, axis=1))\n",
    "result.index = result.index + len(data)\n",
    "result.to_csv(filename, index_label='Id', header=['y'])"
   ]
  },
  {
   "cell_type": "markdown",
   "metadata": {},
   "source": [
    "## DeepSuperLearner"
   ]
  },
  {
   "cell_type": "code",
   "execution_count": 3,
   "metadata": {
    "ExecuteTime": {
     "end_time": "2018-04-17T20:06:30.582030Z",
     "start_time": "2018-04-17T20:06:30.577692Z"
    }
   },
   "outputs": [],
   "source": [
    "from sklearn.ensemble.forest import ExtraTreesClassifier as ExtremeRandomizedTrees\n",
    "from sklearn.neighbors import KNeighborsClassifier as kNearestNeighbors\n",
    "from sklearn.linear_model import LogisticRegression\n",
    "from sklearn.ensemble.forest import RandomForestClassifier\n",
    "from xgboost.sklearn import XGBClassifier\n",
    "from deepSuperLearner import *\n",
    "from sklearn.model_selection import train_test_split\n",
    "import numpy as np"
   ]
  },
  {
   "cell_type": "code",
   "execution_count": 4,
   "metadata": {
    "ExecuteTime": {
     "end_time": "2018-04-17T20:06:31.687111Z",
     "start_time": "2018-04-17T20:06:31.680894Z"
    }
   },
   "outputs": [],
   "source": [
    "ERT_learner = ExtremeRandomizedTrees(n_estimators=200, max_depth=None, max_features=1)\n",
    "kNN_learner = kNearestNeighbors(n_neighbors=11)\n",
    "LR_learner = LogisticRegression()\n",
    "RFC_learner = RandomForestClassifier(n_estimators=200, max_depth=None)\n",
    "XGB_learner = XGBClassifier(n_estimators=200, max_depth=3, learning_rate=1.)\n",
    "Base_learners = {'ExtremeRandomizedTrees':ERT_learner, 'kNearestNeighbors':kNN_learner, 'LogisticRegression':LR_learner,\n",
    "                 'RandomForestClassifier':RFC_learner, 'XGBClassifier':XGB_learner}\n",
    "\n",
    "np.random.seed(100)"
   ]
  },
  {
   "cell_type": "code",
   "execution_count": 22,
   "metadata": {
    "ExecuteTime": {
     "end_time": "2018-04-17T20:15:25.111918Z",
     "start_time": "2018-04-17T20:15:01.619892Z"
    }
   },
   "outputs": [
    {
     "name": "stdout",
     "output_type": "stream",
     "text": [
      "Iteration: 0 Loss: 0.30892580393262603\n",
      "Weights:  [0.         0.288789   0.14519638 0.09970447 0.46631016]\n",
      "Iteration: 1 Loss: 0.31509474849693225\n",
      "Weights:  [0.         0.25692991 0.5418096  0.20126049 0.        ]\n",
      "accuracy: 89.000%\n"
     ]
    }
   ],
   "source": [
    "DSL_learner = DeepSuperLearner(Base_learners)\n",
    "DSL_learner.fit(X_train_transformed, y_train, max_iterations=40, sample_weight=None)\n",
    "y_pred = DSL_learner.predict(X_test_transformed)\n",
    "\n",
    "predictions = np.argmax(y_pred, axis=1)\n",
    "\n",
    "accuracy = accuracy_score(y_test, predictions)\n",
    "print(\"accuracy: {:.3f}%\".format(accuracy*100))"
   ]
  },
  {
   "cell_type": "code",
   "execution_count": 23,
   "metadata": {
    "ExecuteTime": {
     "end_time": "2018-04-17T20:16:09.542437Z",
     "start_time": "2018-04-17T20:16:07.243999Z"
    }
   },
   "outputs": [],
   "source": [
    "# Generate prediction\n",
    "y_predict = DSL_learner.predict(X_challenge_transformed)\n",
    "\n",
    "# Write prediction to output file\n",
    "filename = 'prediction_DSL.csv'\n",
    "result = DataFrame(np.argmax(y_predict, axis=1))\n",
    "result.index = result.index + len(data)\n",
    "result.to_csv(filename, index_label='Id', header=['y'])"
   ]
  },
  {
   "cell_type": "code",
   "execution_count": null,
   "metadata": {},
   "outputs": [],
   "source": []
  }
 ],
 "metadata": {
  "kernelspec": {
   "display_name": "Python 3",
   "language": "python",
   "name": "python3"
  },
  "language_info": {
   "codemirror_mode": {
    "name": "ipython",
    "version": 3
   },
   "file_extension": ".py",
   "mimetype": "text/x-python",
   "name": "python",
   "nbconvert_exporter": "python",
   "pygments_lexer": "ipython3",
   "version": "3.6.5"
  },
  "latex_envs": {
   "LaTeX_envs_menu_present": true,
   "autoclose": false,
   "autocomplete": true,
   "bibliofile": "biblio.bib",
   "cite_by": "apalike",
   "current_citInitial": 1,
   "eqLabelWithNumbers": true,
   "eqNumInitial": 1,
   "hotkeys": {
    "equation": "Ctrl-E",
    "itemize": "Ctrl-I"
   },
   "labels_anchors": false,
   "latex_user_defs": false,
   "report_style_numbering": false,
   "user_envs_cfg": false
  },
  "toc": {
   "nav_menu": {},
   "number_sections": true,
   "sideBar": true,
   "skip_h1_title": false,
   "title_cell": "Table of Contents",
   "title_sidebar": "Contents",
   "toc_cell": false,
   "toc_position": {},
   "toc_section_display": true,
   "toc_window_display": false
  },
  "varInspector": {
   "cols": {
    "lenName": 16,
    "lenType": 16,
    "lenVar": 40
   },
   "kernels_config": {
    "python": {
     "delete_cmd_postfix": "",
     "delete_cmd_prefix": "del ",
     "library": "var_list.py",
     "varRefreshCmd": "print(var_dic_list())"
    },
    "r": {
     "delete_cmd_postfix": ") ",
     "delete_cmd_prefix": "rm(",
     "library": "var_list.r",
     "varRefreshCmd": "cat(var_dic_list()) "
    }
   },
   "types_to_exclude": [
    "module",
    "function",
    "builtin_function_or_method",
    "instance",
    "_Feature"
   ],
   "window_display": false
  }
 },
 "nbformat": 4,
 "nbformat_minor": 2
}
