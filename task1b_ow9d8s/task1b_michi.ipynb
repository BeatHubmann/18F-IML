{
 "cells": [
  {
   "cell_type": "code",
   "execution_count": 115,
   "metadata": {},
   "outputs": [],
   "source": [
    "import numpy as np\n",
    "import pandas as pd\n",
    "from sklearn.metrics import mean_squared_error\n",
    "\n",
    "from sklearn.linear_model import ElasticNet\n",
    " \n",
    "from sklearn import datasets, linear_model, kernel_ridge\n",
    "from sklearn.model_selection import train_test_split\n",
    "from sklearn.model_selection import KFold\n",
    "from sklearn.model_selection import LeaveOneOut \n",
    "\n",
    "from sklearn.model_selection import cross_val_score\n",
    "\n"
   ]
  },
  {
   "cell_type": "code",
   "execution_count": 116,
   "metadata": {},
   "outputs": [],
   "source": [
    "# Load training data CSV using Pandas\n",
    "filename = 'train.csv'\n",
    "data = pd.read_csv(filename, header=0)\n",
    "# Separate training data into Y and X\n",
    "array = data.values\n",
    "Y = array[:, 1]\n",
    "X = array[:, 2:7]"
   ]
  },
  {
   "cell_type": "code",
   "execution_count": 117,
   "metadata": {},
   "outputs": [],
   "source": [
    "def phi(i, x):\n",
    "    if(i == 0):\n",
    "        return x\n",
    "        \n",
    "    elif(i == 1):\n",
    "        return x**2\n",
    "        \n",
    "    elif(i == 2):\n",
    "        return np.exp(x)\n",
    "        \n",
    "    elif(i == 3):\n",
    "        return np.cos(x)\n",
    "        \n",
    "    else:\n",
    "        return 1\n",
    "    \n",
    "def transformFeatures(X):\n",
    "    \n",
    "    XTransformed = []\n",
    "    \n",
    "    for i in range(4):        \n",
    "        for j in range(5):\n",
    "            XTransformed.append(phi(i, X[j]))\n",
    "            \n",
    "    XTransformed.append(1)\n",
    "        \n",
    "    return np.array(XTransformed)\n",
    "\n",
    "def transformInput(X):\n",
    "    \n",
    "    XTransformed = []\n",
    "    \n",
    "    for row in X:\n",
    "        XTransformed.append(transformFeatures(row))\n",
    "        \n",
    "    return np.array(XTransformed)\n",
    "\n",
    "XTransformed = transformInput(X)\n",
    "            \n",
    "        \n",
    "        "
   ]
  },
  {
   "cell_type": "code",
   "execution_count": 122,
   "metadata": {},
   "outputs": [
    {
     "name": "stderr",
     "output_type": "stream",
     "text": [
      "C:\\Users\\Michael\\Anaconda3\\lib\\site-packages\\sklearn\\linear_model\\coordinate_descent.py:491: ConvergenceWarning: Objective did not converge. You might want to increase the number of iterations. Fitting data with very small alpha may cause precision problems.\n",
      "  ConvergenceWarning)\n"
     ]
    },
    {
     "name": "stdout",
     "output_type": "stream",
     "text": [
      "best error:\n",
      "10.519515752923173\n",
      "best lambda:\n",
      "0.09999999999999999\n",
      "best Radius:\n",
      "0.0\n",
      "best degree:\n",
      "0\n",
      "[-0.          1.14167419 -1.11712499  5.13713543 -1.73383613 -0.\n",
      "  0.         -0.          1.23663273 -0.         -0.2212895  -3.17906621\n",
      " -0.02636211  0.00753895 -0.22968244  0.         -0.          0.\n",
      " -0.          0.         -0.        ]\n"
     ]
    }
   ],
   "source": [
    "def RegressionWithCv(X, Y, model):\n",
    "    kf = KFold(10, shuffle=False)#Evtl würde shuffle=True bessere Werte geben \n",
    "    err = 0\n",
    "    i = 0\n",
    "    for train_index, test_index in kf.split(X):\n",
    "        X_train, X_test = X[train_index], X[test_index]\n",
    "        y_train, y_test = Y[train_index], Y[test_index]\n",
    "        model.fit(X_train, y_train) # we think fit resets the initial weigh vector. but not sure...\n",
    "        y_eval = model.predict(X_test)\n",
    "        err += mean_squared_error(y_test, y_eval)**0.5\n",
    "        i += 1\n",
    "    return err/i\n",
    "\n",
    "r = np.arange(0.01, 1, 0.01)\n",
    "lambdas = [*r]\n",
    "r = np.arange(0,1,0.01)\n",
    "radii = [*r]\n",
    "r = np.arange(0,1,1)\n",
    "degrees = [*r]\n",
    "\n",
    "kernelString = \"polynomial\"\n",
    "\n",
    "bestLambda = -1\n",
    "bestRadius = -1\n",
    "bestDegree = -1\n",
    "rmbs = []\n",
    "currentBest = float(\"inf\")\n",
    "for l in lambdas: \n",
    "    for h in radii:\n",
    "        for d in degrees:\n",
    "            #model = linear_model.Ridge(alpha = l, fit_intercept=False, random_state=3) \n",
    "            model = linear_model.Lasso(alpha = l, fit_intercept=False, normalize = False, random_state=3)\n",
    "            #model = kernel_ridge.KernelRidge(alpha = l, kernel= kernelString, gamma = h, degree = d, coef0 = 1, kernel_params=None)\n",
    "            #model = ElasticNet(alpha = l, l1_ratio = h)\n",
    "            tmpError = RegressionWithCv(XTransformed, Y, model)\n",
    "            if (tmpError < currentBest):\n",
    "                currentBest = tmpError\n",
    "                bestLambda = l\n",
    "                bestRadius = h\n",
    "                bestDegree = d\n",
    "            \n",
    "            rmbs.append(tmpError)\n",
    "    \n",
    "\n",
    "print(\"best error:\")\n",
    "print(currentBest)\n",
    "  \n",
    "print(\"best lambda:\")\n",
    "print(bestLambda)\n",
    "\n",
    "print(\"best Radius:\")\n",
    "print(bestRadius)\n",
    "\n",
    "print(\"best degree:\")\n",
    "print(bestDegree)\n",
    "\n",
    "\n",
    "#model = linear_model.Ridge(alpha = bestLambda, fit_intercept=False, random_state=3)model = linear_model.Lasso(alpha = bestLambda, fit_intercept=False, normalize = False, tol = 0.000001, random_state=3)\n",
    "#model = kernel_ridge.KernelRidge(alpha = bestLambda, kernel= kernelString, gamma = bestRadius, degree = bestDegree, coef0 = 1, kernel_params=None)\n",
    "##model = ElasticNet(alpha = bestLambda, l1_ratio = bestRadius)\n",
    "model.fit(XTransformed, Y)\n",
    "\n",
    "\n",
    "result = model.coef_\n",
    "#result = np.dot(XTransformed.transpose(), model.dual_coef_)\n",
    "print(result)\n"
   ]
  },
  {
   "cell_type": "code",
   "execution_count": 113,
   "metadata": {},
   "outputs": [],
   "source": [
    "filename = 'result.csv'\n",
    "final_result = pd.DataFrame(result)\n",
    "final_result.to_csv(filename, header=False, index=False) "
   ]
  },
  {
   "cell_type": "code",
   "execution_count": null,
   "metadata": {},
   "outputs": [],
   "source": []
  }
 ],
 "metadata": {
  "kernelspec": {
   "display_name": "Python 3",
   "language": "python",
   "name": "python3"
  },
  "language_info": {
   "codemirror_mode": {
    "name": "ipython",
    "version": 3
   },
   "file_extension": ".py",
   "mimetype": "text/x-python",
   "name": "python",
   "nbconvert_exporter": "python",
   "pygments_lexer": "ipython3",
   "version": "3.6.4"
  }
 },
 "nbformat": 4,
 "nbformat_minor": 2
}
